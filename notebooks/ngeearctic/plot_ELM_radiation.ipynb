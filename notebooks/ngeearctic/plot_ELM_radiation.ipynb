{
 "cells": [
  {
   "cell_type": "markdown",
   "id": "9a38c97d-78a9-430e-8eeb-a80cc9df63ce",
   "metadata": {
    "tags": []
   },
   "source": [
    "<center><img src=\"https://github.com/FASSt-simulation/fasst_simulation_tools/raw/main/images/site-logo.png\" width=150 height=150 alt=\"NGEE-Arctic Logo\"/></center>\n",
    "\n",
    "# Tutorial: *Exploring radiation components of ELM Simulations at NGEE Sites*\n",
    "This tutorial explores the radiation components of ELM simulations at one of the four [NGEE-Arctic](https://ngee-arctic.ornl.gov/) study sites.\n"
   ]
  },
  {
   "cell_type": "markdown",
   "id": "ecf6299a-9979-416f-b1fb-b1c2e37c599d",
   "metadata": {},
   "source": [
    "#### ----------------------------------------------------------------------------------------------------------------------\n",
    "\n",
    "<br>\n",
    "\n",
    "#### To run this script and generate the resulting ELM plots we need specific Python libraries.  This step loads those required libraries"
   ]
  },
  {
   "cell_type": "code",
   "execution_count": null,
   "id": "2730175a-7bc3-4253-b72c-46b85c908d71",
   "metadata": {},
   "outputs": [],
   "source": [
    "# Load the required Python libraries\n",
    "\n",
    "import matplotlib.pyplot as plt\n",
    "import xarray\n",
    "from netCDF4 import Dataset \n",
    "import os\n",
    "import cftime\n",
    "import ipywidgets as widgets\n",
    "import glob, numpy"
   ]
  },
  {
   "cell_type": "markdown",
   "id": "5c2de695-6072-4ac6-9b10-f05b82dc8a50",
   "metadata": {},
   "source": [
    "<br>\n",
    "\n",
    "#### This step identifies all of the previous ELM cases that are stored in your output location then creates a list to select the output by site"
   ]
  },
  {
   "cell_type": "code",
   "execution_count": null,
   "id": "2ec8d759-218d-4bf2-89e4-3449ba6da1e1",
   "metadata": {},
   "outputs": [],
   "source": [
    "# Create case run output directories\n",
    "\n",
    "output_rootdir=os.path.expanduser('~')+'/output/cime_run_dirs/'\n",
    "cases=numpy.asarray(glob.glob(\"%s*20TR*\" % output_rootdir))\n",
    "cases=[x.split('/')[-1] for x in cases]\n",
    "cases_dropdown = widgets.Dropdown(options=cases,\n",
    "                                description='Chose Case Name:',\n",
    "                                style={'description_width':'auto'},\n",
    "                                layout={'width':'max-content'},\n",
    "                                disabled=False)"
   ]
  },
  {
   "cell_type": "markdown",
   "id": "86844065-757a-4497-a477-bf9103cf3072",
   "metadata": {},
   "source": [
    "<br>\n",
    "\n",
    "#### Here we create the dropdown menu of ELM output options availible in your output volume"
   ]
  },
  {
   "cell_type": "code",
   "execution_count": null,
   "id": "a7c6ea2f-2b2c-486c-b79c-a0aafce17dee",
   "metadata": {},
   "outputs": [],
   "source": [
    "# Show a dropdown menu to select specific case output\n",
    "# Any cases that have been run in our elmoutput directory will be displayed\n",
    "# Case names will contain the site codes:\n",
    "# AK-BEO; AK-CLG; AK-K64G AK-TLG\n",
    "\n",
    "display(cases_dropdown)"
   ]
  },
  {
   "cell_type": "markdown",
   "id": "1bc07a62-eabc-4e36-ba41-3e10cebed8af",
   "metadata": {},
   "source": [
    "<br>\n",
    "\n",
    "#### After selecting which ELM output folder we want to use as our source for simulation output, we can then find all .nc files in the output location"
   ]
  },
  {
   "cell_type": "code",
   "execution_count": null,
   "id": "74da44fd-c312-4dc8-9275-b8f4f4d5b9d1",
   "metadata": {},
   "outputs": [],
   "source": [
    "# Get the output nc file options\n",
    "\n",
    "output_casedir=output_rootdir+cases_dropdown.value+'/run/'\n",
    "filenames=numpy.asarray(glob.glob(\"%s*.elm.h?.*.nc\" % output_casedir))\n",
    "filenames=sorted([x.split('/')[-1] for x in filenames])\n",
    "if(os.path.exists(output_casedir+'ELM_output.nc')): filenames.insert(0,'ELM_output.nc')\n",
    "\n",
    "ncfiles_dropdown = widgets.Dropdown(options=filenames,\n",
    "                                description='Choose Output File:', \n",
    "                                style={'description_width':'auto'},\n",
    "                                layout={'width':'max-content'},\n",
    "                                disabled=False)"
   ]
  },
  {
   "cell_type": "markdown",
   "id": "18637a85-6311-4372-ad32-611002322dd2",
   "metadata": {},
   "source": [
    "<br>\n",
    "\n",
    "#### This step displays the .nc file dropdown menu. In most cases you will select \"ELM_output.nc\" which is the file containing all simulation output years (e.g. 1850-2014)"
   ]
  },
  {
   "cell_type": "code",
   "execution_count": null,
   "id": "55f0e578-b40c-4fef-b848-2e8041a52f17",
   "metadata": {},
   "outputs": [],
   "source": [
    "# Display the output nc file options - in most cases you will select ELM_output.nc\n",
    "\n",
    "display(ncfiles_dropdown)"
   ]
  },
  {
   "cell_type": "markdown",
   "id": "9bde65cc-dc70-4108-bb52-c2a91c2b3c49",
   "metadata": {},
   "source": [
    "<br>\n",
    "\n",
    "#### This step sets the desired output file to read into memory below"
   ]
  },
  {
   "cell_type": "code",
   "execution_count": null,
   "id": "e3221987-2925-44c2-9348-e1ddfd762b9c",
   "metadata": {},
   "outputs": [],
   "source": [
    "# Set the output\n",
    "\n",
    "output_file=output_casedir+ncfiles_dropdown.value"
   ]
  },
  {
   "cell_type": "markdown",
   "id": "bfaa5bee-ed22-4007-ab9d-f14cb98dc67b",
   "metadata": {},
   "source": [
    "<br>\n",
    "\n",
    "#### This step uses the xarray package to load the ELM output so that we can analyze the results and generate plots"
   ]
  },
  {
   "cell_type": "code",
   "execution_count": null,
   "id": "0612a8e4-9cfc-43c6-b8a5-94a602ba585e",
   "metadata": {},
   "outputs": [],
   "source": [
    "# Load model output data into xarray format. \n",
    "# squeeze removes an empty grid cell dimension assuming this is a single point run\n",
    "\n",
    "elm_output=xarray.open_dataset(output_file).squeeze()"
   ]
  },
  {
   "cell_type": "markdown",
   "id": "68ccd73b-258c-4c91-b0e0-04932cd5731f",
   "metadata": {},
   "source": [
    "<br>\n",
    "\n",
    "#### We can quickly display a subset of the nc file metadata here using the print() command\n",
    "\n",
    "#### Note that on the left is the name of the data dimension or variable and on the right shows the data type and other metadata"
   ]
  },
  {
   "cell_type": "code",
   "execution_count": null,
   "id": "1aa3af2c-2d75-4d0b-aa10-290a4831724e",
   "metadata": {},
   "outputs": [],
   "source": [
    "# show the contents of elm_output\n",
    "\n",
    "print(elm_output)"
   ]
  },
  {
   "cell_type": "markdown",
   "id": "7bfdb07a-36dc-44eb-a1a5-3481d0f20728",
   "metadata": {},
   "source": [
    "#### You can also display the metadata for a specific model output variable, e.g. "
   ]
  },
  {
   "cell_type": "code",
   "execution_count": null,
   "id": "56640ffa-e480-469b-b286-d6488f62dbe3",
   "metadata": {},
   "outputs": [],
   "source": [
    "print(elm_output['GPP'])"
   ]
  },
  {
   "cell_type": "markdown",
   "id": "10f326c1-98f3-4174-9032-d44b6aec749f",
   "metadata": {},
   "source": [
    "<br>\n",
    "\n",
    "#### Next we can generate plots of ELM output using the output variables and dimensions (e.g. time) in the netCDF file.\n",
    "\n",
    "#### For example, lets plot the annual and seasonal patterns of total atmospheric incident solar radiation (FSDS) for the 1995-2000 time period, as well as select periods in 1995"
   ]
  },
  {
   "cell_type": "code",
   "execution_count": null,
   "id": "5609fedf-7899-428f-8ca6-b88af53d4cc9",
   "metadata": {},
   "outputs": [],
   "source": [
    "# Plot annual and seasonal patterns of total atmospheric incident solar radiation (FSDS)\n",
    "\n",
    "# Subset output to the 1990-2000 period. This can be changed by the user to select a different time period\n",
    "timerange_1=slice('1990-01-01','2001-01-01')\n",
    "timerange_2=slice('1995-01-01','1995-12-31')\n",
    "timerange_3=slice('1994-12-01','1995-02-28')\n",
    "timerange_4=slice('1995-06-01','1995-08-31')\n",
    "\n",
    "# Create the figure\n",
    "fig,a=plt.subplots(nrows=2,ncols=2,clear=True,num='Radiation',figsize=(17,7))\n",
    "\n",
    "ax=a[0,0]\n",
    "elm_output['FSDS'].sel(time=timerange_1).plot(ax=ax,linestyle='-',color='black',label='Atmospheric Incident Solar Radiation')\n",
    "ax.legend()\n",
    "ax.set_title('FSDS: 1990-2000')\n",
    "\n",
    "ax=a[0,1]\n",
    "elm_output['FSDS'].sel(time=timerange_2).plot(ax=ax,linestyle='-',color='black',label='Atmospheric Incident Solar Radiation')\n",
    "ax.legend()\n",
    "ax.set_title('FSDS: 1995')\n",
    "\n",
    "ax=a[1,0]\n",
    "elm_output['FSDS'].sel(time=timerange_3).plot(ax=ax,linestyle='-',color='black',label='Atmospheric Incident Solar Radiation')\n",
    "ax.legend()\n",
    "ax.set_title('FSDS: DJF')\n",
    "\n",
    "ax=a[1,1]\n",
    "elm_output['FSDS'].sel(time=timerange_4).plot(ax=ax,linestyle='-',color='black',label='Atmospheric Incident Solar Radiation')\n",
    "ax.legend()\n",
    "ax.set_title('FSDS: JJA')"
   ]
  },
  {
   "cell_type": "markdown",
   "id": "2339f7eb-6cbc-44e9-a008-722bbecd12c8",
   "metadata": {},
   "source": [
    "<br>\n",
    "\n",
    "#### Here we are plotting the annual time course of the various near-infrared (NIR) radiation (FSR*) streams (including direct and diffuse components) for the 1990 - 2001 period"
   ]
  },
  {
   "cell_type": "code",
   "execution_count": null,
   "id": "9407413b-94c1-4016-9d54-9703901c13cc",
   "metadata": {},
   "outputs": [],
   "source": [
    "# Atmospheric Radiation Components\n",
    "\n",
    "# Subset output to the 1990-2000 period. This can be changed by the user to select a different time period\n",
    "timerange_1=slice('1990-01-01','2001-01-01')\n",
    "\n",
    "# Create the figure\n",
    "fig,a=plt.subplots(nrows=2,ncols=2,clear=True,num='Radiation',figsize=(18,7))\n",
    "\n",
    "ax=a[0,0]\n",
    "elm_output['FSDSND'].sel(time=timerange_1).plot(ax=ax,linestyle='-',color='black',label='Direct NIR Incident Solar Radiation')\n",
    "ax.legend()\n",
    "ax.set_title('FSDSND')\n",
    "\n",
    "ax=a[0,1]\n",
    "elm_output['FSDSNI'].sel(time=timerange_1).plot(ax=ax,linestyle='-',color='black',label='Diffuse NIR Incident Solar Radiation')\n",
    "ax.legend()\n",
    "ax.set_title('FSDSNI')\n",
    "\n",
    "ax=a[1,0]\n",
    "elm_output['FSDSVD'].sel(time=timerange_1).plot(ax=ax,linestyle='-',color='black',label='Direct VIS Incident Solar Radiation')\n",
    "ax.legend()\n",
    "ax.set_title('FSDSVD')\n",
    "\n",
    "ax=a[1,1]\n",
    "elm_output['FSDSVI'].sel(time=timerange_1).plot(ax=ax,linestyle='-',color='black',label='Diffuse VIS Incident Solar Radiation')\n",
    "ax.legend()\n",
    "ax.set_title('FSDSVI')\n"
   ]
  },
  {
   "cell_type": "markdown",
   "id": "711c83d6-a2f8-401f-8aac-14e7b8d7e794",
   "metadata": {},
   "source": [
    "<br>\n",
    "\n",
    "#### We can also view the visible (VIS) and near-infrared (NIR) direct and diffuse reflected (from the surface) components of  radiation for the 1990 - 2001 period"
   ]
  },
  {
   "cell_type": "code",
   "execution_count": null,
   "id": "aa8b8778-5d25-4fce-bba4-4c5eeede7fd6",
   "metadata": {},
   "outputs": [],
   "source": [
    "# Surface Radiation Components\n",
    "\n",
    "# Subset output to the 1990-2000 period. This can be changed by the user to select a different time period\n",
    "timerange_1=slice('1990-01-01','2001-01-01')\n",
    "\n",
    "# Create the figure\n",
    "fig,a=plt.subplots(nrows=2,ncols=2,clear=True,num='Radiation',figsize=(18,7))\n",
    "\n",
    "ax=a[0,0]\n",
    "elm_output['FSRND'].sel(time=timerange_1).plot(ax=ax,linestyle='-',color='black',label='Direct NIR Reflected Solar Radiation')\n",
    "ax.legend()\n",
    "ax.set_title('FSRND')\n",
    "\n",
    "ax=a[0,1]\n",
    "elm_output['FSRNI'].sel(time=timerange_1).plot(ax=ax,linestyle='-',color='black',label='Diffuse NIR Reflected Solar Radiation')\n",
    "ax.legend()\n",
    "ax.set_title('FSRNI')\n",
    "\n",
    "ax=a[1,0]\n",
    "elm_output['FSRVD'].sel(time=timerange_1).plot(ax=ax,linestyle='-',color='black',label='Direct VIS Reflected Solar Radiation')\n",
    "ax.legend()\n",
    "ax.set_title('FSRVD')\n",
    "\n",
    "ax=a[1,1]\n",
    "elm_output['FSRVI'].sel(time=timerange_1).plot(ax=ax,linestyle='-',color='black',label='Diffuse VIS Reflected Solar Radiation')\n",
    "ax.legend()\n",
    "ax.set_title('FSRVI')"
   ]
  },
  {
   "cell_type": "markdown",
   "id": "2efdfe30-00ee-42e9-8cd6-acaed6e340b4",
   "metadata": {},
   "source": [
    "#### Now lets compare the total (visible+NIR, direct+diffuse) incident radiation (FSDS) to the total refelected radiation (FSR) for the 1990 - 2001 period"
   ]
  },
  {
   "cell_type": "code",
   "execution_count": null,
   "id": "12039bb9-4380-4700-9e5b-17df6fb37e59",
   "metadata": {},
   "outputs": [],
   "source": [
    "# Incident vs Reflected Radiation\n",
    "\n",
    "# Subset output to the 1990-2000 period. These can be changed by the user to select a different time periods\n",
    "timerange_1=slice('1990-01-01','2001-01-01')\n",
    "timerange_2=slice('1995-01-01','1995-12-31')\n",
    "timerange_3=slice('1994-12-01','1995-02-28')\n",
    "timerange_4=slice('1995-06-01','1995-08-31')\n",
    "\n",
    "\n",
    "# Create the figure\n",
    "fig,a=plt.subplots(nrows=1,ncols=2,clear=True,num='Radiation',figsize=(18,7))\n",
    "\n",
    "ax=a[0]\n",
    "elm_output['FSDS'].sel(time=timerange_1).plot(ax=ax,linestyle='-',color='black',label='Atmospheric Incident Solar Radiation')\n",
    "ax.legend()\n",
    "ax.set_title('FSDS: 1990-2000')\n",
    "\n",
    "ax=a[1]\n",
    "elm_output['FSR'].sel(time=timerange_1).plot(ax=ax,linestyle='-',color='green',label='Reflected Solar Radiation')\n",
    "ax.legend()\n",
    "ax.set_title('FSR: 1990-2000')\n",
    "\n"
   ]
  },
  {
   "cell_type": "markdown",
   "id": "c7f9adfe-0592-4e7a-80b5-8a26269cd220",
   "metadata": {},
   "source": [
    "<br>\n",
    "\n",
    "#### Derived variable example: Surface Albedo\n",
    "\n",
    "##### Using ELM outputs, we can also derive new variables from standard model outputs.  For example, we may want to explore the surface albedo estiamted by ELM.  To do that we can calculate full-sky (all-sky) albedo using the outputs availible in ELM.  In this case we will use the FSDS and FSR outputs to calculate surface reflectivity (i.e. albedo) from the ratio of reflected (FSR) to total incident radiation (FSDS)"
   ]
  },
  {
   "cell_type": "code",
   "execution_count": null,
   "id": "a399b097-7dcc-462f-83cc-7ffcbe0844e1",
   "metadata": {},
   "outputs": [],
   "source": [
    "### Derived variable example\n",
    "\n",
    "# Calculate all-sky albedo and plot the timeseries\n",
    "elm_output['ASA'] = elm_output['FSR']/elm_output['FSDS'].where(elm_output['FSDS']>0)\n",
    "elm_output['ASA'].attrs['units'] = 'unitless'\n",
    "elm_output['ASA'].attrs['long_name'] = 'All sky albedo'\n",
    "\n",
    "# Subset output to the 1990-2000 period. . This can be changed by the user to select a different time period\n",
    "timerange=slice('1990-01-01','2001-01-01')\n",
    "\n",
    "# create the plot of ASA\n",
    "fig, ax = plt.subplots(clear=True, figsize=(16,6))\n",
    "elm_output['ASA'].sel(time=timerange).plot(ax=ax,linestyle='-',linewidth=2,color='green',label='All-sky Albedo')\n",
    "ax.set_title('All-sky Albedo')"
   ]
  },
  {
   "cell_type": "markdown",
   "id": "5428fa00-2be2-4e46-9001-fecaff9e8ae4",
   "metadata": {},
   "source": [
    "#### Similar to the previous examples, we can also chunk out specific periods to view ASA. In this example we subset the data to the 1990 - 1995 period, as well as select meteorological seaons representing the summer, fall, winter and spring"
   ]
  },
  {
   "cell_type": "code",
   "execution_count": null,
   "id": "90f40b4c-c33d-4051-9c19-9ca15bbf9ef3",
   "metadata": {},
   "outputs": [],
   "source": [
    "# Plot different albedo time-slices\n",
    "\n",
    "# Subset output to the 1990-1995 period. These can be changed by the user to select a different time periods\n",
    "timerange_1=slice('1990-01-01','1995-01-01')\n",
    "# chunk out met seasons\n",
    "timerange_2=slice('1995-01-01','1995-12-31')\n",
    "timerange_3=slice('1994-12-01','1995-02-28')\n",
    "timerange_4=slice('1995-03-01','1995-05-31')\n",
    "timerange_5=slice('1995-06-01','1995-09-01')\n",
    "timerange_6=slice('1995-09-01','1995-12-01')\n",
    "\n",
    "\n",
    "# Create the figure\n",
    "fig,a=plt.subplots(nrows=3,ncols=2,clear=True,num='Radiation',figsize=(17,12))\n",
    "\n",
    "ax=a[0,0]\n",
    "elm_output['ASA'].sel(time=timerange_1).plot(ax=ax,linestyle='-',linewidth=2,color='green',label='All-sky Albedo')\n",
    "ax.set_title('ASA: 1990-1995')\n",
    "ax=a[0,1]\n",
    "elm_output['ASA'].sel(time=timerange_2).plot(ax=ax,linestyle='-',linewidth=2,color='green',label='All-sky Albedo')\n",
    "ax.set_title('ASA: 1995')\n",
    "ax=a[1,0]\n",
    "elm_output['ASA'].sel(time=timerange_3).plot(ax=ax,linestyle='-',linewidth=2,color='green',label='All-sky Albedo')\n",
    "ax.set_title('ASA: DJF')\n",
    "ax=a[1,1]\n",
    "elm_output['ASA'].sel(time=timerange_4).plot(ax=ax,linestyle='-',linewidth=2,color='green',label='All-sky Albedo')\n",
    "ax.set_title('ASA: MAM')\n",
    "ax=a[2,0]\n",
    "elm_output['ASA'].sel(time=timerange_5).plot(ax=ax,linestyle='-',linewidth=2,color='green',label='All-sky Albedo')\n",
    "ax.set_title('ASA: JJA')\n",
    "ax=a[2,1]\n",
    "elm_output['ASA'].sel(time=timerange_6).plot(ax=ax,linestyle='-',linewidth=2,color='green',label='All-sky Albedo')\n",
    "ax.set_title('ASA: SON')"
   ]
  },
  {
   "cell_type": "markdown",
   "id": "8adbad0f-7921-45a8-8e09-ae8df2630058",
   "metadata": {},
   "source": [
    "#### We can also compare the new ASA variable against other ELM variables. For example albedo vs leaf area index"
   ]
  },
  {
   "cell_type": "code",
   "execution_count": null,
   "id": "e5f2a75b-a545-4944-9aa4-2912ad86e00f",
   "metadata": {},
   "outputs": [],
   "source": [
    "# Albedo and LAI\n",
    "\n",
    "# Subset output to the 1990-1995 period. These can be changed by the user to select a different time periods\n",
    "timerange_1=slice('1990-01-01','1995-01-01')\n",
    "timerange_2=slice('1995-01-01','1995-12-31')\n",
    "\n",
    "\n",
    "# Create the figure\n",
    "fig,a=plt.subplots(nrows=2,ncols=2,clear=True,num='Radiation',figsize=(17,12))\n",
    "\n",
    "ax=a[0,0]\n",
    "elm_output['ASA'].sel(time=timerange_1).plot(ax=ax,linestyle='-',linewidth=2,color='green',label='All-sky Albedo')\n",
    "ax.set_title('ASA: 1990-1995')\n",
    "ax.legend()\n",
    "\n",
    "ax=a[0,1]\n",
    "elm_output['TLAI'].sel(time=timerange).plot(ax=ax,linestyle='-',linewidth=2,color='black',label='Total LAI')\n",
    "ax.set(title='',xlabel='',ylabel='LAI (m2/m2)')\n",
    "ax.set_title('TLAI: 1990-1995')\n",
    "ax.legend()\n",
    "\n",
    "ax=a[1,0]\n",
    "elm_output['ASA'].sel(time=timerange_2).plot(ax=ax,linestyle='-',linewidth=2,color='green',label='All-sky Albedo')\n",
    "ax.set_title('ASA: 1995')\n",
    "ax.legend()\n",
    "\n",
    "ax=a[1,1]\n",
    "elm_output['TLAI'].sel(time=timerange_2).plot(ax=ax,linestyle='-',linewidth=2,color='black',label='Total LAI')\n",
    "ax.set(title='',xlabel='',ylabel='LAI (m2/m2)')\n",
    "ax.set_title('TLAI: 1995')\n",
    "ax.legend()"
   ]
  },
  {
   "cell_type": "markdown",
   "id": "e46bd668-eaa8-4821-958d-3c298fa20e2a",
   "metadata": {},
   "source": [
    "#### We can also view a simple relationship between these variables"
   ]
  },
  {
   "cell_type": "code",
   "execution_count": null,
   "id": "8a9dda0e-6844-445b-85cc-8ada5923f010",
   "metadata": {},
   "outputs": [],
   "source": [
    "# LAI vs ASA\n",
    "fig, ax = plt.subplots(clear=True, figsize=(12,7))\n",
    "ax.scatter(elm_output['ASA'], elm_output['TLAI'], s=10, c='blue')\n",
    "ax.set(title='',xlabel='ASA (-)',ylabel='LAI (m2/m2)')\n",
    "ax.set_title('LAI vs ASA')\n",
    "plt.show()"
   ]
  },
  {
   "cell_type": "markdown",
   "id": "85078d76-bcb8-4dc1-b818-0de14a408366",
   "metadata": {},
   "source": [
    "#### We can also compare the seasonality of variables, for example the relationship between surface albedo and fractional snow pack cover (FSNO). \n",
    "\n",
    "##### We would expect that when there is a high proportion of snow cover (FSNO ~ 1.0) that the albedo (ASA) will also be high, given the high reflectivity of snow. As the snow melts, we would expect that as FSNO declines so too will ASA, but ASA will not go to 0. Instead ASA will reach a minimum based on the amount and \"greeness\" or reflectivity of the surface vegetation. You may see a small small peak during mid summer, after which ASA will decline slightlty into the fall before again increasing to its max value after the first winter snowfall"
   ]
  },
  {
   "cell_type": "code",
   "execution_count": null,
   "id": "58b0928c-dee1-4900-8a98-58385315b263",
   "metadata": {},
   "outputs": [],
   "source": [
    "# Albedo vs snow fraction\n",
    "\n",
    "# Subset output to the 1990-2000 period. These can be changed by the user to select a different time periods\n",
    "timerange_1=slice('1990-01-01','2001-01-01')\n",
    "timerange_2=slice('1994-12-30','1997-01-02')\n",
    "timerange_3=slice('1995-01-01','1996-01-01')\n",
    "\n",
    "# Create the figure\n",
    "fig,a=plt.subplots(nrows=2,ncols=2,clear=True,num='Radiation',figsize=(17,9))\n",
    "\n",
    "ax=a[0,0]\n",
    "elm_output['ASA'].sel(time=timerange_1).plot(ax=ax,linestyle='-',linewidth=2,color='green',label='All-sky Albedo')\n",
    "ax.set_title('ASA: 1990-2000')\n",
    "\n",
    "ax=a[0,1]\n",
    "elm_output['FSNO'].sel(time=timerange_1).plot(ax=ax,linestyle='-',linewidth=2,color='blue',label='Fraction of Ground Covered by Snow')\n",
    "ax.set_title('FSNO: 1990-2000')\n",
    "\n",
    "ax=a[1,0]\n",
    "elm_output['ASA'].sel(time=timerange_2).plot(ax=ax,linestyle='-',linewidth=2,color='green',label='All-sky Albedo')\n",
    "elm_output['FSNO'].sel(time=timerange_2).plot(ax=ax,linestyle='-',linewidth=2,color='blue',label='Fraction of Ground Covered by Snow')\n",
    "ax.legend(loc='lower left')\n",
    "\n",
    "ax=a[1,1]\n",
    "elm_output['ASA'].sel(time=timerange_3).plot(ax=ax,linestyle='-',linewidth=2,color='green',label='All-sky Albedo')\n",
    "elm_output['FSNO'].sel(time=timerange_3).plot(ax=ax,linestyle='-',linewidth=2,color='blue',label='Fraction of Ground Covered by Snow')\n",
    "ax.legend()"
   ]
  },
  {
   "cell_type": "markdown",
   "id": "22cbe663-c67d-4e6d-8026-1b2b95a8f9c1",
   "metadata": {},
   "source": [
    "<center><img src=\"https://github.com/FASSt-simulation/fasst_simulation_tools/raw/main/images/site-logo.png\" width=150 height=150 alt=\"NGEE-Arctic Logo\"/></center>"
   ]
  }
 ],
 "metadata": {
  "kernelspec": {
   "display_name": "Python 3 (ipykernel)",
   "language": "python",
   "name": "python3"
  },
  "language_info": {
   "codemirror_mode": {
    "name": "ipython",
    "version": 3
   },
   "file_extension": ".py",
   "mimetype": "text/x-python",
   "name": "python",
   "nbconvert_exporter": "python",
   "pygments_lexer": "ipython3",
   "version": "3.9.10"
  }
 },
 "nbformat": 4,
 "nbformat_minor": 5
}
