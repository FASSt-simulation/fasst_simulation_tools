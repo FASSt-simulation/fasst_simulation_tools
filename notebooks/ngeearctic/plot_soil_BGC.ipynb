{
 "cells": [
  {
   "cell_type": "markdown",
   "id": "60e8dd6e",
   "metadata": {},
   "source": [
    "# Plot variables relevant to soil biogeochemistry from ELM output.\n",
    "\n",
    "First, we load necessary python packages for reading and plotting the data."
   ]
  },
  {
   "cell_type": "code",
   "execution_count": 1,
   "id": "ad916fe0-2b77-4a21-befa-04927169a764",
   "metadata": {},
   "outputs": [],
   "source": [
    "import matplotlib.pyplot as plt\n",
    "import xarray\n",
    "import os\n",
    "import ipywidgets as widgets\n",
    "import glob, numpy"
   ]
  },
  {
   "cell_type": "markdown",
   "id": "b27dfdfc",
   "metadata": {},
   "source": [
    "Next, we locate the output data and identify which sites there is output for. This code creates a dropdown menu to pick the model run you want to plot."
   ]
  },
  {
   "cell_type": "code",
   "execution_count": 2,
   "id": "0752a9fe-c5b5-4c65-b874-639db86db160",
   "metadata": {},
   "outputs": [],
   "source": [
    "output_rootdir=os.path.expanduser('~')+'/output/cime_run_dirs/'\n",
    "cases=sorted(glob.glob(\"%s*20TR*\" % output_rootdir))\n",
    "cases=[os.path.basename(x) for x in cases]\n",
    "cases_dropdown = widgets.Dropdown(options=cases,\n",
    "                                description='Chose Case Name:',\n",
    "                                style={'description_width':'auto'},\n",
    "                                layout={'width':'max-content'},\n",
    "                                disabled=False)\n",
    "\n",
    "display(cases_dropdown)"
   ]
  },
  {
   "cell_type": "markdown",
   "id": "b6b469a5",
   "metadata": {},
   "source": [
    "Here, we are using the combined output file over all years of the run. We read in the list of variables, units, and longer descriptions from the dataset. We use the time variable from the dataset to determine the start and end years."
   ]
  },
  {
   "cell_type": "code",
   "execution_count": 7,
   "id": "6c1856a6-49f9-461d-93aa-17201bc02574",
   "metadata": {},
   "outputs": [],
   "source": [
    "output_file=output_rootdir + cases_dropdown.value + '/run/ELM_output.nc'\n",
    "\n",
    "# Read in the list of variable, units, and longer descriptions from the dataset\n",
    "with xarray.open_dataset(output_file) as data:\n",
    "    # Determine start and end year of the dataset\n",
    "    data_startyear=data.time[0].item().year\n",
    "    data_endyear=data.time[-1].item().year\n",
    "\n",
    "startyear_picker = widgets.BoundedIntText(value=data_startyear, min=data_startyear, max=data_endyear, step=1,\n",
    "                                          description='Choose start year',style={'description_width':'auto'})\n",
    "endyear_picker = widgets.BoundedIntText(value=data_endyear, min=data_startyear, max=data_endyear, step=1,\n",
    "                                          description='Choose end year',style={'description_width':'auto'})\n",
    "\n",
    "smoothing_picker = widgets.IntText(value=0,description='Choose smoothing on fluxes (months)',style={'description_width':'auto'})\n",
    "\n",
    "display(startyear_picker)\n",
    "display(endyear_picker)\n",
    "display(smoothing_picker)"
   ]
  },
  {
   "cell_type": "markdown",
   "id": "c52b4e1a",
   "metadata": {},
   "source": [
    "Using the fields above, you can pick the start and end year of the time series to visualize.\n",
    "\n",
    "Next, we read in the dataset and select the time portion based on start and end year picked above."
   ]
  },
  {
   "cell_type": "code",
   "execution_count": null,
   "id": "3e27aa2a",
   "metadata": {},
   "outputs": [],
   "source": [
    "year_start=startyear_picker.value\n",
    "year_end=endyear_picker.value\n",
    "smoothing=smoothing_picker.value\n",
    "\n",
    "elm_output=xarray.open_dataset(output_file).squeeze().sel(time=slice(str(year_start),str(year_end)))"
   ]
  },
  {
   "cell_type": "markdown",
   "id": "3d063b0c",
   "metadata": {},
   "source": [
    "Now we set up a figure and plot the relevant variables in different panels."
   ]
  },
  {
   "cell_type": "code",
   "execution_count": 10,
   "id": "cc5fc1ed-ae84-49f5-ad16-2fa02c6f7e49",
   "metadata": {},
   "outputs": [],
   "source": [
    "# Plot the carbon and nitrogen budgets\n",
    "# Set up a figure with three axes\n",
    "fig,a=plt.subplots(nrows=2,ncols=2,clear=True,num='Carbon budgets',figsize=(15,13))\n",
    "\n",
    "ax=a[0,0]\n",
    "elm_output['TOTSOMC'].plot(ax=ax,linestyle='-',color='black',label='Total SOM C')\n",
    "elm_output['TOTLITC'].plot(ax=ax,linestyle='-',color='red',label='Total litter C')\n",
    "\n",
    "ax.legend()\n",
    "ax.set(title='Soil carbon pools',xlabel='Year',ylabel='Carbon stock (g C m$^{-2}$)')\n",
    "\n",
    "\n",
    "# Soil N\n",
    "ax=a[0,1]\n",
    "elm_output['TOTSOMN'].plot(ax=ax,linestyle='-',color='black',label='Total SOM N')\n",
    "elm_output['TOTLITN'].plot(ax=ax,linestyle='-',color='red',label='Total litter N')\n",
    "\n",
    "\n",
    "# C fluxes\n",
    "ax=a[1,0]\n",
    "# Do smoothing if wanted\n",
    "if smoothing>0:\n",
    "    HR=elm_output['HR'].resample(time=str(smoothing)+'M').mean()\n",
    "else:\n",
    "    HR=elm_output['HR']\n",
    "\n",
    "(HR*24*3600).plot(ax=ax,linestyle='-',color='brown',label='Ecosystem respiration')\n",
    "ax.legend()\n",
    "ax.set(title='C fluxes',xlabel='Year',ylabel='C flux (g C m$^{-2}$ day$^{-1}$)')\n",
    "\n",
    "\n",
    "# N fluxes\n",
    "ax=a[1,1]\n",
    "# Do smoothing if wanted\n",
    "if smoothing>0:\n",
    "    NET_NMIN=elm_output['NET_NMIN'].resample(time=str(smoothing)+'M').mean()\n",
    "    GROSS_NMIN=elm_output['GROSS_NMIN'].resample(time=str(smoothing)+'M').mean()\n",
    "    SMINN_TO_PLANT=elm_output['SMINN_TO_PLANT'].resample(time=str(smoothing)+'M').mean()\n",
    "    NDEP_TO_SMINN=elm_output['NDEP_TO_SMINN'].resample(time=str(smoothing)+'M').mean()\n",
    "    NFIX_TO_SMINN=elm_output['NFIX_TO_SMINN'].resample(time=str(smoothing)+'M').mean()\n",
    "else:\n",
    "    NET_NMIN=elm_output['NET_NMIN']\n",
    "    GROSS_NMIN=elm_output['GROSS_NMIN']\n",
    "    SMINN_TO_PLANT=elm_output['SMINN_TO_PLANT']\n",
    "    NDEP_TO_SMINN=elm_output['NDEP_TO_SMINN']\n",
    "    NFIX_TO_SMINN=elm_output['NFIX_TO_SMINN']\n",
    "\n",
    "(NET_NMIN*24*3600).plot(ax=ax,linestyle='-',color='blue',label='Net Nmin')\n",
    "(GROSS_NMIN*24*3600).plot(ax=ax,linestyle='--',color='blue',label='Gross Nmin')\n",
    "(SMINN_TO_PLANT*24*3600).plot(ax=ax,linestyle='-',color='green',label='Plant N uptake')\n",
    "\n",
    "(NDEP_TO_SMINN*24*3600).plot(ax=ax,linestyle='-',color='C0',label='Atmospheric N dep')\n",
    "(NFIX_TO_SMINN*24*3600).plot(ax=ax,linestyle='-',color='C1',label='N fixation')\n",
    "ax.legend()\n",
    "ax.set(title='N fluxes',xlabel='Year',ylabel='N flux (g N m$^{-2}$ day$^{-1}$)')\n"
   ]
  },
  {
   "cell_type": "markdown",
   "id": "d06aa933",
   "metadata": {},
   "source": [
    "Next plot depth profiles of soil carbon and C:N ratios"
   ]
  },
  {
   "cell_type": "code",
   "execution_count": null,
   "id": "0cbfad18",
   "metadata": {},
   "outputs": [],
   "source": [
    "f,a=plt.subplots(nrows=2,ncols=2,gridspec_kw={'width_ratios':[1,0.5]},figsize=(6,8))\n",
    "\n",
    "# Soil C/N depth distribution\n",
    "soilC=elm_output['LITR1C_vr']+elm_output['LITR2C_vr']+elm_output['LITR3C_vr']+elm_output['SOIL1C_vr']+elm_output['SOIL2C_vr']+elm_output['SOIL3C_vr']+elm_output['SOIL4C_vr']\n",
    "soilN=elm_output['LITR1N_vr']+elm_output['LITR2N_vr']+elm_output['LITR3N_vr']+elm_output['SOIL1N_vr']+elm_output['SOIL2N_vr']+elm_output['SOIL3N_vr']+elm_output['SOIL4N_vr']\n",
    "\n",
    "ax=a[0,0]\n",
    "soilC.T.plot(ax=ax)\n",
    "maxdepth=2.0\n",
    "ax.set_ylim(maxdepth,0.0)\n",
    "ax.set_ylabel('Soil depth (m)')\n",
    "ax.set_title('Total soil carbon by depth')\n",
    "ax.set_xlabel('Year')\n",
    "\n",
    "ax=a[0,1]\n",
    "ax.plot(soilC.mean(dim='time'),soilC['levdcmp'])\n",
    "ax.set_ylim(maxdepth,0.0)\n",
    "ax.set_ylabel('Soil depth (m)')\n",
    "ax.set_title('Total soil carbon by depth')\n",
    "ax.set_xlabel('Soil carbon density (g C m$^{-3}$)')\n",
    "\n",
    "ax=a[1,0]\n",
    "(soilC/soilN).T.plot(ax=ax)\n",
    "ax.set_ylim(maxdepth,0.0)\n",
    "ax.set_ylabel('Soil depth (m)')\n",
    "ax.set_title('Soil C:N ratio by depth')\n",
    "ax.set_xlabel('Year')\n",
    "\n",
    "ax=a[1,1]\n",
    "ax.plot((soilC/soilN).mean(dim='time'),soilC['levdcmp'])\n",
    "ax.set_ylim(maxdepth,0.0)\n",
    "ax.set_ylabel('Soil depth (m)')\n",
    "ax.set_title('Soil C:N ratio by depth')\n",
    "ax.set_xlabel('Soil C:N ratio')"
   ]
  }
 ],
 "metadata": {
  "kernelspec": {
   "display_name": "Python 3.9.12 ('base')",
   "language": "python",
   "name": "python3"
  },
  "language_info": {
   "codemirror_mode": {
    "name": "ipython",
    "version": 3
   },
   "file_extension": ".py",
   "mimetype": "text/x-python",
   "name": "python",
   "nbconvert_exporter": "python",
   "pygments_lexer": "ipython3",
   "version": "3.9.12"
  },
  "vscode": {
   "interpreter": {
    "hash": "f2faae03d4f60a9fcc15551e4be59690421db05e71c28b68b57425bbe54727b4"
   }
  }
 },
 "nbformat": 4,
 "nbformat_minor": 5
}
