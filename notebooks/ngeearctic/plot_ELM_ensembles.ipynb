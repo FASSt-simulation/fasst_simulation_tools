{
 "cells": [
  {
   "cell_type": "markdown",
   "id": "2fa6d35e-61f9-4953-8d91-c460f547a5b1",
   "metadata": {},
   "source": [
    "<center><img src=\"https://github.com/FASSt-simulation/fasst_simulation_tools/raw/main/images/site-logo.png\" width=150 height=150 alt=\"NGEE-Arctic Logo\"/></center>\n",
    "\n",
    "# Tutorial: *Exploring the results from an ELM ensemble simulation*\n",
    "This tutorial illustrates how to evaluate the results from a modest parameter ensemble perturbation experiment run at one of the four [NGEE-Arctic](https://ngee-arctic.ornl.gov/) study sites.\n"
   ]
  },
  {
   "cell_type": "markdown",
   "id": "d8891962-d974-4fc0-92bc-38dd96218642",
   "metadata": {},
   "source": [
    "#### ------------------------------------------------------------------------------------------------------------\n",
    "\n",
    "<br>\n",
    "\n",
    "#### To run this script and generate the resulting ELM plots we need specific Python libraries.  This step loads those required libraries\n",
    "\n",
    "Note: This notebook also outputs a png and pdf copy of each figure in the \"/work/figures\" directory"
   ]
  },
  {
   "cell_type": "code",
   "execution_count": null,
   "id": "af29bd35-3875-49ad-8421-9bb92acbcfae",
   "metadata": {},
   "outputs": [],
   "source": [
    "# Load the required Python libraries\n",
    "\n",
    "import matplotlib.pyplot as plt\n",
    "import xarray\n",
    "from netCDF4 import Dataset \n",
    "import os\n",
    "import cftime\n",
    "import ipywidgets as widgets\n",
    "import glob, numpy\n",
    "# create a figure folder in elmwork\n",
    "figdir = os.path.expanduser('~')+'/work/figures'\n",
    "if not os.path.exists(figdir):\n",
    "    os.makedirs(figdir)\n",
    "savefigs = True # True/False"
   ]
  },
  {
   "cell_type": "markdown",
   "id": "b89ccf0c-d750-40f7-8260-c268a2ac75da",
   "metadata": {},
   "source": [
    "<br>\n",
    "\n",
    "#### This step identifies all of the previous ensemble ELM cases that are stored in your output location then creates a list to select the output by site"
   ]
  },
  {
   "cell_type": "code",
   "execution_count": null,
   "id": "9814db3a-9f54-4237-8a5e-0204ef92e890",
   "metadata": {},
   "outputs": [],
   "source": [
    "# Create ensemble case root run output directories\n",
    "\n",
    "output_rootdir=os.path.expanduser('~')+'/output/cime_run_dirs/UQ/'\n",
    "cases=numpy.asarray(glob.glob(\"%s*20TR*\" % output_rootdir))\n",
    "cases=[x.split('/')[-1] for x in cases]\n",
    "cases_dropdown = widgets.Dropdown(options=cases,\n",
    "                                description='Choose Case Name:',\n",
    "                                style={'description_width':'auto'},\n",
    "                                layout={'width':'max-content'},\n",
    "                                disabled=False)"
   ]
  },
  {
   "cell_type": "markdown",
   "id": "2f18d749-6db9-4885-ab3a-e03da7550486",
   "metadata": {},
   "source": [
    "<br>\n",
    "\n",
    "#### Here we create the dropdown menu of ELM output options availible in your output volume"
   ]
  },
  {
   "cell_type": "code",
   "execution_count": null,
   "id": "ce976e82-21dc-416a-82c6-2c8d1a2fff62",
   "metadata": {},
   "outputs": [],
   "source": [
    "# Show a dropdown menu to select specific case output\n",
    "# Any cases that have been run in our elmoutput directory will be displayed\n",
    "# Case names will contain the site codes:\n",
    "# AK-BEO; AK-CLG; AK-K64G AK-TLG\n",
    "\n",
    "display(cases_dropdown)"
   ]
  },
  {
   "cell_type": "markdown",
   "id": "4d3185a3-a830-4bc0-89ee-6ddd54a546a3",
   "metadata": {},
   "source": [
    "<br>\n",
    "\n",
    "#### This step identifies all of the auto-generated ensemble case sub-directories"
   ]
  },
  {
   "cell_type": "code",
   "execution_count": null,
   "id": "edda80d1-8dee-455b-973e-24c67c3fd7d9",
   "metadata": {},
   "outputs": [],
   "source": [
    "## show ensemble sub-folders for the root transient case\n",
    "ensemble_root_dirs=output_rootdir+cases_dropdown.value+\"/\"\n",
    "ens_dirs=sorted(numpy.asarray(glob.glob(\"%s*g?*\" % ensemble_root_dirs)))\n",
    "ens_dirs= [ x for x in ens_dirs if \"param_list\" not in x ]\n",
    "ens_cases=sorted([x.split('/')[-1] for x in ens_dirs])\n",
    "print(''.join(['Ensemble case sub-directories: ',str(ens_cases)]))"
   ]
  },
  {
   "cell_type": "markdown",
   "id": "02db347f-0ec0-4ce9-8380-472521343536",
   "metadata": {},
   "source": [
    "<br>\n",
    "\n",
    "#### Here we are iterating over each ensemble output path and storing the simulation results (in the file ELM_output.nc) as objects called \"output_0, output_1, output_2, ... output_X\" We will use these to plot the simulation results across ensemble members below"
   ]
  },
  {
   "cell_type": "code",
   "execution_count": null,
   "id": "65ebd61f-a275-4195-a457-9274ea9df951",
   "metadata": {},
   "outputs": [],
   "source": [
    "## get model outputs\n",
    "for x in range(0,len(ens_dirs),1):\n",
    "  print(ens_dirs[x])\n",
    "  temdir=ens_dirs[x]\n",
    "  print(''.join([\"output_\",str(x)]))\n",
    "  output_file=ens_dirs[x]+'/'+'ELM_output.nc'\n",
    "  globals()[''.join([\"output_\",str(x)])]=xarray.open_dataset(output_file).squeeze()"
   ]
  },
  {
   "cell_type": "markdown",
   "id": "f7f7a56d-1eb4-4678-bbf3-b989155259c9",
   "metadata": {},
   "source": [
    "<br>\n",
    "\n",
    "#### Similar to other example notebooks, this step is just showing how to get a quick \"look inside\" one of the output objects. In this case its the first ensemble member"
   ]
  },
  {
   "cell_type": "code",
   "execution_count": null,
   "id": "f5ec2325-54fd-4891-a79b-7711599378e6",
   "metadata": {},
   "outputs": [],
   "source": [
    "print(output_0)"
   ]
  },
  {
   "cell_type": "markdown",
   "id": "1cb507d1-481e-45bc-9ded-5abdcfbda1dd",
   "metadata": {},
   "source": [
    "<br>\n",
    "\n",
    "#### Here we create a matrix of random numbers (ensemble length, 3) to create random RGB color values that will be used in the plotting code below "
   ]
  },
  {
   "cell_type": "code",
   "execution_count": null,
   "id": "123e4786-ae2d-4000-880f-f1f03d1bfdad",
   "metadata": {},
   "outputs": [],
   "source": [
    "# Lets create a random vector of plot colors to use in each ensemble plot below\n",
    "plot_colors = numpy.random.rand(len(ens_dirs),3)"
   ]
  },
  {
   "cell_type": "markdown",
   "id": "d0a5e760-4d94-4f2f-ad5e-449a72624b02",
   "metadata": {},
   "source": [
    "<br>\n",
    "\n",
    "#### Use this to set the subset range for all plots below.  \n",
    "\n",
    "**Note:** Individual plots can be edited by entering in custom \"timerange=slice('XXXX-XX-XX','XXXX-XX-XX')\" values"
   ]
  },
  {
   "cell_type": "code",
   "execution_count": null,
   "id": "c9c16fd2-6f36-426d-bb06-c4c71c5f9ff9",
   "metadata": {},
   "outputs": [],
   "source": [
    "# Subset output to the 1850-1855 period by default. This can be changed by the user\n",
    "usrtimeslice=slice('1850-01-01','1855-01-01')"
   ]
  },
  {
   "cell_type": "markdown",
   "id": "830a3b3f-2067-4db6-a512-abe5f2702673",
   "metadata": {},
   "source": [
    "<br>\n",
    "\n",
    "#### In the default ensemble example, the transient case is only run for the 1850-1855 period. This step plots the Net Ecosystem Exchange (NEE) variance for that period.  \n",
    "\n",
    "**Note:** If you modified the run period you can also edit the plot below by changing the \"timerange\" variable. e.g. you could change to \"timerange=slice('2000-01-01','2010-12-31')\" if your transient run contains the years 2000-2010"
   ]
  },
  {
   "cell_type": "code",
   "execution_count": null,
   "id": "6b2b36ea-82b3-46c5-80d0-124927a4932d",
   "metadata": {},
   "outputs": [],
   "source": [
    "# Figure options\n",
    "# Subset output to the 1850-1855 period by default. This can be changed by the user\n",
    "timerange=usrtimeslice\n",
    "# variable name\n",
    "invar='NEE'\n",
    "# Unit scaler\n",
    "scaler=24*3600\n",
    "# Unit label for plot\n",
    "units='C flux (g C m$^{-2}$ day$^{-1}$)'\n",
    "\n",
    "# Create the figure\n",
    "fig, ax = plt.subplots(clear=True, figsize=(16,7))\n",
    "for x in range(0,len(ens_dirs),1):\n",
    "    outputnum=''.join([\"output_\",str(x),str([invar])])\n",
    "    plotdata=eval(outputnum)\n",
    "    plotdata=plotdata*scaler  \n",
    "    plotlab=''.join([invar,' ens: ',str(x)])\n",
    "    plotdata.sel(time=timerange).plot(ax=ax,linestyle='-',linewidth=1.3, color=plot_colors[x], label=plotlab)\n",
    "    ax.legend(fontsize=\"small\")\n",
    "    ax.set_xlabel('Year', size=20)\n",
    "    ax.set_ylabel(units, size=20)\n",
    "if savefigs:\n",
    "    plt.savefig(os.path.join(figdir,'ens'+invar+'.pdf'))\n",
    "    plt.savefig(os.path.join(figdir,'ens'+invar+'.png'))\n",
    "plt.show()"
   ]
  },
  {
   "cell_type": "markdown",
   "id": "29923210-9200-44c1-b881-63395139f069",
   "metadata": {},
   "source": [
    "<br>\n",
    "\n",
    "#### Here we plot the ensemble variance in ecosystem Heterotrophic Respiration (HR) rate\n",
    "\n",
    "**Note:** If you modified the run period you can also edit the plot below by changing the \"timerange\" variable. e.g. you could change to \"timerange=slice('2000-01-01','2010-12-31')\" if your transient run contains the years 2000-2010"
   ]
  },
  {
   "cell_type": "code",
   "execution_count": null,
   "id": "dd44c8ee-3143-4514-8e6d-9a81b4b1234e",
   "metadata": {},
   "outputs": [],
   "source": [
    "# Figure options\n",
    "# Subset output to the 1850-1855 period by default. This can be changed by the user\n",
    "timerange=usrtimeslice\n",
    "# variable name\n",
    "invar='HR'\n",
    "# Unit scaler\n",
    "scaler=24*3600\n",
    "# Unit label for plot\n",
    "units='C flux (g C m$^{-2}$ day$^{-1}$)'\n",
    "\n",
    "\n",
    "# Create the figure\n",
    "fig, ax = plt.subplots(clear=True, figsize=(16,7))\n",
    "for x in range(0,len(ens_dirs),1):\n",
    "    outputnum=''.join([\"output_\",str(x),str([invar])])\n",
    "    plotdata=eval(outputnum)\n",
    "    plotdata=plotdata*scaler  \n",
    "    plotlab=''.join([invar,' ens: ',str(x)])\n",
    "    plotdata.sel(time=timerange).plot(ax=ax,linestyle='-',linewidth=1.3, color=plot_colors[x], label=plotlab)\n",
    "    ax.legend(fontsize=\"small\")\n",
    "    ax.set_xlabel('Year', size=20)\n",
    "    ax.set_ylabel(units, size=20)\n",
    "if savefigs:\n",
    "    plt.savefig(os.path.join(figdir,'ens'+invar+'.pdf'))\n",
    "    plt.savefig(os.path.join(figdir,'ens'+invar+'.png'))\n",
    "plt.show()"
   ]
  },
  {
   "cell_type": "markdown",
   "id": "a105e823-b387-404f-95ad-a75460f81547",
   "metadata": {},
   "source": [
    "<br>\n",
    "\n",
    "#### Here we plot the ensemble variance in ecosystem Gross Primary Productivity (GPP)\n",
    "\n",
    "**Note:** If you modified the run period you can also edit the plot below by changing the \"timerange\" variable. e.g. you could change to \"timerange=slice('2000-01-01','2010-12-31')\" if your transient run contains the years 2000-2010"
   ]
  },
  {
   "cell_type": "code",
   "execution_count": null,
   "id": "1b46fcd0-30c9-4656-aa04-a8fb1e28db8f",
   "metadata": {},
   "outputs": [],
   "source": [
    "# Figure options\n",
    "# Subset output to the 1850-1855 period by default. This can be changed by the user\n",
    "timerange=usrtimeslice\n",
    "# variable name\n",
    "invar='GPP'\n",
    "# Unit scaler\n",
    "scaler=24*3600\n",
    "# Unit label for plot\n",
    "units='C flux (g C m$^{-2}$ day$^{-1}$)'\n",
    "\n",
    "# Create the figure\n",
    "fig, ax = plt.subplots(clear=True, figsize=(16,7))\n",
    "for x in range(0,len(ens_dirs),1):\n",
    "    outputnum=''.join([\"output_\",str(x),str([invar])])\n",
    "    plotdata=eval(outputnum)\n",
    "    plotdata=plotdata*scaler  \n",
    "    plotlab=''.join([invar,' ens: ',str(x)])\n",
    "    plotdata.sel(time=timerange).plot(ax=ax,linestyle='-',linewidth=1.3, color=plot_colors[x], label=plotlab)\n",
    "    ax.legend(fontsize=\"small\")\n",
    "    ax.set_xlabel('Year', size=20)\n",
    "    ax.set_ylabel(units, size=20)\n",
    "if savefigs:\n",
    "    plt.savefig(os.path.join(figdir,'ens'+invar+'.pdf'))\n",
    "    plt.savefig(os.path.join(figdir,'ens'+invar+'.png'))\n",
    "plt.show()"
   ]
  },
  {
   "cell_type": "markdown",
   "id": "428f51e0-c1d6-4164-b9c1-f2120c126153",
   "metadata": {},
   "source": [
    "<br>\n",
    "\n",
    "#### Here we plot the ensemble variance in ecosystem Net Primary Productivity (NPP)\n",
    "\n",
    "**Note:** If you modified the run period you can also edit the plot below by changing the \"timerange\" variable. e.g. you could change to \"timerange=slice('2000-01-01','2010-12-31')\" if your transient run contains the years 2000-2010"
   ]
  },
  {
   "cell_type": "code",
   "execution_count": null,
   "id": "492ebe15-f2c1-4ae4-bcc8-9abefac0abc3",
   "metadata": {},
   "outputs": [],
   "source": [
    "# Figure options\n",
    "# Subset output to the 1850-1855 period by default. This can be changed by the user\n",
    "timerange=usrtimeslice\n",
    "# variable name\n",
    "invar='NPP'\n",
    "# Unit scaler\n",
    "scaler=24*3600\n",
    "# Unit label for plot\n",
    "units='C flux (g C m$^{-2}$ day$^{-1}$)'\n",
    "\n",
    "# Create the figure\n",
    "fig, ax = plt.subplots(clear=True, figsize=(16,7))\n",
    "for x in range(0,len(ens_dirs),1):\n",
    "    outputnum=''.join([\"output_\",str(x),str([invar])])\n",
    "    plotdata=eval(outputnum)\n",
    "    plotdata=plotdata*scaler  \n",
    "    plotlab=''.join([invar,' ens: ',str(x)])\n",
    "    plotdata.sel(time=timerange).plot(ax=ax,linestyle='-',linewidth=1.3, color=plot_colors[x], label=plotlab)\n",
    "    ax.legend(fontsize=\"small\")\n",
    "    ax.set_xlabel('Year', size=20)\n",
    "    ax.set_ylabel(units, size=20)\n",
    "if savefigs:\n",
    "    plt.savefig(os.path.join(figdir,'ens'+invar+'.pdf'))\n",
    "    plt.savefig(os.path.join(figdir,'ens'+invar+'.png'))\n",
    "plt.show()"
   ]
  },
  {
   "cell_type": "markdown",
   "id": "d009b398-86b6-4978-9993-cccd321a7139",
   "metadata": {},
   "source": [
    "<br>\n",
    "\n",
    "#### Here we plot the ensemble variance in total ecosystem carbon\n",
    "\n",
    "**Note:** If you modified the run period you can also edit the plot below by changing the \"timerange\" variable. e.g. you could change to \"timerange=slice('2000-01-01','2010-12-31')\" if your transient run contains the years 2000-2010"
   ]
  },
  {
   "cell_type": "code",
   "execution_count": null,
   "id": "6a4b821c-db43-4b55-833e-59e539f2e778",
   "metadata": {},
   "outputs": [],
   "source": [
    "# Figure options\n",
    "# Subset output to the 1850-1855 period by default. This can be changed by the user\n",
    "timerange=usrtimeslice\n",
    "# variable name\n",
    "invar='TOTVEGC'\n",
    "# Unit scaler\n",
    "scaler=1\n",
    "# Unit label for plot\n",
    "units='Carbon stock (g C m$^{-2}$)'\n",
    "\n",
    "# Create the figure\n",
    "fig, ax = plt.subplots(clear=True, figsize=(16,7))\n",
    "for x in range(0,len(ens_dirs),1):\n",
    "    outputnum=''.join([\"output_\",str(x),str([invar])])\n",
    "    plotdata=eval(outputnum)\n",
    "    plotdata=plotdata*scaler  \n",
    "    plotlab=''.join([invar,' ens: ',str(x)])\n",
    "    plotdata.sel(time=timerange).plot(ax=ax,linestyle='-',linewidth=1.3, color=plot_colors[x], label=plotlab)\n",
    "    ax.legend(fontsize=\"small\")\n",
    "    ax.set_xlabel('Year', size=20)\n",
    "    ax.set_ylabel(units, size=20)\n",
    "if savefigs:\n",
    "    plt.savefig(os.path.join(figdir,'ens'+invar+'.pdf'))\n",
    "    plt.savefig(os.path.join(figdir,'ens'+invar+'.png'))\n",
    "plt.show()"
   ]
  },
  {
   "cell_type": "markdown",
   "id": "469659c3-380a-4b35-9cdd-03360bc58a6d",
   "metadata": {},
   "source": [
    "<br>\n",
    "\n",
    "#### Here we plot the ensemble variance in total ecosystem nitrogen (nitrogen pool)\n",
    "\n",
    "**Note:** If you modified the run period you can also edit the plot below by changing the \"timerange\" variable. e.g. you could change to \"timerange=slice('2000-01-01','2010-12-31')\" if your transient run contains the years 2000-2010"
   ]
  },
  {
   "cell_type": "code",
   "execution_count": null,
   "id": "ce2d4bef-b383-4903-b0b1-7b2f8af96b41",
   "metadata": {},
   "outputs": [],
   "source": [
    "# Figure options\n",
    "# Subset output to the 1850-1855 period by default. This can be changed by the user\n",
    "timerange=usrtimeslice\n",
    "# variable name\n",
    "invar='TOTVEGN'\n",
    "# Unit scaler\n",
    "scaler=1\n",
    "# Unit label for plot\n",
    "units='Nitrogen stock (g N m$^{-2}$)'\n",
    "\n",
    "# Create the figure\n",
    "fig, ax = plt.subplots(clear=True, figsize=(16,7))\n",
    "for x in range(0,len(ens_dirs),1):\n",
    "    outputnum=''.join([\"output_\",str(x),str([invar])])\n",
    "    plotdata=eval(outputnum)\n",
    "    plotdata=plotdata*scaler  \n",
    "    plotlab=''.join([invar,' ens: ',str(x)])\n",
    "    plotdata.sel(time=timerange).plot(ax=ax,linestyle='-',linewidth=1.3, color=plot_colors[x], label=plotlab)\n",
    "    ax.legend(fontsize=\"small\")\n",
    "    ax.set_xlabel('Year', size=20)\n",
    "    ax.set_ylabel(units, size=20)\n",
    "if savefigs:\n",
    "    plt.savefig(os.path.join(figdir,'ens'+invar+'.pdf'))\n",
    "    plt.savefig(os.path.join(figdir,'ens'+invar+'.png'))\n",
    "plt.show()"
   ]
  },
  {
   "cell_type": "markdown",
   "id": "81141f48-a1f8-4386-9d1c-184f6b99e2f1",
   "metadata": {},
   "source": [
    "<br>\n",
    "\n",
    "#### Here we plot the ensemble variance in Leaf Area Index (LAI)\n",
    "\n",
    "**Note:** If you modified the run period you can also edit the plot below by changing the \"timerange\" variable. e.g. you could change to \"timerange=slice('2000-01-01','2010-12-31')\" if your transient run contains the years 2000-2010"
   ]
  },
  {
   "cell_type": "code",
   "execution_count": null,
   "id": "38fb5dbb-7bcf-45e1-9197-7814c29304c9",
   "metadata": {},
   "outputs": [],
   "source": [
    "# Figure options\n",
    "# Subset output to the 1850-1855 period by default. This can be changed by the user\n",
    "timerange=usrtimeslice\n",
    "# variable name\n",
    "invar='TLAI'\n",
    "# Unit scaler\n",
    "scaler=1\n",
    "# Unit label for plot\n",
    "units='Leaf Area Index (m$^{2}$ m$^{-2}$)'\n",
    "\n",
    "# Create the figure\n",
    "fig, ax = plt.subplots(clear=True, figsize=(16,7))\n",
    "for x in range(0,len(ens_dirs),1):\n",
    "    outputnum=''.join([\"output_\",str(x),str([invar])])\n",
    "    plotdata=eval(outputnum)\n",
    "    plotdata=plotdata*scaler  \n",
    "    plotlab=''.join([invar,' ens: ',str(x)])\n",
    "    plotdata.sel(time=timerange).plot(ax=ax,linestyle='-',linewidth=1.3, color=plot_colors[x], label=plotlab)\n",
    "    ax.legend(fontsize=\"small\")\n",
    "    ax.set_xlabel('Year', size=20)\n",
    "    ax.set_ylabel(units, size=20)\n",
    "if savefigs:\n",
    "    plt.savefig(os.path.join(figdir,'ens'+invar+'.pdf'))\n",
    "    plt.savefig(os.path.join(figdir,'ens'+invar+'.png'))\n",
    "plt.show()"
   ]
  },
  {
   "cell_type": "markdown",
   "id": "0345323f-6afd-4aef-a836-7885b19ecc27",
   "metadata": {},
   "source": [
    "<br>\n",
    "\n",
    "#### Here we plot the ensemble variance in vegetation transpiration (QVEGT)\n",
    "\n",
    "**Note:** If you modified the run period you can also edit the plot below by changing the \"timerange\" variable. e.g. you could change to \"timerange=slice('2000-01-01','2010-12-31')\" if your transient run contains the years 2000-2010"
   ]
  },
  {
   "cell_type": "code",
   "execution_count": null,
   "id": "60baea78-94f1-49a1-88af-89463713ccef",
   "metadata": {},
   "outputs": [],
   "source": [
    "# Figure options\n",
    "# Subset output to the 1850-1855 period by default. This can be changed by the user\n",
    "timerange=usrtimeslice\n",
    "# variable name\n",
    "invar='QVEGT'\n",
    "# Unit scaler\n",
    "scaler=1\n",
    "# Unit label for plot\n",
    "units='Canopy Transpiration (mm s$^{-1}$)'\n",
    "\n",
    "# Create the figure\n",
    "fig, ax = plt.subplots(clear=True, figsize=(16,7))\n",
    "for x in range(0,len(ens_dirs),1):\n",
    "    outputnum=''.join([\"output_\",str(x),str([invar])])\n",
    "    plotdata=eval(outputnum)\n",
    "    plotdata=plotdata*scaler  \n",
    "    plotlab=''.join([invar,' ens: ',str(x)])\n",
    "    plotdata.sel(time=timerange).plot(ax=ax,linestyle='-',linewidth=1.3, color=plot_colors[x], label=plotlab)\n",
    "    ax.legend(fontsize=\"small\")\n",
    "    ax.set_xlabel('Year', size=20)\n",
    "    ax.set_ylabel(units, size=20)\n",
    "if savefigs:\n",
    "    plt.savefig(os.path.join(figdir,'ens'+invar+'.pdf'))\n",
    "    plt.savefig(os.path.join(figdir,'ens'+invar+'.png'))\n",
    "plt.show()"
   ]
  },
  {
   "cell_type": "markdown",
   "id": "ad53d10d-0d02-437a-a689-c81babd0cd56",
   "metadata": {},
   "source": [
    "<br>\n",
    "\n",
    "#### Here we plot the ensemble variance in total latent heat flux (EFLX_LH_TOT)\n",
    "\n",
    "**Note:** If you modified the run period you can also edit the plot below by changing the \"timerange\" variable. e.g. you could change to \"timerange=slice('2000-01-01','2010-12-31')\" if your transient run contains the years 2000-2010"
   ]
  },
  {
   "cell_type": "code",
   "execution_count": null,
   "id": "6cac5ed5-4dc8-495d-99e9-8ad22f43afc0",
   "metadata": {},
   "outputs": [],
   "source": [
    "# Figure options\n",
    "# Subset output to the 1850-1855 period by default. This can be changed by the user\n",
    "timerange=usrtimeslice\n",
    "# variable name\n",
    "invar='EFLX_LH_TOT'\n",
    "# Unit scaler\n",
    "scaler=1\n",
    "# Unit label for plot\n",
    "units='LH (W m$^{-2}$)'\n",
    "\n",
    "# Create the figure\n",
    "fig, ax = plt.subplots(clear=True, figsize=(16,7))\n",
    "for x in range(0,len(ens_dirs),1):\n",
    "    outputnum=''.join([\"output_\",str(x),str([invar])])\n",
    "    plotdata=eval(outputnum)\n",
    "    plotdata=plotdata*scaler  \n",
    "    plotlab=''.join([invar,' ens: ',str(x)])\n",
    "    plotdata.sel(time=timerange).plot(ax=ax,linestyle='-',linewidth=1.3, color=plot_colors[x], label=plotlab)\n",
    "    ax.legend(fontsize=\"small\")\n",
    "    ax.set_xlabel('Year', size=20)\n",
    "    ax.set_ylabel(units, size=20)\n",
    "if savefigs:\n",
    "    plt.savefig(os.path.join(figdir,'ens'+invar+'.pdf'))\n",
    "    plt.savefig(os.path.join(figdir,'ens'+invar+'.png'))\n",
    "plt.show()"
   ]
  },
  {
   "cell_type": "markdown",
   "id": "b60c960a-fc90-4565-8abd-20e812d13bbf",
   "metadata": {},
   "source": [
    "<br>\n",
    "\n",
    "#### Here we plot the ensemble variance in vegetation sensible heat flux (FSH_V)\n",
    "\n",
    "**Note:** If you modified the run period you can also edit the plot below by changing the \"timerange\" variable. e.g. you could change to \"timerange=slice('2000-01-01','2010-12-31')\" if your transient run contains the years 2000-2010"
   ]
  },
  {
   "cell_type": "code",
   "execution_count": null,
   "id": "74beb6ae-5184-42ac-a8c1-19ceeafd6a67",
   "metadata": {},
   "outputs": [],
   "source": [
    "# Figure options\n",
    "# Subset output to the 1850-1855 period by default. This can be changed by the user\n",
    "timerange=usrtimeslice\n",
    "# variable name\n",
    "invar='FSH_V'\n",
    "# Unit scaler\n",
    "scaler=1\n",
    "# Unit label for plot\n",
    "units='SH (W m$^{-2}$)'\n",
    "\n",
    "# Create the figure\n",
    "fig, ax = plt.subplots(clear=True, figsize=(16,7))\n",
    "for x in range(0,len(ens_dirs),1):\n",
    "    outputnum=''.join([\"output_\",str(x),str([invar])])\n",
    "    plotdata=eval(outputnum)\n",
    "    plotdata=plotdata*scaler  \n",
    "    plotlab=''.join([invar,' ens: ',str(x)])\n",
    "    plotdata.sel(time=timerange).plot(ax=ax,linestyle='-',linewidth=1.3, color=plot_colors[x], label=plotlab)\n",
    "    ax.legend(fontsize=\"small\")\n",
    "    ax.set_xlabel('Year', size=20)\n",
    "    ax.set_ylabel(units, size=20)\n",
    "if savefigs:\n",
    "    plt.savefig(os.path.join(figdir,'ens'+invar+'.pdf'))\n",
    "    plt.savefig(os.path.join(figdir,'ens'+invar+'.png'))\n",
    "plt.show()"
   ]
  }
 ],
 "metadata": {
  "kernelspec": {
   "display_name": "Python 3 (ipykernel)",
   "language": "python",
   "name": "python3"
  },
  "language_info": {
   "codemirror_mode": {
    "name": "ipython",
    "version": 3
   },
   "file_extension": ".py",
   "mimetype": "text/x-python",
   "name": "python",
   "nbconvert_exporter": "python",
   "pygments_lexer": "ipython3",
   "version": "3.9.10"
  }
 },
 "nbformat": 4,
 "nbformat_minor": 5
}
