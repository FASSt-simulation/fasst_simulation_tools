{
 "cells": [
  {
   "cell_type": "markdown",
   "id": "60e8dd6e",
   "metadata": {},
   "source": [
    "<center><img src=\"https://github.com/FASSt-simulation/fasst_simulation_tools/raw/main/images/site-logo.png\" width=150 height=150 alt=\"NGEE-Arctic Logo\"/></center>\n",
    "\n",
    "# Plot variables relevant to soil moisture and temperature from ELM output."
   ]
  },
  {
   "cell_type": "markdown",
   "id": "e52d54a4-87ec-4026-a752-3ae4712b997e",
   "metadata": {},
   "source": [
    "#### ----------------------------------------------------------------------------------------------------------------------\n",
    "\n",
    "<br>\n",
    "\n",
    "To run this script and generate the resulting ELM plots we need specific Python libraries.  This step loads those required libraries"
   ]
  },
  {
   "cell_type": "code",
   "execution_count": null,
   "id": "ad916fe0-2b77-4a21-befa-04927169a764",
   "metadata": {},
   "outputs": [],
   "source": [
    "import matplotlib.pyplot as plt\n",
    "import xarray\n",
    "import os\n",
    "import ipywidgets as widgets\n",
    "import glob, numpy"
   ]
  },
  {
   "cell_type": "markdown",
   "id": "b27dfdfc",
   "metadata": {},
   "source": [
    "Next, we locate the output data and identify which sites there is output for. This code creates a dropdown menu to pick the model run you want to plot."
   ]
  },
  {
   "cell_type": "code",
   "execution_count": null,
   "id": "0752a9fe-c5b5-4c65-b874-639db86db160",
   "metadata": {},
   "outputs": [],
   "source": [
    "output_rootdir=os.path.expanduser('~')+'/output/cime_run_dirs/'\n",
    "cases=sorted(glob.glob(\"%s*20TR*\" % output_rootdir))\n",
    "cases=[os.path.basename(x) for x in cases]\n",
    "cases_dropdown = widgets.Dropdown(options=cases,\n",
    "                                description='Chose Case Name:',\n",
    "                                style={'description_width':'auto'},\n",
    "                                layout={'width':'max-content'},\n",
    "                                disabled=False)\n",
    "\n",
    "display(cases_dropdown)"
   ]
  },
  {
   "cell_type": "markdown",
   "id": "b6b469a5",
   "metadata": {},
   "source": [
    "Here, we are using the combined output file over all years of the run. We read in the list of variables, units, and longer descriptions from the dataset. We use the time variable from the dataset to determine the start and end years."
   ]
  },
  {
   "cell_type": "code",
   "execution_count": null,
   "id": "6c1856a6-49f9-461d-93aa-17201bc02574",
   "metadata": {},
   "outputs": [],
   "source": [
    "output_file=output_rootdir + cases_dropdown.value + '/run/ELM_output.nc'\n",
    "\n",
    "# Read in the list of variable, units, and longer descriptions from the dataset\n",
    "with xarray.open_dataset(output_file) as data:\n",
    "    # Determine start and end year of the dataset\n",
    "    data_startyear=data.time[0].item().year\n",
    "    data_endyear=data.time[-1].item().year\n",
    "\n",
    "startyear_picker = widgets.BoundedIntText(value=data_startyear, min=data_startyear, max=data_endyear, step=1,\n",
    "                                          description='Choose start year',style={'description_width':'auto'})\n",
    "endyear_picker = widgets.BoundedIntText(value=data_endyear, min=data_startyear, max=data_endyear, step=1,\n",
    "                                          description='Choose end year',style={'description_width':'auto'})\n",
    "\n",
    "# Use smoothing if we add surface energy balance?\n",
    "# smoothing_picker = widgets.IntText(value=0,description='Choose smoothing on fluxes (months)',style={'description_width':'auto'})\n",
    "\n",
    "display(startyear_picker)\n",
    "display(endyear_picker)\n",
    "# display(smoothing_picker)"
   ]
  },
  {
   "cell_type": "markdown",
   "id": "c52b4e1a",
   "metadata": {},
   "source": [
    "Using the fields above, you can pick the start and end year of the time series to visualize.\n",
    "\n",
    "Next, we read in the dataset and select the time portion based on start and end year picked above."
   ]
  },
  {
   "cell_type": "code",
   "execution_count": null,
   "id": "3e27aa2a",
   "metadata": {},
   "outputs": [],
   "source": [
    "year_start=startyear_picker.value\n",
    "year_end=endyear_picker.value\n",
    "# smoothing=smoothing_picker.value\n",
    "\n",
    "elm_output=xarray.open_dataset(output_file).squeeze().sel(time=slice(str(year_start),str(year_end)))"
   ]
  },
  {
   "cell_type": "markdown",
   "id": "3d063b0c",
   "metadata": {},
   "source": [
    "Now we set up a figure and plot the relevant variables in different panels."
   ]
  },
  {
   "cell_type": "code",
   "execution_count": null,
   "id": "435c9b2b",
   "metadata": {},
   "outputs": [],
   "source": [
    "# Soil temperature and freezing\n",
    "\n",
    "# Set up a figure with three rows\n",
    "fig,a=plt.subplots(nrows=4,clear=True,num='Soil temperature and ice',figsize=(15,13))\n",
    "\n",
    "# Subset output to the 1950-2010 period\n",
    "\n",
    "ax=a[0]\n",
    "elm_output['ALTMAX'].plot(ax=ax,label='Maximum active layer thickness',color='C1')\n",
    "elm_output['ZWT'].plot(ax=ax,label='Water table depth',color='blue')\n",
    "elm_output['ZWT_PERCH'].plot(ax=ax,label='Perched water table depth',color='blue',linestyle='--')\n",
    "ax.set(title='Active layer and water table',xlabel='',ylabel='Depth (m)')\n",
    "ax.legend()\n",
    "\n",
    "ax=a[1]\n",
    "elm_output['SNOW_DEPTH'].plot(ax=ax,label='Snow depth')\n",
    "ax.set(title='Snow depth',xlabel='',ylabel='Depth (m)')\n",
    "\n",
    "ax=a[2]\n",
    "(elm_output['TSOI']-273.15).T.plot(ax=ax,cbar_kwargs={'label':'Soil temperature (C)'},center=0,vmin=-10,vmax=10,cmap='coolwarm')\n",
    "elm_output['ALTMAX'].plot(ax=ax,label='Maximum active layer thickness',color='k',linestyle=':',linewidth=0.5)\n",
    "ax.set(title='Soil temperature',xlabel='',ylabel='Depth (m)',ylim=(20,0))\n",
    "\n",
    "ax=a[3]\n",
    "(elm_output['SOILICE']/(elm_output['SOILLIQ']+elm_output['SOILICE'])).T.plot(ax=ax,cbar_kwargs={'label':'Soil frozen water fraction'},cmap='Blues_r')\n",
    "ax.set(title='Soil frozen water',xlabel='Year',ylabel='Depth (m)',ylim=(3,0))"
   ]
  },
  {
   "cell_type": "markdown",
   "id": "18723106-db43-407f-a49a-33f6e078ca93",
   "metadata": {},
   "source": [
    "<center><img src=\"https://github.com/FASSt-simulation/fasst_simulation_tools/raw/main/images/site-logo.png\" width=150 height=150 alt=\"NGEE-Arctic Logo\"/></center>"
   ]
  }
 ],
 "metadata": {
  "kernelspec": {
   "display_name": "Python 3 (ipykernel)",
   "language": "python",
   "name": "python3"
  },
  "language_info": {
   "codemirror_mode": {
    "name": "ipython",
    "version": 3
   },
   "file_extension": ".py",
   "mimetype": "text/x-python",
   "name": "python",
   "nbconvert_exporter": "python",
   "pygments_lexer": "ipython3",
   "version": "3.9.10"
  },
  "vscode": {
   "interpreter": {
    "hash": "f2faae03d4f60a9fcc15551e4be59690421db05e71c28b68b57425bbe54727b4"
   }
  }
 },
 "nbformat": 4,
 "nbformat_minor": 5
}
