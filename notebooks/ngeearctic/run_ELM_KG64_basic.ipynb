{
 "cells": [
  {
   "cell_type": "code",
   "execution_count": 4,
   "id": "a5ef4ceb-4231-4043-8d86-f64883aec7db",
   "metadata": {},
   "outputs": [
    {
     "name": "stdout",
     "output_type": "stream",
     "text": [
      "/Users/sserbin/scratch/elm_testruns\n"
     ]
    }
   ],
   "source": [
    "# Setup environment\n",
    "import os\n",
    "import glob\n",
    "import subprocess\n",
    "import sys\n",
    "import time\n",
    "from scipy.io import netcdf as nc\n",
    "\n",
    "import matplotlib.pyplot as plt\n",
    "from os.path import expanduser\n",
    "\n",
    "# Define output path\n",
    "home = expanduser(\"~\")\n",
    "output_dir = os.path.join(home,'scratch/elm_testruns')  # main host machine output directory\n",
    "os.makedirs(os.path.dirname(output_dir), exist_ok=True)\n",
    "print(output_dir)"
   ]
  },
  {
   "cell_type": "code",
   "execution_count": 7,
   "id": "8aba089b-b4cd-4742-a9ae-ed7078a5152b",
   "metadata": {},
   "outputs": [
    {
     "name": "stdout",
     "output_type": "stream",
     "text": [
      "fasstsimulation/elm-builds:elm_v2-for-ngee\n",
      "elm_v2-for-ngee: Pulling from fasstsimulation/elm-builds\n",
      "Digest: sha256:053d765889c59a9d0c3937e36e50f125ad3be83916b6651e450867e845dc341d\n",
      "Status: Image is up to date for fasstsimulation/elm-builds:elm_v2-for-ngee\n",
      "docker.io/fasstsimulation/elm-builds:elm_v2-for-ngee\n"
     ]
    },
    {
     "data": {
      "text/plain": [
       "0"
      ]
     },
     "execution_count": 7,
     "metadata": {},
     "output_type": "execute_result"
    }
   ],
   "source": [
    "# Grab latest ELM docker container from Docker hub\n",
    "container_source = \"fasstsimulation/elm-builds\"\n",
    "docker_container_tag = \"elm_v2-for-ngee\"\n",
    "container_name = ''.join([container_source,\":\",docker_container_tag])\n",
    "print(container_name)\n",
    "docker_pull_command = ''.join([\"docker pull \",container_source,\":\",docker_container_tag])\n",
    "os.system(docker_pull_command)"
   ]
  },
  {
   "cell_type": "code",
   "execution_count": 7,
   "id": "da151457-9e50-409a-a7af-6b8c93dc559d",
   "metadata": {},
   "outputs": [
    {
     "name": "stdout",
     "output_type": "stream",
     "text": [
      "elmdata\n",
      "elmoutput\n"
     ]
    },
    {
     "data": {
      "text/plain": [
       "0"
      ]
     },
     "execution_count": 7,
     "metadata": {},
     "output_type": "execute_result"
    }
   ],
   "source": [
    "# Create docker volumes for output\n",
    "elmdata_name = \"elmdata\"\n",
    "elmoutput_name = \"elmoutput\"\n",
    "run_command1 = ''.join(['docker volume create ', elmdata_name])\n",
    "run_command2 = ''.join(['docker volume create ', elmoutput_name])\n",
    "#print(run_command)\n",
    "os.system(run_command1)\n",
    "os.system(run_command2)"
   ]
  },
  {
   "cell_type": "code",
   "execution_count": 8,
   "id": "02109908-8d6c-48dd-b04c-bc6223baa153",
   "metadata": {},
   "outputs": [
    {
     "name": "stdout",
     "output_type": "stream",
     "text": [
      "docker run --hostname=docker --user modeluser -v elmdata:/inputdata -v ~/scratch/elm_testruns/olmt_test:/output fasstsimulation/elm-builds:elm_v2-for-ngee /scripts/OLMT_docker_example_short.sh\n"
     ]
    }
   ],
   "source": [
    "# Define run options for OLMT\n",
    "#docker run -t -i --hostname=docker --user modeluser -v elmdata:/inputdata -v elmoutput:/output fasstsimulation/elm-builds:elm_v2-for-ngee /scripts/OLMT_docker_example.sh\n",
    "hostname=\"docker\"\n",
    "user=\"modeluser\"\n",
    "elmdata=\"elmdata\"      # where are the input driver datasets need for ELM?\n",
    "elmoutput=\"elmoutput\"  # where do you want to put the model output?\n",
    "#script_to_run=\"OLMT_docker_example.sh\"\n",
    "script_to_run=\"OLMT_docker_example_short.sh\"\n",
    "\n",
    "# example input/output locations other than docker volumes\n",
    "elmoutput=\"~/scratch/elm_testruns/olmt_test\"\n",
    "\n",
    "elm_run_command = ''.join(['docker run --hostname=', hostname,' --user ', \\\n",
    "                           user, ' -v ', elmdata,':/inputdata -v ', elmoutput, ':/output', \\\n",
    "                           ' ', container_source,':',docker_container_tag, ' /scripts/', \\\n",
    "                          script_to_run])\n",
    "print(elm_run_command)"
   ]
  },
  {
   "cell_type": "code",
   "execution_count": 50,
   "id": "63ef866d-5b70-4f06-be0e-552655cc20e7",
   "metadata": {},
   "outputs": [
    {
     "name": "stdout",
     "output_type": "stream",
     "text": [
      "Start date/time: Tue Aug  9 17:25:04 2022\n"
     ]
    },
    {
     "name": "stderr",
     "output_type": "stream",
     "text": [
      "Variable MAX_GPUS_PER_NODE not defined for machine docker\n"
     ]
    },
    {
     "name": "stdout",
     "output_type": "stream",
     "text": [
      "('land model name: ', 'ELM')\n",
      "Machine is: docker\n",
      "Warning:  Case directory exists\n",
      "--rmold specified.  Removing old case \n",
      "CASE directory is: /output/cime_case_dirs/OLMT_AK-K64G_ICB1850CNRDCTCBC_ad_spinup\n",
      "CASE exeroot is: /output/cime_run_dirs/OLMT_AK-K64G_ICB1850CNRDCTCBC_ad_spinup/bld\n",
      "CASE rundir is: /output/cime_run_dirs/OLMT_AK-K64G_ICB1850CNRDCTCBC_ad_spinup/run\n",
      "Removing build directory: /output/cime_run_dirs/OLMT_AK-K64G_ICB1850CNRDCTCBC_ad_spinup/bld\n",
      "Removing run directory: /output/cime_run_dirs/OLMT_AK-K64G_ICB1850CNRDCTCBC_ad_spinup/run\n",
      "\n",
      " -----INFO: using user-provided DOMAIN\n",
      "domain file: /inputdata/share/domains/domain.clm/domain.lnd.1x1pt_kougarok-GRID_navy.nc\n",
      "\n",
      " -----INFO: using user-provided SURFDATA\n",
      "surface data file: /inputdata/lnd/clm2/surfdata_map/surfdata_1x1pt_kougarok-GRID_simyr1850_c360x720_171002.nc\n",
      "\n",
      " -----INFO: using user-provided 20th landuse data file\n",
      "20th landuse data file: /inputdata/lnd/clm2/surfdata_map/landuse.timeseries_1x1pt_kougarok-GRID_simyr1850-2015_c180423.nc'\n",
      "\n",
      "\n",
      " -----INFO: using user-provided forcing data\n",
      "Under directory: /inputdata/atm/datm7/atm_forcing.datm7.GSWP3.0.5d.v2.c180716_kougarok-Grid/cpl_bypass_full\n",
      "clm_params_c180524.nc\n",
      "nccopy -3 /inputdata/lnd/clm2/paramdata/clm_params_c180524.nc /tools/OLMT/temp/clm_params.nc\n",
      "./create_newcase --case /output/cime_case_dirs/OLMT_AK-K64G_ICB1850CNRDCTCBC_ad_spinup --mach docker --compset ICB1850CNRDCTCBC --res ELM_USRDAT --mpilib openmpi --walltime 6:00:00 --handle-preexisting-dirs u --project e3sm --compiler gnu > create_newcase.log\n",
      "OLMT_AK-K64G_ICB1850CNRDCTCBC_ad_spinup created.  See create_newcase.log for details\n",
      "Setting NTASKS_ATM to 1\n",
      "Setting NTASKS_LND to 1\n",
      "Setting NTASKS_ICE to 1\n",
      "Setting NTASKS_OCN to 1\n",
      "Setting NTASKS_CPL to 1\n",
      "Setting NTASKS_GLC to 1\n",
      "Setting NTASKS_ROF to 1\n",
      "Setting NTASKS_WAV to 1\n",
      "Running case.setup\n",
      "Running case.build\n"
     ]
    },
    {
     "name": "stderr",
     "output_type": "stream",
     "text": [
      "Variable MAX_GPUS_PER_NODE not defined for machine docker\n"
     ]
    },
    {
     "name": "stdout",
     "output_type": "stream",
     "text": [
      "For your changes to take effect, run:\n",
      "./case.build --clean-all\n",
      "./case.build\n",
      "('land model name: ', 'ELM')\n",
      "Machine is: docker\n",
      "CASE directory is: /output/cime_case_dirs/OLMT_AK-K64G_ICB1850CNPRDCTCBC\n",
      "CASE exeroot is: /output/cime_run_dirs/OLMT_AK-K64G_ICB1850CNRDCTCBC_ad_spinup/bld\n",
      "CASE rundir is: /output/cime_run_dirs/OLMT_AK-K64G_ICB1850CNPRDCTCBC/run\n",
      "Removing run directory: /output/cime_run_dirs/OLMT_AK-K64G_ICB1850CNPRDCTCBC/run\n",
      "\n",
      " -----INFO: using user-provided DOMAIN\n",
      "domain file: /inputdata/share/domains/domain.clm/domain.lnd.1x1pt_kougarok-GRID_navy.nc\n",
      "\n",
      " -----INFO: using user-provided SURFDATA\n",
      "surface data file: /inputdata/lnd/clm2/surfdata_map/surfdata_1x1pt_kougarok-GRID_simyr1850_c360x720_171002.nc\n",
      "\n",
      " -----INFO: using user-provided 20th landuse data file\n",
      "20th landuse data file: /inputdata/lnd/clm2/surfdata_map/landuse.timeseries_1x1pt_kougarok-GRID_simyr1850-2015_c180423.nc'\n",
      "\n",
      "\n",
      " -----INFO: using user-provided forcing data\n",
      "Under directory: /inputdata/atm/datm7/atm_forcing.datm7.GSWP3.0.5d.v2.c180716_kougarok-Grid/cpl_bypass_full\n",
      "clm_params_c180524.nc\n",
      "nccopy -3 /inputdata/lnd/clm2/paramdata/clm_params_c180524.nc /tools/OLMT/temp/clm_params.nc\n",
      "./create_newcase --case /output/cime_case_dirs/OLMT_AK-K64G_ICB1850CNPRDCTCBC --mach docker --compset ICB1850CNPRDCTCBC --res ELM_USRDAT --mpilib openmpi --walltime 6:00:00 --handle-preexisting-dirs u --project e3sm --compiler gnu > create_newcase.log\n",
      "OLMT_AK-K64G_ICB1850CNPRDCTCBC created.  See create_newcase.log for details\n",
      "Setting NTASKS_ATM to 1\n",
      "Setting NTASKS_LND to 1\n",
      "Setting NTASKS_ICE to 1\n",
      "Setting NTASKS_OCN to 1\n",
      "Setting NTASKS_CPL to 1\n",
      "Setting NTASKS_GLC to 1\n",
      "Setting NTASKS_ROF to 1\n",
      "Setting NTASKS_WAV to 1\n",
      "Running case.setup\n"
     ]
    },
    {
     "name": "stderr",
     "output_type": "stream",
     "text": [
      "Variable MAX_GPUS_PER_NODE not defined for machine docker\n"
     ]
    },
    {
     "name": "stdout",
     "output_type": "stream",
     "text": [
      "For your changes to take effect, run:\n",
      "./case.build --clean-all\n",
      "./case.build\n",
      "('land model name: ', 'ELM')\n",
      "Machine is: docker\n",
      "CASE directory is: /output/cime_case_dirs/OLMT_AK-K64G_ICB20TRCNPRDCTCBC\n",
      "CASE exeroot is: /output/cime_run_dirs/OLMT_AK-K64G_ICB1850CNRDCTCBC_ad_spinup/bld\n",
      "CASE rundir is: /output/cime_run_dirs/OLMT_AK-K64G_ICB20TRCNPRDCTCBC/run\n",
      "Removing run directory: /output/cime_run_dirs/OLMT_AK-K64G_ICB20TRCNPRDCTCBC/run\n",
      "\n",
      " -----INFO: using user-provided DOMAIN\n",
      "domain file: /inputdata/share/domains/domain.clm/domain.lnd.1x1pt_kougarok-GRID_navy.nc\n",
      "\n",
      " -----INFO: using user-provided SURFDATA\n",
      "surface data file: /inputdata/lnd/clm2/surfdata_map/surfdata_1x1pt_kougarok-GRID_simyr1850_c360x720_171002.nc\n",
      "\n",
      " -----INFO: using user-provided 20th landuse data file\n",
      "20th landuse data file: /inputdata/lnd/clm2/surfdata_map/landuse.timeseries_1x1pt_kougarok-GRID_simyr1850-2015_c180423.nc'\n",
      "\n",
      "\n",
      " -----INFO: using user-provided forcing data\n",
      "Under directory: /inputdata/atm/datm7/atm_forcing.datm7.GSWP3.0.5d.v2.c180716_kougarok-Grid/cpl_bypass_full\n",
      "clm_params_c180524.nc\n",
      "nccopy -3 /inputdata/lnd/clm2/paramdata/clm_params_c180524.nc /tools/OLMT/temp/clm_params.nc\n",
      "./create_newcase --case /output/cime_case_dirs/OLMT_AK-K64G_ICB20TRCNPRDCTCBC --mach docker --compset ICB20TRCNPRDCTCBC --res ELM_USRDAT --mpilib openmpi --walltime 6:00:00 --handle-preexisting-dirs u --project e3sm --compiler gnu > create_newcase.log\n",
      "OLMT_AK-K64G_ICB20TRCNPRDCTCBC created.  See create_newcase.log for details\n",
      "Setting NTASKS_ATM to 1\n",
      "Setting NTASKS_LND to 1\n",
      "Setting NTASKS_ICE to 1\n",
      "Setting NTASKS_OCN to 1\n",
      "Setting NTASKS_CPL to 1\n",
      "Setting NTASKS_GLC to 1\n",
      "Setting NTASKS_ROF to 1\n",
      "Setting NTASKS_WAV to 1\n",
      "Running case.setup\n",
      "  2022-08-09 21:45:45 atm \n",
      "Create namelist for component satm\n",
      "   Calling /E3SM/components/stub_comps/satm/cime_config/buildnml\n",
      "  2022-08-09 21:45:45 lnd \n",
      "Create namelist for component elm\n",
      "   Calling /E3SM/components/elm//cime_config/buildnml\n",
      "  2022-08-09 21:45:45 ice \n",
      "Create namelist for component sice\n",
      "   Calling /E3SM/components/stub_comps/sice/cime_config/buildnml\n",
      "  2022-08-09 21:45:46 ocn \n",
      "Create namelist for component socn\n",
      "   Calling /E3SM/components/stub_comps/socn/cime_config/buildnml\n",
      "  2022-08-09 21:45:46 rof \n",
      "Create namelist for component mosart\n",
      "   Calling /E3SM/components/mosart//cime_config/buildnml\n",
      "  2022-08-09 21:45:46 glc \n",
      "Create namelist for component sglc\n",
      "   Calling /E3SM/components/stub_comps/sglc/cime_config/buildnml\n",
      "  2022-08-09 21:45:46 wav \n",
      "Create namelist for component swav\n",
      "   Calling /E3SM/components/stub_comps/swav/cime_config/buildnml\n",
      "  2022-08-09 21:45:46 iac \n",
      "Create namelist for component siac\n",
      "   Calling /E3SM/components/stub_comps/siac/cime_config/buildnml\n",
      "  2022-08-09 21:45:46 esp \n",
      "Create namelist for component sesp\n",
      "   Calling /E3SM/components/stub_comps/sesp/cime_config/buildnml\n",
      "  2022-08-09 21:45:46 cpl \n",
      "Create namelist for component drv\n",
      "   Calling /E3SM/driver-mct/cime_config/buildnml\n",
      "Checking that inputdata is available as part of case submission\n",
      "Loading input file list: 'Buildconf/cpl.input_data_list'\n",
      "Loading input file list: 'Buildconf/elm.input_data_list'\n",
      "Loading input file list: 'Buildconf/mosart.input_data_list'\n",
      "Check case OK\n",
      "Starting job script case.run\n",
      "2022-08-09 21:45:47 CASE.RUN BEGINS HERE\n",
      "2022-08-09 21:45:47 RUN_MODEL BEGINS HERE\n",
      "2022-08-09 21:45:47 PRE_RUN_CHECK BEGINS HERE\n"
     ]
    },
    {
     "name": "stderr",
     "output_type": "stream",
     "text": [
      "Model elm no file specified for finidat\n",
      "submit_jobs case.run\n",
      "Submit job case.run\n"
     ]
    },
    {
     "name": "stdout",
     "output_type": "stream",
     "text": [
      "2022-08-09 21:45:48 NAMELIST CREATION BEGINS HERE\n",
      "Generating namelists for /output/cime_case_dirs/OLMT_AK-K64G_ICB1850CNRDCTCBC_ad_spinup\n",
      "  2022-08-09 21:45:48 atm \n",
      "Create namelist for component satm\n",
      "   Calling /E3SM/components/stub_comps/satm/cime_config/buildnml\n",
      "  2022-08-09 21:45:48 lnd \n",
      "Create namelist for component elm\n",
      "   Calling /E3SM/components/elm//cime_config/buildnml\n",
      "  2022-08-09 21:45:48 ice \n",
      "Create namelist for component sice\n",
      "   Calling /E3SM/components/stub_comps/sice/cime_config/buildnml\n",
      "  2022-08-09 21:45:48 ocn \n",
      "Create namelist for component socn\n",
      "   Calling /E3SM/components/stub_comps/socn/cime_config/buildnml\n",
      "  2022-08-09 21:45:48 rof \n",
      "Create namelist for component mosart\n",
      "   Calling /E3SM/components/mosart//cime_config/buildnml\n",
      "  2022-08-09 21:45:49 glc \n",
      "Create namelist for component sglc\n",
      "   Calling /E3SM/components/stub_comps/sglc/cime_config/buildnml\n",
      "  2022-08-09 21:45:49 wav \n",
      "Create namelist for component swav\n",
      "   Calling /E3SM/components/stub_comps/swav/cime_config/buildnml\n",
      "  2022-08-09 21:45:49 iac \n",
      "Create namelist for component siac\n",
      "   Calling /E3SM/components/stub_comps/siac/cime_config/buildnml\n",
      "  2022-08-09 21:45:49 esp \n",
      "Create namelist for component sesp\n",
      "   Calling /E3SM/components/stub_comps/sesp/cime_config/buildnml\n",
      "  2022-08-09 21:45:49 cpl \n",
      "Create namelist for component drv\n",
      "   Calling /E3SM/driver-mct/cime_config/buildnml\n",
      "2022-08-09 21:45:50 NAMELIST CREATION HAS FINISHED\n",
      "-------------------------------------------------------------------------\n",
      " - Prestage required restarts into /output/cime_run_dirs/OLMT_AK-K64G_ICB1850CNRDCTCBC_ad_spinup/run\n",
      " - Case input data directory (DIN_LOC_ROOT) is /inputdata \n",
      " - Checking for required input datasets in DIN_LOC_ROOT\n",
      "-------------------------------------------------------------------------\n",
      "2022-08-09 21:45:50 PRE_RUN_CHECK HAS FINISHED\n",
      "run command is mpirun  -np 1  -npernode 4 /output/cime_run_dirs/OLMT_AK-K64G_ICB1850CNRDCTCBC_ad_spinup/bld/e3sm.exe   >> e3sm.log.$LID 2>&1  \n",
      "2022-08-09 21:45:50 SAVE_PRERUN_PROVENANCE BEGINS HERE\n",
      "Starting job script case.run\n",
      "2022-08-09 21:45:50 SAVE_PRERUN_PROVENANCE HAS FINISHED\n",
      "2022-08-09 21:45:50 MODEL EXECUTION BEGINS HERE\n",
      "2022-08-09 22:17:51 MODEL EXECUTION HAS FINISHED\n",
      "2022-08-09 22:17:51 POST_RUN_CHECK BEGINS HERE\n",
      "2022-08-09 22:17:51 POST_RUN_CHECK HAS FINISHED\n",
      "2022-08-09 22:17:51 RUN_MODEL HAS FINISHED\n",
      "2022-08-09 22:17:51 GET_TIMING BEGINS HERE\n",
      "2022-08-09 22:17:51 GET_TIMING HAS FINISHED\n",
      "2022-08-09 22:17:54 SAVE_POSTRUN_PROVENANCE BEGINS HERE\n",
      "2022-08-09 22:17:54 SAVE_POSTRUN_PROVENANCE HAS FINISHED\n",
      "2022-08-09 22:17:54 CASE.RUN HAS FINISHED\n",
      "Submitted job case.run with id None\n"
     ]
    },
    {
     "name": "stderr",
     "output_type": "stream",
     "text": [
      "check for resubmit\n",
      "dout_s False \n",
      "mach docker \n",
      "resubmit_num 0\n",
      "adjust_restart.py:96: UserWarning: Warning: converting a masked element to nan.\n",
      "  if (float(rest_vals[i]) > 0.0 and float(hist_vals[0][i]) < 1.0e10 and float(hist_vals[0][i]) > 0.001):\n"
     ]
    },
    {
     "name": "stdout",
     "output_type": "stream",
     "text": [
      "  2022-08-09 22:18:02 atm \n",
      "Create namelist for component satm\n",
      "   Calling /E3SM/components/stub_comps/satm/cime_config/buildnml\n",
      "  2022-08-09 22:18:02 lnd \n",
      "Create namelist for component elm\n",
      "   Calling /E3SM/components/elm//cime_config/buildnml\n",
      "  2022-08-09 22:18:02 ice \n",
      "Create namelist for component sice\n",
      "   Calling /E3SM/components/stub_comps/sice/cime_config/buildnml\n",
      "  2022-08-09 22:18:02 ocn \n",
      "Create namelist for component socn\n",
      "   Calling /E3SM/components/stub_comps/socn/cime_config/buildnml\n",
      "  2022-08-09 22:18:02 rof \n",
      "Create namelist for component mosart\n",
      "   Calling /E3SM/components/mosart//cime_config/buildnml\n",
      "  2022-08-09 22:18:03 glc \n",
      "Create namelist for component sglc\n",
      "   Calling /E3SM/components/stub_comps/sglc/cime_config/buildnml\n",
      "  2022-08-09 22:18:03 wav \n",
      "Create namelist for component swav\n",
      "   Calling /E3SM/components/stub_comps/swav/cime_config/buildnml\n",
      "  2022-08-09 22:18:03 iac \n",
      "Create namelist for component siac\n",
      "   Calling /E3SM/components/stub_comps/siac/cime_config/buildnml\n",
      "  2022-08-09 22:18:03 esp \n",
      "Create namelist for component sesp\n",
      "   Calling /E3SM/components/stub_comps/sesp/cime_config/buildnml\n",
      "  2022-08-09 22:18:03 cpl \n",
      "Create namelist for component drv\n",
      "   Calling /E3SM/driver-mct/cime_config/buildnml\n",
      "Checking that inputdata is available as part of case submission\n",
      "Loading input file list: 'Buildconf/cpl.input_data_list'\n",
      "Loading input file list: 'Buildconf/elm.input_data_list'\n",
      "Loading input file list: 'Buildconf/mosart.input_data_list'\n",
      "Check case OK\n",
      "Starting job script case.run\n",
      "2022-08-09 22:18:05 CASE.RUN BEGINS HERE\n",
      "2022-08-09 22:18:05 RUN_MODEL BEGINS HERE\n",
      "2022-08-09 22:18:05 PRE_RUN_CHECK BEGINS HERE\n",
      "2022-08-09 22:18:05 NAMELIST CREATION BEGINS HERE\n",
      "Generating namelists for /output/cime_case_dirs/OLMT_AK-K64G_ICB1850CNPRDCTCBC\n"
     ]
    },
    {
     "name": "stderr",
     "output_type": "stream",
     "text": [
      "submit_jobs case.run\n",
      "Submit job case.run\n"
     ]
    },
    {
     "name": "stdout",
     "output_type": "stream",
     "text": [
      "  2022-08-09 22:18:05 atm \n",
      "Create namelist for component satm\n",
      "   Calling /E3SM/components/stub_comps/satm/cime_config/buildnml\n",
      "  2022-08-09 22:18:05 lnd \n",
      "Create namelist for component elm\n",
      "   Calling /E3SM/components/elm//cime_config/buildnml\n",
      "  2022-08-09 22:18:06 ice \n",
      "Create namelist for component sice\n",
      "   Calling /E3SM/components/stub_comps/sice/cime_config/buildnml\n",
      "  2022-08-09 22:18:06 ocn \n",
      "Create namelist for component socn\n",
      "   Calling /E3SM/components/stub_comps/socn/cime_config/buildnml\n",
      "  2022-08-09 22:18:06 rof \n",
      "Create namelist for component mosart\n",
      "   Calling /E3SM/components/mosart//cime_config/buildnml\n",
      "  2022-08-09 22:18:06 glc \n",
      "Create namelist for component sglc\n",
      "   Calling /E3SM/components/stub_comps/sglc/cime_config/buildnml\n",
      "  2022-08-09 22:18:06 wav \n",
      "Create namelist for component swav\n",
      "   Calling /E3SM/components/stub_comps/swav/cime_config/buildnml\n",
      "  2022-08-09 22:18:06 iac \n",
      "Create namelist for component siac\n",
      "   Calling /E3SM/components/stub_comps/siac/cime_config/buildnml\n",
      "  2022-08-09 22:18:06 esp \n",
      "Create namelist for component sesp\n",
      "   Calling /E3SM/components/stub_comps/sesp/cime_config/buildnml\n",
      "  2022-08-09 22:18:06 cpl \n",
      "Create namelist for component drv\n",
      "   Calling /E3SM/driver-mct/cime_config/buildnml\n",
      "2022-08-09 22:18:07 NAMELIST CREATION HAS FINISHED\n",
      "-------------------------------------------------------------------------\n",
      " - Prestage required restarts into /output/cime_run_dirs/OLMT_AK-K64G_ICB1850CNPRDCTCBC/run\n",
      " - Case input data directory (DIN_LOC_ROOT) is /inputdata \n",
      " - Checking for required input datasets in DIN_LOC_ROOT\n",
      "-------------------------------------------------------------------------\n",
      "2022-08-09 22:18:07 PRE_RUN_CHECK HAS FINISHED\n",
      "run command is mpirun  -np 1  -npernode 4 /output/cime_run_dirs/OLMT_AK-K64G_ICB1850CNRDCTCBC_ad_spinup/bld/e3sm.exe   >> e3sm.log.$LID 2>&1  \n",
      "2022-08-09 22:18:07 SAVE_PRERUN_PROVENANCE BEGINS HERE\n",
      "Starting job script case.run\n",
      "2022-08-09 22:18:08 SAVE_PRERUN_PROVENANCE HAS FINISHED\n",
      "2022-08-09 22:18:08 MODEL EXECUTION BEGINS HERE\n",
      "2022-08-10 00:06:33 MODEL EXECUTION HAS FINISHED\n",
      "2022-08-10 00:06:33 POST_RUN_CHECK BEGINS HERE\n",
      "2022-08-10 00:06:33 POST_RUN_CHECK HAS FINISHED\n",
      "2022-08-10 00:06:33 RUN_MODEL HAS FINISHED\n",
      "2022-08-10 00:06:33 GET_TIMING BEGINS HERE\n",
      "2022-08-10 00:06:33 GET_TIMING HAS FINISHED\n",
      "2022-08-10 00:06:42 SAVE_POSTRUN_PROVENANCE BEGINS HERE\n",
      "2022-08-10 00:06:42 SAVE_POSTRUN_PROVENANCE HAS FINISHED\n",
      "2022-08-10 00:06:42 CASE.RUN HAS FINISHED\n",
      "Submitted job case.run with id None\n"
     ]
    },
    {
     "name": "stderr",
     "output_type": "stream",
     "text": [
      "check for resubmit\n",
      "dout_s False \n",
      "mach docker \n",
      "resubmit_num 0\n"
     ]
    },
    {
     "name": "stdout",
     "output_type": "stream",
     "text": [
      "  2022-08-10 00:06:44 atm \n",
      "Create namelist for component satm\n",
      "   Calling /E3SM/components/stub_comps/satm/cime_config/buildnml\n",
      "  2022-08-10 00:06:44 lnd \n",
      "Create namelist for component elm\n",
      "   Calling /E3SM/components/elm//cime_config/buildnml\n",
      "  2022-08-10 00:06:45 ice \n",
      "Create namelist for component sice\n",
      "   Calling /E3SM/components/stub_comps/sice/cime_config/buildnml\n",
      "  2022-08-10 00:06:45 ocn \n",
      "Create namelist for component socn\n",
      "   Calling /E3SM/components/stub_comps/socn/cime_config/buildnml\n",
      "  2022-08-10 00:06:45 rof \n",
      "Create namelist for component mosart\n",
      "   Calling /E3SM/components/mosart//cime_config/buildnml\n",
      "  2022-08-10 00:06:46 glc \n",
      "Create namelist for component sglc\n",
      "   Calling /E3SM/components/stub_comps/sglc/cime_config/buildnml\n",
      "  2022-08-10 00:06:46 wav \n",
      "Create namelist for component swav\n",
      "   Calling /E3SM/components/stub_comps/swav/cime_config/buildnml\n",
      "  2022-08-10 00:06:46 iac \n",
      "Create namelist for component siac\n",
      "   Calling /E3SM/components/stub_comps/siac/cime_config/buildnml\n",
      "  2022-08-10 00:06:46 esp \n",
      "Create namelist for component sesp\n",
      "   Calling /E3SM/components/stub_comps/sesp/cime_config/buildnml\n",
      "  2022-08-10 00:06:46 cpl \n",
      "Create namelist for component drv\n",
      "   Calling /E3SM/driver-mct/cime_config/buildnml\n",
      "Checking that inputdata is available as part of case submission\n",
      "Loading input file list: 'Buildconf/cpl.input_data_list'\n",
      "Loading input file list: 'Buildconf/elm.input_data_list'\n",
      "Loading input file list: 'Buildconf/mosart.input_data_list'\n",
      "Check case OK\n",
      "Starting job script case.run\n",
      "2022-08-10 00:06:47 CASE.RUN BEGINS HERE\n",
      "2022-08-10 00:06:47 RUN_MODEL BEGINS HERE\n",
      "2022-08-10 00:06:47 PRE_RUN_CHECK BEGINS HERE\n",
      "2022-08-10 00:06:47 NAMELIST CREATION BEGINS HERE\n",
      "Generating namelists for /output/cime_case_dirs/OLMT_AK-K64G_ICB20TRCNPRDCTCBC\n"
     ]
    },
    {
     "name": "stderr",
     "output_type": "stream",
     "text": [
      "submit_jobs case.run\n",
      "Submit job case.run\n"
     ]
    },
    {
     "name": "stdout",
     "output_type": "stream",
     "text": [
      "  2022-08-10 00:06:48 atm \n",
      "Create namelist for component satm\n",
      "   Calling /E3SM/components/stub_comps/satm/cime_config/buildnml\n",
      "  2022-08-10 00:06:48 lnd \n",
      "Create namelist for component elm\n",
      "   Calling /E3SM/components/elm//cime_config/buildnml\n",
      "  2022-08-10 00:06:48 ice \n",
      "Create namelist for component sice\n",
      "   Calling /E3SM/components/stub_comps/sice/cime_config/buildnml\n",
      "  2022-08-10 00:06:48 ocn \n",
      "Create namelist for component socn\n",
      "   Calling /E3SM/components/stub_comps/socn/cime_config/buildnml\n",
      "  2022-08-10 00:06:48 rof \n",
      "Create namelist for component mosart\n",
      "   Calling /E3SM/components/mosart//cime_config/buildnml\n",
      "  2022-08-10 00:06:49 glc \n",
      "Create namelist for component sglc\n",
      "   Calling /E3SM/components/stub_comps/sglc/cime_config/buildnml\n",
      "  2022-08-10 00:06:49 wav \n",
      "Create namelist for component swav\n",
      "   Calling /E3SM/components/stub_comps/swav/cime_config/buildnml\n",
      "  2022-08-10 00:06:49 iac \n",
      "Create namelist for component siac\n",
      "   Calling /E3SM/components/stub_comps/siac/cime_config/buildnml\n",
      "  2022-08-10 00:06:49 esp \n",
      "Create namelist for component sesp\n",
      "   Calling /E3SM/components/stub_comps/sesp/cime_config/buildnml\n",
      "  2022-08-10 00:06:49 cpl \n",
      "Create namelist for component drv\n",
      "   Calling /E3SM/driver-mct/cime_config/buildnml\n",
      "2022-08-10 00:06:50 NAMELIST CREATION HAS FINISHED\n",
      "-------------------------------------------------------------------------\n",
      " - Prestage required restarts into /output/cime_run_dirs/OLMT_AK-K64G_ICB20TRCNPRDCTCBC/run\n",
      " - Case input data directory (DIN_LOC_ROOT) is /inputdata \n",
      " - Checking for required input datasets in DIN_LOC_ROOT\n",
      "-------------------------------------------------------------------------\n",
      "2022-08-10 00:06:50 PRE_RUN_CHECK HAS FINISHED\n",
      "run command is mpirun  -np 1  -npernode 4 /output/cime_run_dirs/OLMT_AK-K64G_ICB1850CNRDCTCBC_ad_spinup/bld/e3sm.exe   >> e3sm.log.$LID 2>&1  \n",
      "2022-08-10 00:06:50 SAVE_PRERUN_PROVENANCE BEGINS HERE\n",
      "Starting job script case.run\n",
      "2022-08-10 00:06:50 SAVE_PRERUN_PROVENANCE HAS FINISHED\n",
      "2022-08-10 00:06:50 MODEL EXECUTION BEGINS HERE\n",
      "2022-08-10 02:11:51 MODEL EXECUTION HAS FINISHED\n",
      "2022-08-10 02:11:51 POST_RUN_CHECK BEGINS HERE\n",
      "2022-08-10 02:11:51 POST_RUN_CHECK HAS FINISHED\n",
      "2022-08-10 02:11:51 RUN_MODEL HAS FINISHED\n",
      "2022-08-10 02:11:51 GET_TIMING BEGINS HERE\n",
      "2022-08-10 02:11:52 GET_TIMING HAS FINISHED\n",
      "2022-08-10 02:11:58 SAVE_POSTRUN_PROVENANCE BEGINS HERE\n",
      "2022-08-10 02:11:58 SAVE_POSTRUN_PROVENANCE HAS FINISHED\n",
      "2022-08-10 02:11:58 CASE.RUN HAS FINISHED\n",
      "Submitted job case.run with id None\n",
      "2014 2015\n",
      "mkdir -p temp\n",
      "mkdir -p scripts/OLMT\n",
      "\n",
      "\n",
      "Setting up ad_spinup case\n",
      "\n",
      "python runcase.py --site AK-K64G --ccsm_input /inputdata --rmold --no_submit --sitegroup NGEEArctic --machine docker --model_root /E3SM --caseidprefix OLMT --metdir /inputdata/atm/datm7/atm_forcing.datm7.GSWP3.0.5d.v2.c180716_kougarok-Grid/cpl_bypass_full --gswp3 --surffile /inputdata/lnd/clm2/surfdata_map/surfdata_1x1pt_kougarok-GRID_simyr1850_c360x720_171002.nc --ng 256 --np 1 --tstep 1 --co2_file fco2_datm_rcp4.5_1765-2500_c130312.nc --compiler gnu --mpilib openmpi --pio_version 2 --caseroot /output/cime_case_dirs --runroot /output/cime_run_dirs --walltime 6 --landusefile /inputdata/lnd/clm2/surfdata_map/landuse.timeseries_1x1pt_kougarok-GRID_simyr1850-2015_c180423.nc --project e3sm --domainfile /inputdata/share/domains/domain.clm/domain.lnd.1x1pt_kougarok-GRID_navy.nc --ad_spinup --nyears_ad_spinup 80 --align_year 12 --hist_mfilt 1 --hist_nhtfrq -175200 --compset ICB1850CNRDCTCBC --spinup_vars\n",
      "\n",
      "\n",
      "Setting up final spinup case\n",
      "\n",
      "python runcase.py --site AK-K64G --ccsm_input /inputdata --rmold --no_submit --sitegroup NGEEArctic --machine docker --model_root /E3SM --caseidprefix OLMT --metdir /inputdata/atm/datm7/atm_forcing.datm7.GSWP3.0.5d.v2.c180716_kougarok-Grid/cpl_bypass_full --gswp3 --surffile /inputdata/lnd/clm2/surfdata_map/surfdata_1x1pt_kougarok-GRID_simyr1850_c360x720_171002.nc --ng 256 --np 1 --tstep 1 --co2_file fco2_datm_rcp4.5_1765-2500_c130312.nc --compiler gnu --mpilib openmpi --pio_version 2 --caseroot /output/cime_case_dirs --runroot /output/cime_run_dirs --walltime 6 --landusefile /inputdata/lnd/clm2/surfdata_map/landuse.timeseries_1x1pt_kougarok-GRID_simyr1850-2015_c180423.nc --project e3sm --domainfile /inputdata/share/domains/domain.clm/domain.lnd.1x1pt_kougarok-GRID_navy.nc --finidat_case OLMT_AK-K64G_ICB1850CNRDCTCBC_ad_spinup --finidat_year 81 --run_units nyears --run_n 260 --align_year 12 --no_build --exeroot /output/cime_run_dirs/OLMT_AK-K64G_ICB1850CNRDCTCBC_ad_spinup/bld --nopointdata --hist_mfilt 1 --hist_nhtfrq -175200 --compset ICB1850CNPRDCTCBC --spinup_vars\n",
      "\n",
      "\n",
      "\n",
      "Setting up transient case\n",
      "\n",
      "python runcase.py --site AK-K64G --ccsm_input /inputdata --rmold --no_submit --sitegroup NGEEArctic --machine docker --model_root /E3SM --caseidprefix OLMT --metdir /inputdata/atm/datm7/atm_forcing.datm7.GSWP3.0.5d.v2.c180716_kougarok-Grid/cpl_bypass_full --gswp3 --surffile /inputdata/lnd/clm2/surfdata_map/surfdata_1x1pt_kougarok-GRID_simyr1850_c360x720_171002.nc --ng 256 --np 1 --tstep 1 --co2_file fco2_datm_rcp4.5_1765-2500_c130312.nc --compiler gnu --mpilib openmpi --pio_version 2 --caseroot /output/cime_case_dirs --runroot /output/cime_run_dirs --walltime 6 --landusefile /inputdata/lnd/clm2/surfdata_map/landuse.timeseries_1x1pt_kougarok-GRID_simyr1850-2015_c180423.nc --project e3sm --domainfile /inputdata/share/domains/domain.clm/domain.lnd.1x1pt_kougarok-GRID_navy.nc --finidat_case OLMT_AK-K64G_ICB1850CNPRDCTCBC --finidat_year 261 --run_units nyears --run_n 165 --align_year 1861 --hist_nhtfrq -24 --hist_mfilt 365 --no_build --exeroot /output/cime_run_dirs/OLMT_AK-K64G_ICB1850CNRDCTCBC_ad_spinup/bld --nopointdata --compset ICB20TRCNPRDCTCBC --spinup_vars --nofire\n",
      "\n",
      "\n",
      "Aliases of cases to be submitted:\n",
      "\n",
      "['ad_spinup', 'iniadjust', 'fn_spinup', 'transient']\n",
      "\n",
      "DONE docker ELM runs !\n"
     ]
    },
    {
     "name": "stderr",
     "output_type": "stream",
     "text": [
      "check for resubmit\n",
      "dout_s False \n",
      "mach docker \n",
      "resubmit_num 0\n"
     ]
    },
    {
     "name": "stdout",
     "output_type": "stream",
     "text": [
      " \n",
      " \n",
      " \n",
      "**** Concatenating netCDF output - Hang tight this can take awhile ****\n",
      "**** Concatenating netCDF output: DONE ****\n",
      "End date/time: Tue Aug  9 22:20:56 2022\n",
      "Total ellapsed time: 17751.67603778839 seconds\n"
     ]
    }
   ],
   "source": [
    "# Run the model simulation\n",
    "# Create new case\n",
    "start = time.time()\n",
    "print(\"Start date/time: \"+time.asctime())\n",
    "# run the docker container\n",
    "os.system(elm_run_command)\n",
    "# get runtime\n",
    "end = time.time()\n",
    "print(\"End date/time: \"+time.asctime())\n",
    "#Print runtime\n",
    "runtime = (end - start)\n",
    "print(\"Total ellapsed time: \"+str(runtime)+\" seconds\")"
   ]
  },
  {
   "cell_type": "code",
   "execution_count": 1,
   "id": "149873af-57fd-460e-848f-7013be2fca8a",
   "metadata": {},
   "outputs": [],
   "source": [
    "### Explore output\n",
    "import xarray"
   ]
  },
  {
   "cell_type": "code",
   "execution_count": 7,
   "id": "64835314",
   "metadata": {},
   "outputs": [
    {
     "ename": "FileNotFoundError",
     "evalue": "[Errno 2] No such file or directory: '/Users/sserbin/output/cime_run_dirs/OLMT_AK-K64G_ICB20TRCNPRDCTCBC/run/ELM_output.nc'",
     "output_type": "error",
     "traceback": [
      "\u001b[0;31m---------------------------------------------------------------------------\u001b[0m",
      "\u001b[0;31mKeyError\u001b[0m                                  Traceback (most recent call last)",
      "File \u001b[0;32m~/miniconda3/envs/fasst_simulation/lib/python3.9/site-packages/xarray/backends/file_manager.py:201\u001b[0m, in \u001b[0;36mCachingFileManager._acquire_with_cache_info\u001b[0;34m(self, needs_lock)\u001b[0m\n\u001b[1;32m    200\u001b[0m \u001b[38;5;28;01mtry\u001b[39;00m:\n\u001b[0;32m--> 201\u001b[0m     file \u001b[38;5;241m=\u001b[39m \u001b[38;5;28;43mself\u001b[39;49m\u001b[38;5;241;43m.\u001b[39;49m\u001b[43m_cache\u001b[49m\u001b[43m[\u001b[49m\u001b[38;5;28;43mself\u001b[39;49m\u001b[38;5;241;43m.\u001b[39;49m\u001b[43m_key\u001b[49m\u001b[43m]\u001b[49m\n\u001b[1;32m    202\u001b[0m \u001b[38;5;28;01mexcept\u001b[39;00m \u001b[38;5;167;01mKeyError\u001b[39;00m:\n",
      "File \u001b[0;32m~/miniconda3/envs/fasst_simulation/lib/python3.9/site-packages/xarray/backends/lru_cache.py:55\u001b[0m, in \u001b[0;36mLRUCache.__getitem__\u001b[0;34m(self, key)\u001b[0m\n\u001b[1;32m     54\u001b[0m \u001b[38;5;28;01mwith\u001b[39;00m \u001b[38;5;28mself\u001b[39m\u001b[38;5;241m.\u001b[39m_lock:\n\u001b[0;32m---> 55\u001b[0m     value \u001b[38;5;241m=\u001b[39m \u001b[38;5;28;43mself\u001b[39;49m\u001b[38;5;241;43m.\u001b[39;49m\u001b[43m_cache\u001b[49m\u001b[43m[\u001b[49m\u001b[43mkey\u001b[49m\u001b[43m]\u001b[49m\n\u001b[1;32m     56\u001b[0m     \u001b[38;5;28mself\u001b[39m\u001b[38;5;241m.\u001b[39m_cache\u001b[38;5;241m.\u001b[39mmove_to_end(key)\n",
      "\u001b[0;31mKeyError\u001b[0m: [<function _open_scipy_netcdf at 0x17c36f160>, ('/Users/sserbin/output/cime_run_dirs/OLMT_AK-K64G_ICB20TRCNPRDCTCBC/run/ELM_output.nc',), 'r', (('mmap', None), ('version', 2))]",
      "\nDuring handling of the above exception, another exception occurred:\n",
      "\u001b[0;31mFileNotFoundError\u001b[0m                         Traceback (most recent call last)",
      "Input \u001b[0;32mIn [53]\u001b[0m, in \u001b[0;36m<cell line: 2>\u001b[0;34m()\u001b[0m\n\u001b[1;32m      1\u001b[0m output_file\u001b[38;5;241m=\u001b[39m\u001b[38;5;124m'\u001b[39m\u001b[38;5;124m~/output/cime_run_dirs/OLMT_AK-K64G_ICB20TRCNPRDCTCBC/run/ELM_output.nc\u001b[39m\u001b[38;5;124m'\u001b[39m\n\u001b[0;32m----> 2\u001b[0m output\u001b[38;5;241m=\u001b[39m\u001b[43mxarray\u001b[49m\u001b[38;5;241;43m.\u001b[39;49m\u001b[43mopen_dataset\u001b[49m\u001b[43m(\u001b[49m\u001b[43moutput_file\u001b[49m\u001b[43m)\u001b[49m\u001b[38;5;241m.\u001b[39msqueeze()\n",
      "File \u001b[0;32m~/miniconda3/envs/fasst_simulation/lib/python3.9/site-packages/xarray/backends/api.py:531\u001b[0m, in \u001b[0;36mopen_dataset\u001b[0;34m(filename_or_obj, engine, chunks, cache, decode_cf, mask_and_scale, decode_times, decode_timedelta, use_cftime, concat_characters, decode_coords, drop_variables, inline_array, backend_kwargs, **kwargs)\u001b[0m\n\u001b[1;32m    519\u001b[0m decoders \u001b[38;5;241m=\u001b[39m _resolve_decoders_kwargs(\n\u001b[1;32m    520\u001b[0m     decode_cf,\n\u001b[1;32m    521\u001b[0m     open_backend_dataset_parameters\u001b[38;5;241m=\u001b[39mbackend\u001b[38;5;241m.\u001b[39mopen_dataset_parameters,\n\u001b[0;32m   (...)\u001b[0m\n\u001b[1;32m    527\u001b[0m     decode_coords\u001b[38;5;241m=\u001b[39mdecode_coords,\n\u001b[1;32m    528\u001b[0m )\n\u001b[1;32m    530\u001b[0m overwrite_encoded_chunks \u001b[38;5;241m=\u001b[39m kwargs\u001b[38;5;241m.\u001b[39mpop(\u001b[38;5;124m\"\u001b[39m\u001b[38;5;124moverwrite_encoded_chunks\u001b[39m\u001b[38;5;124m\"\u001b[39m, \u001b[38;5;28;01mNone\u001b[39;00m)\n\u001b[0;32m--> 531\u001b[0m backend_ds \u001b[38;5;241m=\u001b[39m \u001b[43mbackend\u001b[49m\u001b[38;5;241;43m.\u001b[39;49m\u001b[43mopen_dataset\u001b[49m\u001b[43m(\u001b[49m\n\u001b[1;32m    532\u001b[0m \u001b[43m    \u001b[49m\u001b[43mfilename_or_obj\u001b[49m\u001b[43m,\u001b[49m\n\u001b[1;32m    533\u001b[0m \u001b[43m    \u001b[49m\u001b[43mdrop_variables\u001b[49m\u001b[38;5;241;43m=\u001b[39;49m\u001b[43mdrop_variables\u001b[49m\u001b[43m,\u001b[49m\n\u001b[1;32m    534\u001b[0m \u001b[43m    \u001b[49m\u001b[38;5;241;43m*\u001b[39;49m\u001b[38;5;241;43m*\u001b[39;49m\u001b[43mdecoders\u001b[49m\u001b[43m,\u001b[49m\n\u001b[1;32m    535\u001b[0m \u001b[43m    \u001b[49m\u001b[38;5;241;43m*\u001b[39;49m\u001b[38;5;241;43m*\u001b[39;49m\u001b[43mkwargs\u001b[49m\u001b[43m,\u001b[49m\n\u001b[1;32m    536\u001b[0m \u001b[43m\u001b[49m\u001b[43m)\u001b[49m\n\u001b[1;32m    537\u001b[0m ds \u001b[38;5;241m=\u001b[39m _dataset_from_backend_dataset(\n\u001b[1;32m    538\u001b[0m     backend_ds,\n\u001b[1;32m    539\u001b[0m     filename_or_obj,\n\u001b[0;32m   (...)\u001b[0m\n\u001b[1;32m    547\u001b[0m     \u001b[38;5;241m*\u001b[39m\u001b[38;5;241m*\u001b[39mkwargs,\n\u001b[1;32m    548\u001b[0m )\n\u001b[1;32m    549\u001b[0m \u001b[38;5;28;01mreturn\u001b[39;00m ds\n",
      "File \u001b[0;32m~/miniconda3/envs/fasst_simulation/lib/python3.9/site-packages/xarray/backends/scipy_.py:285\u001b[0m, in \u001b[0;36mScipyBackendEntrypoint.open_dataset\u001b[0;34m(self, filename_or_obj, mask_and_scale, decode_times, concat_characters, decode_coords, drop_variables, use_cftime, decode_timedelta, mode, format, group, mmap, lock)\u001b[0m\n\u001b[1;32m    283\u001b[0m store_entrypoint \u001b[38;5;241m=\u001b[39m StoreBackendEntrypoint()\n\u001b[1;32m    284\u001b[0m \u001b[38;5;28;01mwith\u001b[39;00m close_on_error(store):\n\u001b[0;32m--> 285\u001b[0m     ds \u001b[38;5;241m=\u001b[39m \u001b[43mstore_entrypoint\u001b[49m\u001b[38;5;241;43m.\u001b[39;49m\u001b[43mopen_dataset\u001b[49m\u001b[43m(\u001b[49m\n\u001b[1;32m    286\u001b[0m \u001b[43m        \u001b[49m\u001b[43mstore\u001b[49m\u001b[43m,\u001b[49m\n\u001b[1;32m    287\u001b[0m \u001b[43m        \u001b[49m\u001b[43mmask_and_scale\u001b[49m\u001b[38;5;241;43m=\u001b[39;49m\u001b[43mmask_and_scale\u001b[49m\u001b[43m,\u001b[49m\n\u001b[1;32m    288\u001b[0m \u001b[43m        \u001b[49m\u001b[43mdecode_times\u001b[49m\u001b[38;5;241;43m=\u001b[39;49m\u001b[43mdecode_times\u001b[49m\u001b[43m,\u001b[49m\n\u001b[1;32m    289\u001b[0m \u001b[43m        \u001b[49m\u001b[43mconcat_characters\u001b[49m\u001b[38;5;241;43m=\u001b[39;49m\u001b[43mconcat_characters\u001b[49m\u001b[43m,\u001b[49m\n\u001b[1;32m    290\u001b[0m \u001b[43m        \u001b[49m\u001b[43mdecode_coords\u001b[49m\u001b[38;5;241;43m=\u001b[39;49m\u001b[43mdecode_coords\u001b[49m\u001b[43m,\u001b[49m\n\u001b[1;32m    291\u001b[0m \u001b[43m        \u001b[49m\u001b[43mdrop_variables\u001b[49m\u001b[38;5;241;43m=\u001b[39;49m\u001b[43mdrop_variables\u001b[49m\u001b[43m,\u001b[49m\n\u001b[1;32m    292\u001b[0m \u001b[43m        \u001b[49m\u001b[43muse_cftime\u001b[49m\u001b[38;5;241;43m=\u001b[39;49m\u001b[43muse_cftime\u001b[49m\u001b[43m,\u001b[49m\n\u001b[1;32m    293\u001b[0m \u001b[43m        \u001b[49m\u001b[43mdecode_timedelta\u001b[49m\u001b[38;5;241;43m=\u001b[39;49m\u001b[43mdecode_timedelta\u001b[49m\u001b[43m,\u001b[49m\n\u001b[1;32m    294\u001b[0m \u001b[43m    \u001b[49m\u001b[43m)\u001b[49m\n\u001b[1;32m    295\u001b[0m \u001b[38;5;28;01mreturn\u001b[39;00m ds\n",
      "File \u001b[0;32m~/miniconda3/envs/fasst_simulation/lib/python3.9/site-packages/xarray/backends/store.py:26\u001b[0m, in \u001b[0;36mStoreBackendEntrypoint.open_dataset\u001b[0;34m(self, store, mask_and_scale, decode_times, concat_characters, decode_coords, drop_variables, use_cftime, decode_timedelta)\u001b[0m\n\u001b[1;32m     14\u001b[0m \u001b[38;5;28;01mdef\u001b[39;00m \u001b[38;5;21mopen_dataset\u001b[39m(\n\u001b[1;32m     15\u001b[0m     \u001b[38;5;28mself\u001b[39m,\n\u001b[1;32m     16\u001b[0m     store,\n\u001b[0;32m   (...)\u001b[0m\n\u001b[1;32m     24\u001b[0m     decode_timedelta\u001b[38;5;241m=\u001b[39m\u001b[38;5;28;01mNone\u001b[39;00m,\n\u001b[1;32m     25\u001b[0m ):\n\u001b[0;32m---> 26\u001b[0m     \u001b[38;5;28mvars\u001b[39m, attrs \u001b[38;5;241m=\u001b[39m \u001b[43mstore\u001b[49m\u001b[38;5;241;43m.\u001b[39;49m\u001b[43mload\u001b[49m\u001b[43m(\u001b[49m\u001b[43m)\u001b[49m\n\u001b[1;32m     27\u001b[0m     encoding \u001b[38;5;241m=\u001b[39m store\u001b[38;5;241m.\u001b[39mget_encoding()\n\u001b[1;32m     29\u001b[0m     \u001b[38;5;28mvars\u001b[39m, attrs, coord_names \u001b[38;5;241m=\u001b[39m conventions\u001b[38;5;241m.\u001b[39mdecode_cf_variables(\n\u001b[1;32m     30\u001b[0m         \u001b[38;5;28mvars\u001b[39m,\n\u001b[1;32m     31\u001b[0m         attrs,\n\u001b[0;32m   (...)\u001b[0m\n\u001b[1;32m     38\u001b[0m         decode_timedelta\u001b[38;5;241m=\u001b[39mdecode_timedelta,\n\u001b[1;32m     39\u001b[0m     )\n",
      "File \u001b[0;32m~/miniconda3/envs/fasst_simulation/lib/python3.9/site-packages/xarray/backends/common.py:125\u001b[0m, in \u001b[0;36mAbstractDataStore.load\u001b[0;34m(self)\u001b[0m\n\u001b[1;32m    103\u001b[0m \u001b[38;5;28;01mdef\u001b[39;00m \u001b[38;5;21mload\u001b[39m(\u001b[38;5;28mself\u001b[39m):\n\u001b[1;32m    104\u001b[0m     \u001b[38;5;124;03m\"\"\"\u001b[39;00m\n\u001b[1;32m    105\u001b[0m \u001b[38;5;124;03m    This loads the variables and attributes simultaneously.\u001b[39;00m\n\u001b[1;32m    106\u001b[0m \u001b[38;5;124;03m    A centralized loading function makes it easier to create\u001b[39;00m\n\u001b[0;32m   (...)\u001b[0m\n\u001b[1;32m    122\u001b[0m \u001b[38;5;124;03m    are requested, so care should be taken to make sure its fast.\u001b[39;00m\n\u001b[1;32m    123\u001b[0m \u001b[38;5;124;03m    \"\"\"\u001b[39;00m\n\u001b[1;32m    124\u001b[0m     variables \u001b[38;5;241m=\u001b[39m FrozenDict(\n\u001b[0;32m--> 125\u001b[0m         (_decode_variable_name(k), v) \u001b[38;5;28;01mfor\u001b[39;00m k, v \u001b[38;5;129;01min\u001b[39;00m \u001b[38;5;28;43mself\u001b[39;49m\u001b[38;5;241;43m.\u001b[39;49m\u001b[43mget_variables\u001b[49m\u001b[43m(\u001b[49m\u001b[43m)\u001b[49m\u001b[38;5;241m.\u001b[39mitems()\n\u001b[1;32m    126\u001b[0m     )\n\u001b[1;32m    127\u001b[0m     attributes \u001b[38;5;241m=\u001b[39m FrozenDict(\u001b[38;5;28mself\u001b[39m\u001b[38;5;241m.\u001b[39mget_attrs())\n\u001b[1;32m    128\u001b[0m     \u001b[38;5;28;01mreturn\u001b[39;00m variables, attributes\n",
      "File \u001b[0;32m~/miniconda3/envs/fasst_simulation/lib/python3.9/site-packages/xarray/backends/scipy_.py:174\u001b[0m, in \u001b[0;36mScipyDataStore.get_variables\u001b[0;34m(self)\u001b[0m\n\u001b[1;32m    172\u001b[0m \u001b[38;5;28;01mdef\u001b[39;00m \u001b[38;5;21mget_variables\u001b[39m(\u001b[38;5;28mself\u001b[39m):\n\u001b[1;32m    173\u001b[0m     \u001b[38;5;28;01mreturn\u001b[39;00m FrozenDict(\n\u001b[0;32m--> 174\u001b[0m         (k, \u001b[38;5;28mself\u001b[39m\u001b[38;5;241m.\u001b[39mopen_store_variable(k, v)) \u001b[38;5;28;01mfor\u001b[39;00m k, v \u001b[38;5;129;01min\u001b[39;00m \u001b[38;5;28;43mself\u001b[39;49m\u001b[38;5;241;43m.\u001b[39;49m\u001b[43mds\u001b[49m\u001b[38;5;241m.\u001b[39mvariables\u001b[38;5;241m.\u001b[39mitems()\n\u001b[1;32m    175\u001b[0m     )\n",
      "File \u001b[0;32m~/miniconda3/envs/fasst_simulation/lib/python3.9/site-packages/xarray/backends/scipy_.py:163\u001b[0m, in \u001b[0;36mScipyDataStore.ds\u001b[0;34m(self)\u001b[0m\n\u001b[1;32m    161\u001b[0m \u001b[38;5;129m@property\u001b[39m\n\u001b[1;32m    162\u001b[0m \u001b[38;5;28;01mdef\u001b[39;00m \u001b[38;5;21mds\u001b[39m(\u001b[38;5;28mself\u001b[39m):\n\u001b[0;32m--> 163\u001b[0m     \u001b[38;5;28;01mreturn\u001b[39;00m \u001b[38;5;28;43mself\u001b[39;49m\u001b[38;5;241;43m.\u001b[39;49m\u001b[43m_manager\u001b[49m\u001b[38;5;241;43m.\u001b[39;49m\u001b[43macquire\u001b[49m\u001b[43m(\u001b[49m\u001b[43m)\u001b[49m\n",
      "File \u001b[0;32m~/miniconda3/envs/fasst_simulation/lib/python3.9/site-packages/xarray/backends/file_manager.py:183\u001b[0m, in \u001b[0;36mCachingFileManager.acquire\u001b[0;34m(self, needs_lock)\u001b[0m\n\u001b[1;32m    168\u001b[0m \u001b[38;5;28;01mdef\u001b[39;00m \u001b[38;5;21macquire\u001b[39m(\u001b[38;5;28mself\u001b[39m, needs_lock\u001b[38;5;241m=\u001b[39m\u001b[38;5;28;01mTrue\u001b[39;00m):\n\u001b[1;32m    169\u001b[0m     \u001b[38;5;124;03m\"\"\"Acquire a file object from the manager.\u001b[39;00m\n\u001b[1;32m    170\u001b[0m \n\u001b[1;32m    171\u001b[0m \u001b[38;5;124;03m    A new file is only opened if it has expired from the\u001b[39;00m\n\u001b[0;32m   (...)\u001b[0m\n\u001b[1;32m    181\u001b[0m \u001b[38;5;124;03m        An open file object, as returned by ``opener(*args, **kwargs)``.\u001b[39;00m\n\u001b[1;32m    182\u001b[0m \u001b[38;5;124;03m    \"\"\"\u001b[39;00m\n\u001b[0;32m--> 183\u001b[0m     file, _ \u001b[38;5;241m=\u001b[39m \u001b[38;5;28;43mself\u001b[39;49m\u001b[38;5;241;43m.\u001b[39;49m\u001b[43m_acquire_with_cache_info\u001b[49m\u001b[43m(\u001b[49m\u001b[43mneeds_lock\u001b[49m\u001b[43m)\u001b[49m\n\u001b[1;32m    184\u001b[0m     \u001b[38;5;28;01mreturn\u001b[39;00m file\n",
      "File \u001b[0;32m~/miniconda3/envs/fasst_simulation/lib/python3.9/site-packages/xarray/backends/file_manager.py:207\u001b[0m, in \u001b[0;36mCachingFileManager._acquire_with_cache_info\u001b[0;34m(self, needs_lock)\u001b[0m\n\u001b[1;32m    205\u001b[0m     kwargs \u001b[38;5;241m=\u001b[39m kwargs\u001b[38;5;241m.\u001b[39mcopy()\n\u001b[1;32m    206\u001b[0m     kwargs[\u001b[38;5;124m\"\u001b[39m\u001b[38;5;124mmode\u001b[39m\u001b[38;5;124m\"\u001b[39m] \u001b[38;5;241m=\u001b[39m \u001b[38;5;28mself\u001b[39m\u001b[38;5;241m.\u001b[39m_mode\n\u001b[0;32m--> 207\u001b[0m file \u001b[38;5;241m=\u001b[39m \u001b[38;5;28;43mself\u001b[39;49m\u001b[38;5;241;43m.\u001b[39;49m\u001b[43m_opener\u001b[49m\u001b[43m(\u001b[49m\u001b[38;5;241;43m*\u001b[39;49m\u001b[38;5;28;43mself\u001b[39;49m\u001b[38;5;241;43m.\u001b[39;49m\u001b[43m_args\u001b[49m\u001b[43m,\u001b[49m\u001b[43m \u001b[49m\u001b[38;5;241;43m*\u001b[39;49m\u001b[38;5;241;43m*\u001b[39;49m\u001b[43mkwargs\u001b[49m\u001b[43m)\u001b[49m\n\u001b[1;32m    208\u001b[0m \u001b[38;5;28;01mif\u001b[39;00m \u001b[38;5;28mself\u001b[39m\u001b[38;5;241m.\u001b[39m_mode \u001b[38;5;241m==\u001b[39m \u001b[38;5;124m\"\u001b[39m\u001b[38;5;124mw\u001b[39m\u001b[38;5;124m\"\u001b[39m:\n\u001b[1;32m    209\u001b[0m     \u001b[38;5;66;03m# ensure file doesn't get overridden when opened again\u001b[39;00m\n\u001b[1;32m    210\u001b[0m     \u001b[38;5;28mself\u001b[39m\u001b[38;5;241m.\u001b[39m_mode \u001b[38;5;241m=\u001b[39m \u001b[38;5;124m\"\u001b[39m\u001b[38;5;124ma\u001b[39m\u001b[38;5;124m\"\u001b[39m\n",
      "File \u001b[0;32m~/miniconda3/envs/fasst_simulation/lib/python3.9/site-packages/xarray/backends/scipy_.py:102\u001b[0m, in \u001b[0;36m_open_scipy_netcdf\u001b[0;34m(filename, mode, mmap, version)\u001b[0m\n\u001b[1;32m     99\u001b[0m     filename \u001b[38;5;241m=\u001b[39m io\u001b[38;5;241m.\u001b[39mBytesIO(filename)\n\u001b[1;32m    101\u001b[0m \u001b[38;5;28;01mtry\u001b[39;00m:\n\u001b[0;32m--> 102\u001b[0m     \u001b[38;5;28;01mreturn\u001b[39;00m \u001b[43mscipy\u001b[49m\u001b[38;5;241;43m.\u001b[39;49m\u001b[43mio\u001b[49m\u001b[38;5;241;43m.\u001b[39;49m\u001b[43mnetcdf_file\u001b[49m\u001b[43m(\u001b[49m\u001b[43mfilename\u001b[49m\u001b[43m,\u001b[49m\u001b[43m \u001b[49m\u001b[43mmode\u001b[49m\u001b[38;5;241;43m=\u001b[39;49m\u001b[43mmode\u001b[49m\u001b[43m,\u001b[49m\u001b[43m \u001b[49m\u001b[43mmmap\u001b[49m\u001b[38;5;241;43m=\u001b[39;49m\u001b[43mmmap\u001b[49m\u001b[43m,\u001b[49m\u001b[43m \u001b[49m\u001b[43mversion\u001b[49m\u001b[38;5;241;43m=\u001b[39;49m\u001b[43mversion\u001b[49m\u001b[43m)\u001b[49m\n\u001b[1;32m    103\u001b[0m \u001b[38;5;28;01mexcept\u001b[39;00m \u001b[38;5;167;01mTypeError\u001b[39;00m \u001b[38;5;28;01mas\u001b[39;00m e:  \u001b[38;5;66;03m# netcdf3 message is obscure in this case\u001b[39;00m\n\u001b[1;32m    104\u001b[0m     errmsg \u001b[38;5;241m=\u001b[39m e\u001b[38;5;241m.\u001b[39margs[\u001b[38;5;241m0\u001b[39m]\n",
      "File \u001b[0;32m~/miniconda3/envs/fasst_simulation/lib/python3.9/site-packages/scipy/io/_netcdf.py:245\u001b[0m, in \u001b[0;36mnetcdf_file.__init__\u001b[0;34m(self, filename, mode, mmap, version, maskandscale)\u001b[0m\n\u001b[1;32m    243\u001b[0m \u001b[38;5;28mself\u001b[39m\u001b[38;5;241m.\u001b[39mfilename \u001b[38;5;241m=\u001b[39m filename\n\u001b[1;32m    244\u001b[0m omode \u001b[38;5;241m=\u001b[39m \u001b[38;5;124m'\u001b[39m\u001b[38;5;124mr+\u001b[39m\u001b[38;5;124m'\u001b[39m \u001b[38;5;28;01mif\u001b[39;00m mode \u001b[38;5;241m==\u001b[39m \u001b[38;5;124m'\u001b[39m\u001b[38;5;124ma\u001b[39m\u001b[38;5;124m'\u001b[39m \u001b[38;5;28;01melse\u001b[39;00m mode\n\u001b[0;32m--> 245\u001b[0m \u001b[38;5;28mself\u001b[39m\u001b[38;5;241m.\u001b[39mfp \u001b[38;5;241m=\u001b[39m \u001b[38;5;28;43mopen\u001b[39;49m\u001b[43m(\u001b[49m\u001b[38;5;28;43mself\u001b[39;49m\u001b[38;5;241;43m.\u001b[39;49m\u001b[43mfilename\u001b[49m\u001b[43m,\u001b[49m\u001b[43m \u001b[49m\u001b[38;5;124;43m'\u001b[39;49m\u001b[38;5;132;43;01m%s\u001b[39;49;00m\u001b[38;5;124;43mb\u001b[39;49m\u001b[38;5;124;43m'\u001b[39;49m\u001b[43m \u001b[49m\u001b[38;5;241;43m%\u001b[39;49m\u001b[43m \u001b[49m\u001b[43momode\u001b[49m\u001b[43m)\u001b[49m\n\u001b[1;32m    246\u001b[0m \u001b[38;5;28;01mif\u001b[39;00m mmap \u001b[38;5;129;01mis\u001b[39;00m \u001b[38;5;28;01mNone\u001b[39;00m:\n\u001b[1;32m    247\u001b[0m     \u001b[38;5;66;03m# Mmapped files on PyPy cannot be usually closed\u001b[39;00m\n\u001b[1;32m    248\u001b[0m     \u001b[38;5;66;03m# before the GC runs, so it's better to use mmap=False\u001b[39;00m\n\u001b[1;32m    249\u001b[0m     \u001b[38;5;66;03m# as the default.\u001b[39;00m\n\u001b[1;32m    250\u001b[0m     mmap \u001b[38;5;241m=\u001b[39m (\u001b[38;5;129;01mnot\u001b[39;00m IS_PYPY)\n",
      "\u001b[0;31mFileNotFoundError\u001b[0m: [Errno 2] No such file or directory: '/Users/sserbin/output/cime_run_dirs/OLMT_AK-K64G_ICB20TRCNPRDCTCBC/run/ELM_output.nc'"
     ]
    }
   ],
   "source": [
    "output_file=''.join([elmoutput,'/cime_run_dirs/OLMT_AK-K64G_ICB20TRCNPRDCTCBC/run/ELM_output.nc'])\n",
    "print(output_file)"
   ]
  },
  {
   "cell_type": "code",
   "execution_count": 9,
   "id": "8c252fde-a1fa-45ce-9e0e-f47c9d7413c5",
   "metadata": {},
   "outputs": [
    {
     "name": "stdout",
     "output_type": "stream",
     "text": [
      "<xarray.Dataset>\n",
      "Dimensions:                   (levgrnd: 15, levlak: 10, levdcmp: 15,\n",
      "                               time: 60226, hist_interval: 2, ltype: 9,\n",
      "                               natpft: 17)\n",
      "Coordinates:\n",
      "  * levgrnd                   (levgrnd) float32 0.007101 0.02792 ... 21.33 35.18\n",
      "  * levlak                    (levlak) float32 0.05 0.6 2.1 ... 25.6 34.33 44.78\n",
      "  * levdcmp                   (levdcmp) float32 0.007101 0.02792 ... 21.33 35.18\n",
      "  * time                      (time) object 1850-01-01 00:00:00 ... 2015-01-0...\n",
      "Dimensions without coordinates: hist_interval, ltype, natpft\n",
      "Data variables: (12/562)\n",
      "    mcdate                    (time) int32 ...\n",
      "    mcsec                     (time) int32 ...\n",
      "    mdcur                     (time) int32 ...\n",
      "    mscur                     (time) int32 ...\n",
      "    nstep                     (time) int32 ...\n",
      "    time_bounds               (time, hist_interval) object ...\n",
      "    ...                        ...\n",
      "    leaf_npimbalance          (time) float32 ...\n",
      "    nlim_m                    (time) float32 ...\n",
      "    o2_decomp_depth_unsat     (time, levgrnd) float32 ...\n",
      "    plim_m                    (time) float32 ...\n",
      "    water_scalar              (time) float32 ...\n",
      "    wlim_m                    (time) float32 ...\n",
      "Attributes: (12/28)\n",
      "    title:                                     ELM History file information\n",
      "    source:                                    E3SM Land Model\n",
      "    source_id:                                 6dae35d43b\n",
      "    product:                                   model-output\n",
      "    realm:                                     land\n",
      "    case:                                      OLMT_AK-K64G_ICB20TRCNPRDCTCBC\n",
      "    ...                                        ...\n",
      "    ltype_deep_lake:                           5\n",
      "    ltype_wetland:                             6\n",
      "    ltype_urban_tbd:                           7\n",
      "    ltype_urban_hd:                            8\n",
      "    ltype_urban_md:                            9\n",
      "    NCO:                                       netCDF Operators version 4.7.9...\n"
     ]
    }
   ],
   "source": [
    "output=xarray.open_dataset(output_file).squeeze()\n",
    "print(output)"
   ]
  },
  {
   "cell_type": "code",
   "execution_count": 10,
   "id": "129b4689-a610-46cf-88cb-01cc901ac8bc",
   "metadata": {},
   "outputs": [
    {
     "name": "stdout",
     "output_type": "stream",
     "text": [
      "<xarray.DataArray 'time' (time: 60226)>\n",
      "array([cftime.DatetimeNoLeap(1850, 1, 1, 0, 0, 0, 0, has_year_zero=True),\n",
      "       cftime.DatetimeNoLeap(1850, 1, 2, 0, 0, 0, 0, has_year_zero=True),\n",
      "       cftime.DatetimeNoLeap(1850, 1, 3, 0, 0, 0, 0, has_year_zero=True), ...,\n",
      "       cftime.DatetimeNoLeap(2014, 12, 30, 0, 0, 0, 0, has_year_zero=True),\n",
      "       cftime.DatetimeNoLeap(2014, 12, 31, 0, 0, 0, 0, has_year_zero=True),\n",
      "       cftime.DatetimeNoLeap(2015, 1, 1, 0, 0, 0, 0, has_year_zero=True)],\n",
      "      dtype=object)\n",
      "Coordinates:\n",
      "  * time     (time) object 1850-01-01 00:00:00 ... 2015-01-01 00:00:00\n",
      "Attributes:\n",
      "    long_name:  time\n",
      "    bounds:     time_bounds\n",
      "<xarray.DataArray 'GPP' (time: 60226)>\n",
      "array([0.000000e+00, 0.000000e+00, 0.000000e+00, ..., 4.223107e-12,\n",
      "       2.295196e-11, 3.418932e-11], dtype=float32)\n",
      "Coordinates:\n",
      "  * time     (time) object 1850-01-01 00:00:00 ... 2015-01-01 00:00:00\n",
      "Attributes:\n",
      "    long_name:     gross primary production\n",
      "    units:         gC/m^2/s\n",
      "    cell_methods:  time: mean\n",
      "<xarray.DataArray 'GPP' (time: 60226)>\n",
      "array([0.0000000e+00, 0.0000000e+00, 0.0000000e+00, ..., 1.5203186e-08,\n",
      "       8.2627075e-08, 1.2308155e-07], dtype=float32)\n",
      "Coordinates:\n",
      "  * time     (time) object 1850-01-01 00:00:00 ... 2015-01-01 00:00:00\n",
      "<xarray.DataArray 'TLAI' (time: 60226)>\n",
      "array([0.015456, 0.015449, 0.015435, ..., 0.025455, 0.025432, 0.025409],\n",
      "      dtype=float32)\n",
      "Coordinates:\n",
      "  * time     (time) object 1850-01-01 00:00:00 ... 2015-01-01 00:00:00\n",
      "Attributes:\n",
      "    long_name:     total projected leaf area index\n",
      "    units:         1\n",
      "    cell_methods:  time: mean\n"
     ]
    }
   ],
   "source": [
    "time = output['time']  ### time dimension, put in unit of years\n",
    "print(time)\n",
    "\n",
    "GPP = output['GPP']\n",
    "print(GPP)\n",
    "gpp2 = GPP*3600\n",
    "print(gpp2)\n",
    "\n",
    "TLAI = output['TLAI']\n",
    "print(TLAI)\n",
    "\n",
    "TOTVEGC = output['TOTVEGC']"
   ]
  },
  {
   "cell_type": "code",
   "execution_count": 15,
   "id": "e7f83864-4713-465f-8f65-90a8c54da39d",
   "metadata": {},
   "outputs": [
    {
     "data": {
      "text/plain": [
       "Text(0, 0.5, 'LAI (m2/m2)')"
      ]
     },
     "execution_count": 15,
     "metadata": {},
     "output_type": "execute_result"
    },
    {
     "data": {
      "image/png": "[encoded data removed]",
      "text/plain": [
       "<Figure size 432x288 with 1 Axes>"
      ]
     },
     "metadata": {
      "needs_background": "light"
     },
     "output_type": "display_data"
    }
   ],
   "source": [
    "plt.plot(TLAI, label='TLAI')\n",
    "plt.xlabel(''.join(['time (seconds since 1850 00:00:00)']))\n",
    "plt.ylabel('LAI (m2/m2)')"
   ]
  },
  {
   "cell_type": "code",
   "execution_count": 17,
   "id": "d5e92bd1-e0d2-4d0d-9278-25362d29b310",
   "metadata": {},
   "outputs": [
    {
     "data": {
      "text/plain": [
       "Text(0, 0.5, 'GPP (gC/m2/hr)')"
      ]
     },
     "execution_count": 17,
     "metadata": {},
     "output_type": "execute_result"
    },
    {
     "data": {
      "image/png": "[encoded data removed]",
      "text/plain": [
       "<Figure size 432x288 with 1 Axes>"
      ]
     },
     "metadata": {
      "needs_background": "light"
     },
     "output_type": "display_data"
    }
   ],
   "source": [
    "plt.plot(gpp2, label='GPP')\n",
    "plt.xlabel(''.join(['time (seconds since 1850 00:00:00)']))\n",
    "plt.ylabel('GPP (gC/m2/hr)')"
   ]
  },
  {
   "cell_type": "code",
   "execution_count": 18,
   "id": "828fafb3-27c2-4c0c-b872-ccfa9d4682b5",
   "metadata": {},
   "outputs": [
    {
     "data": {
      "text/plain": [
       "Text(0.5, 0, 'time (seconds since 1850 00:00:00)')"
      ]
     },
     "execution_count": 18,
     "metadata": {},
     "output_type": "execute_result"
    },
    {
     "data": {
      "image/png": "[encoded data removed]",
      "text/plain": [
       "<Figure size 432x288 with 1 Axes>"
      ]
     },
     "metadata": {
      "needs_background": "light"
     },
     "output_type": "display_data"
    }
   ],
   "source": [
    "plt.plot(TOTVEGC, label='TOTVEGC')\n",
    "plt.xlabel(''.join(['time (seconds since 1850 00:00:00)']))"
   ]
  }
 ],
 "metadata": {
  "kernelspec": {
   "display_name": "Python 3 (ipykernel)",
   "language": "python",
   "name": "python3"
  },
  "language_info": {
   "codemirror_mode": {
    "name": "ipython",
    "version": 3
   },
   "file_extension": ".py",
   "mimetype": "text/x-python",
   "name": "python",
   "nbconvert_exporter": "python",
   "pygments_lexer": "ipython3",
   "version": "3.9.13"
  }
 },
 "nbformat": 4,
 "nbformat_minor": 5
}
