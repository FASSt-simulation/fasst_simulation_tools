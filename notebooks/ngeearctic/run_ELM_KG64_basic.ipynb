{
 "cells": [
  {
   "cell_type": "code",
   "execution_count": 4,
   "id": "a5ef4ceb-4231-4043-8d86-f64883aec7db",
   "metadata": {},
   "outputs": [
    {
     "name": "stdout",
     "output_type": "stream",
     "text": [
      "/Users/sserbin/scratch/elm_testruns\n"
     ]
    }
   ],
   "source": [
    "# Setup environment\n",
    "import os\n",
    "import glob\n",
    "import subprocess\n",
    "import sys\n",
    "import time\n",
    "from scipy.io import netcdf as nc\n",
    "\n",
    "import matplotlib.pyplot as plt\n",
    "from os.path import expanduser\n",
    "\n",
    "# Define output path\n",
    "home = expanduser(\"~\")\n",
    "output_dir = os.path.join(home,'scratch/elm_testruns')  # main output directory.\n",
    "os.makedirs(os.path.dirname(output_dir), exist_ok=True)\n",
    "print(output_dir)"
   ]
  },
  {
   "cell_type": "code",
   "execution_count": 5,
   "id": "8aba089b-b4cd-4742-a9ae-ed7078a5152b",
   "metadata": {},
   "outputs": [
    {
     "name": "stdout",
     "output_type": "stream",
     "text": [
      "fasstsimulation/elm-builds:elm_v2-for-ngee\n",
      "elm_v2-for-ngee: Pulling from fasstsimulation/elm-builds\n",
      "Digest: sha256:053d765889c59a9d0c3937e36e50f125ad3be83916b6651e450867e845dc341d\n",
      "Status: Image is up to date for fasstsimulation/elm-builds:elm_v2-for-ngee\n",
      "docker.io/fasstsimulation/elm-builds:elm_v2-for-ngee\n"
     ]
    },
    {
     "data": {
      "text/plain": [
       "0"
      ]
     },
     "execution_count": 5,
     "metadata": {},
     "output_type": "execute_result"
    }
   ],
   "source": [
    "# Grab latest ELM docker container from Docker hub\n",
    "source = \"fasstsimulation/elm-builds\"\n",
    "docker_container_tag = \"elm_v2-for-ngee\"\n",
    "container_name = ''.join([source,\":\",docker_container_tag])\n",
    "print(container_name)\n",
    "docker_pull_command = ''.join([\"docker pull \",source,\":\",docker_container_tag])\n",
    "os.system(docker_pull_command)"
   ]
  },
  {
   "cell_type": "code",
   "execution_count": 7,
   "id": "da151457-9e50-409a-a7af-6b8c93dc559d",
   "metadata": {},
   "outputs": [
    {
     "name": "stdout",
     "output_type": "stream",
     "text": [
      "elmdata\n",
      "elmoutput\n"
     ]
    },
    {
     "data": {
      "text/plain": [
       "0"
      ]
     },
     "execution_count": 7,
     "metadata": {},
     "output_type": "execute_result"
    }
   ],
   "source": [
    "# Create docker volumes for output\n",
    "elmdata_name = \"elmdata\"\n",
    "elmoutput_name = \"elmoutput\"\n",
    "run_command1 = ''.join(['docker volume create ', elmdata_name])\n",
    "run_command2 = ''.join(['docker volume create ', elmoutput_name])\n",
    "#print(run_command)\n",
    "os.system(run_command1)\n",
    "os.system(run_command2)"
   ]
  },
  {
   "cell_type": "code",
   "execution_count": 12,
   "id": "02109908-8d6c-48dd-b04c-bc6223baa153",
   "metadata": {},
   "outputs": [
    {
     "name": "stdout",
     "output_type": "stream",
     "text": [
      "docker run -t -i --hostname docker --user modeluser\n"
     ]
    }
   ],
   "source": [
    "# Define run options for OLMT\n",
    "#docker run -t -i --hostname=docker --user modeluser -v elmdata:/inputdata -v elmoutput:/output fasstsimulation/elm-builds:elm_v2-for-ngee /scripts/OLMT_docker_example.sh\n",
    "hostname=\"docker\"\n",
    "user=\"modeluser\"\n",
    "elmdata=\"elmdata\"\n",
    "elmoutput=\"elmoutput\"\n",
    "\n",
    "elm_run_command = ''.join(['docker run -t -i --hostname ', hostname,' --user ', user])\n",
    "print(elm_run_command)"
   ]
  },
  {
   "cell_type": "code",
   "execution_count": null,
   "id": "63ef866d-5b70-4f06-be0e-552655cc20e7",
   "metadata": {},
   "outputs": [],
   "source": [
    "# Run the model simulation\n",
    "# Create new case\n",
    "start = time.time()\n",
    "# run the docker container\n",
    "os.system(elm_run_command)\n",
    "# get runtime\n",
    "end = time.time()\n",
    "#Print runtime\n",
    "print(end - start)"
   ]
  }
 ],
 "metadata": {
  "kernelspec": {
   "display_name": "Python 3 (ipykernel)",
   "language": "python",
   "name": "python3"
  },
  "language_info": {
   "codemirror_mode": {
    "name": "ipython",
    "version": 3
   },
   "file_extension": ".py",
   "mimetype": "text/x-python",
   "name": "python",
   "nbconvert_exporter": "python",
   "pygments_lexer": "ipython3",
   "version": "3.9.13"
  }
 },
 "nbformat": 4,
 "nbformat_minor": 5
}
