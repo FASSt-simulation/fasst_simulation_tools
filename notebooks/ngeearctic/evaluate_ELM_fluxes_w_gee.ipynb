{
 "cells": [
  {
   "cell_type": "markdown",
   "id": "f436cb4e-9061-4f16-a8db-e6acf0186254",
   "metadata": {},
   "source": [
    "<center><img src=\"https://github.com/FASSt-simulation/fasst_simulation_tools/raw/main/images/site-logo.png\" width=150 height=150 alt=\"NGEE-Arctic Logo\"/></center>\n",
    "\n",
    "# Tutorial: *Evaluating ELM fluxes using remote sensing imagery from Google Earth Engine*\n",
    "This tutorial explores the radiation components of ELM simulations at one of the four [NGEE-Arctic](https://ngee-arctic.ornl.gov/) study sites.\n"
   ]
  },
  {
   "cell_type": "markdown",
   "id": "0a3adddf-5a9a-4672-befe-25494a9d3381",
   "metadata": {},
   "source": [
    "#### ----------------------------------------------------------------------------------------------------------------------\n",
    "\n",
    "<br>\n",
    "\n",
    "#### To run this script and generate the resulting ELM plots we need specific Python libraries.  This step loads those required libraries"
   ]
  },
  {
   "cell_type": "code",
   "execution_count": 9,
   "id": "959fabc3-5f20-4ed0-9a81-02a00613f0fe",
   "metadata": {},
   "outputs": [],
   "source": [
    "# setup modules\n",
    "import matplotlib.pyplot as plt\n",
    "import matplotlib as mpl\n",
    "import pandas as pd\n",
    "import xarray\n",
    "from netCDF4 import Dataset \n",
    "import os\n",
    "import cftime\n",
    "from datetime import datetime as dt\n",
    "import ipywidgets as widgets\n",
    "import sys,os,os.path,glob,numpy # or should we just do a as np?\n",
    "\n",
    "# spatial modules\n",
    "import ee\n",
    "import geemap.colormaps as cm\n",
    "import geemap.foliumap as geemap\n",
    "    \n",
    "import warnings\n",
    "warnings.filterwarnings('ignore') #don't display warnings"
   ]
  },
  {
   "cell_type": "markdown",
   "id": "dddca708-052b-4919-bf76-b85f7f2b8bd5",
   "metadata": {},
   "source": [
    "<br>\n",
    "\n",
    "#### This step creates a temporary folder location to store figures that are created in this notebook.  You can later download these figures to your host computer"
   ]
  },
  {
   "cell_type": "code",
   "execution_count": 7,
   "id": "50a3c41e-a66b-4b9e-976b-8571b4a4dca3",
   "metadata": {},
   "outputs": [
    {
     "name": "stdout",
     "output_type": "stream",
     "text": [
      " \n",
      "****** Temporary Output Folder ******\n",
      "/home/jovyan/work/figures\n"
     ]
    }
   ],
   "source": [
    "## setup output. defined dir or system temp dir\n",
    "output_dir=os.path.expanduser(os.path.join('~','work/figures'))\n",
    "\n",
    "if not os.path.exists(output_dir):\n",
    "    os.makedirs(output_dir)\n",
    "\n",
    "print(\" \")\n",
    "print(\"****** Temporary Output Folder ******\")\n",
    "print(output_dir)"
   ]
  },
  {
   "cell_type": "markdown",
   "id": "f5f80844-0cde-4b48-afe3-a2333c03eb7f",
   "metadata": {},
   "source": [
    "<br>\n",
    "\n",
    "#### To use the GEE layers you need to have a GEE account and authenticate your API before proceeding"
   ]
  },
  {
   "cell_type": "code",
   "execution_count": 8,
   "id": "91b4c7e1-b969-4b2d-98b3-3e3a535de6c3",
   "metadata": {},
   "outputs": [
    {
     "data": {
      "text/html": [
       "<p>To authorize access needed by Earth Engine, open the following\n",
       "        URL in a web browser and follow the instructions:</p>\n",
       "        <p><a href=https://code.earthengine.google.com/client-auth?scopes=https%3A//www.googleapis.com/auth/earthengine%20https%3A//www.googleapis.com/auth/devstorage.full_control&request_id=iNApWiU4Wj-8kYqE8mZdpOJVpxnjYiXpBbBcZHA9wBc&tc=Ual8FbOOOZcAuGx1ha_386__ROQcbokD5ttiCZqg-pg&cc=pT9TRwL8Irgq1-4igjOvl6hNuGz1ALOt3QwGaPR29LE>https://code.earthengine.google.com/client-auth?scopes=https%3A//www.googleapis.com/auth/earthengine%20https%3A//www.googleapis.com/auth/devstorage.full_control&request_id=iNApWiU4Wj-8kYqE8mZdpOJVpxnjYiXpBbBcZHA9wBc&tc=Ual8FbOOOZcAuGx1ha_386__ROQcbokD5ttiCZqg-pg&cc=pT9TRwL8Irgq1-4igjOvl6hNuGz1ALOt3QwGaPR29LE</a></p>\n",
       "        <p>The authorization workflow will generate a code, which you should paste in the box below.</p>\n",
       "        "
      ],
      "text/plain": [
       "<IPython.core.display.HTML object>"
      ]
     },
     "metadata": {},
     "output_type": "display_data"
    },
    {
     "name": "stdin",
     "output_type": "stream",
     "text": [
      "Enter verification code:  4/1ARtbsJq6coZIklzx1pJggbDZrLGXXnKrcD922JqUMhOZb1YXFV2hksf8p5g\n"
     ]
    },
    {
     "name": "stdout",
     "output_type": "stream",
     "text": [
      "\n",
      "Successfully saved authorization token.\n"
     ]
    }
   ],
   "source": [
    "##### initialize ee API  - you need to authenticate with GEE and initialize\n",
    "\n",
    "## Trigger the authentication flow. You only need to do this once while running notebook\n",
    "ee.Authenticate()\n",
    "\n",
    "## After inserting the API key initialize GEE\n",
    "ee.Initialize()\n",
    "\n",
    "# temporary api key: 4/1ARtbsJq6coZIklzx1pJggbDZrLGXXnKrcD922JqUMhOZb1YXFV2hksf8p5g"
   ]
  },
  {
   "cell_type": "raw",
   "id": "854b5f27-9fcc-4b41-8891-3a5fe597c909",
   "metadata": {},
   "source": [
    "<br>\n",
    "\n",
    "#### This step identifies all of the previous ELM cases that are stored in your output location then creates a list to select the output by site"
   ]
  },
  {
   "cell_type": "code",
   "execution_count": 10,
   "id": "b245305a-0616-437f-9da2-02bc2f2ddef8",
   "metadata": {},
   "outputs": [],
   "source": [
    "# Create case run output directories\n",
    "\n",
    "output_rootdir=os.path.expanduser('~')+'/output/cime_run_dirs/'\n",
    "cases=numpy.asarray(glob.glob(\"%s*20TR*\" % output_rootdir))\n",
    "cases=[x.split('/')[-1] for x in cases]\n",
    "cases_dropdown = widgets.Dropdown(options=cases,\n",
    "                                description='Chose Case Name:',\n",
    "                                style={'description_width':'auto'},\n",
    "                                layout={'width':'max-content'},\n",
    "                                disabled=False)"
   ]
  },
  {
   "cell_type": "markdown",
   "id": "807d926b-2932-47c9-95ea-39f0ee1f80dd",
   "metadata": {},
   "source": [
    "<br>\n",
    "\n",
    "#### Here we create the dropdown menu of ELM output options availible in your output volume"
   ]
  },
  {
   "cell_type": "code",
   "execution_count": 11,
   "id": "fd31ac54-19f7-49ac-b348-e096fb41fc9a",
   "metadata": {},
   "outputs": [
    {
     "data": {
      "application/vnd.jupyter.widget-view+json": {
       "model_id": "c272b18344ec470a9e603d195782effa",
       "version_major": 2,
       "version_minor": 0
      },
      "text/plain": [
       "Dropdown(description='Chose Case Name:', layout=Layout(width='max-content'), options=('OLMT_AK-BEOG_ICB20TRCNP…"
      ]
     },
     "metadata": {},
     "output_type": "display_data"
    }
   ],
   "source": [
    "# Show a dropdown menu to select specific case output\n",
    "# Any cases that have been run in our elmoutput directory will be displayed\n",
    "# Case names will contain the site codes:\n",
    "# AK-BEO; AK-CLG; AK-K64G AK-TLG\n",
    "\n",
    "display(cases_dropdown)"
   ]
  },
  {
   "cell_type": "markdown",
   "id": "b76d46ee-00c8-4115-81cb-fc77fe98d999",
   "metadata": {},
   "source": [
    "<br>\n",
    "\n",
    "#### After selecting which ELM output folder we want to use as our source for simulation output, we can then find all .nc files in the output location"
   ]
  },
  {
   "cell_type": "code",
   "execution_count": 12,
   "id": "4e5b35d0-76e9-4f69-985c-a06bfa4169bd",
   "metadata": {},
   "outputs": [],
   "source": [
    "# Get the output nc file options\n",
    "\n",
    "output_casedir=output_rootdir+cases_dropdown.value+'/run/'\n",
    "filenames=numpy.asarray(glob.glob(\"%s*.elm.h?.*.nc\" % output_casedir))\n",
    "filenames=sorted([x.split('/')[-1] for x in filenames])\n",
    "if(os.path.exists(output_casedir+'ELM_output.nc')): filenames.insert(0,'ELM_output.nc')\n",
    "\n",
    "ncfiles_dropdown = widgets.Dropdown(options=filenames,\n",
    "                                description='Choose Output File:', \n",
    "                                style={'description_width':'auto'},\n",
    "                                layout={'width':'max-content'},\n",
    "                                disabled=False)"
   ]
  },
  {
   "cell_type": "markdown",
   "id": "ad79f477-9c92-4db1-96be-327f3639fad8",
   "metadata": {},
   "source": [
    "<br>\n",
    "\n",
    "#### This step displays the .nc file dropdown menu. In most cases you will select \"ELM_output.nc\" which is the file containing all simulation output years (e.g. 1850-2014)"
   ]
  },
  {
   "cell_type": "code",
   "execution_count": 13,
   "id": "c8ef62c1-b67e-4816-bdc9-e8bfd7d6bef4",
   "metadata": {},
   "outputs": [
    {
     "data": {
      "application/vnd.jupyter.widget-view+json": {
       "model_id": "bbc2206fb00a4c97b909434b103d5a3c",
       "version_major": 2,
       "version_minor": 0
      },
      "text/plain": [
       "Dropdown(description='Choose Output File:', layout=Layout(width='max-content'), options=('ELM_output.nc', 'OLM…"
      ]
     },
     "metadata": {},
     "output_type": "display_data"
    }
   ],
   "source": [
    "# Display the output nc file options - in most cases you will select ELM_output.nc\n",
    "\n",
    "display(ncfiles_dropdown)"
   ]
  },
  {
   "cell_type": "markdown",
   "id": "e7de085c-4062-4dd6-8c23-f0c7eb489854",
   "metadata": {},
   "source": [
    "<br>\n",
    "\n",
    "#### This step sets the desired output file to read into memory below"
   ]
  },
  {
   "cell_type": "code",
   "execution_count": 14,
   "id": "a13e3f46-5aa1-45a3-99e7-1bc0767ac07c",
   "metadata": {},
   "outputs": [],
   "source": [
    "# Set the output\n",
    "\n",
    "output_file=output_casedir+ncfiles_dropdown.value"
   ]
  },
  {
   "cell_type": "markdown",
   "id": "d543ef0c-86da-41f7-846d-b20138cb5d7d",
   "metadata": {},
   "source": [
    "<br>\n",
    "\n",
    "#### This step uses the xarray package to load the ELM output so that we can analyze the results and generate plots"
   ]
  },
  {
   "cell_type": "code",
   "execution_count": 15,
   "id": "bbc6d57d-2cbf-4679-8155-8de870db2bd0",
   "metadata": {},
   "outputs": [],
   "source": [
    "# Load model output data into xarray format. \n",
    "# squeeze removes an empty grid cell dimension assuming this is a single point run\n",
    "\n",
    "elm_output=xarray.open_dataset(output_file).squeeze()"
   ]
  },
  {
   "cell_type": "markdown",
   "id": "77e51f93-9f6e-468a-8ae1-9589bac0dffd",
   "metadata": {},
   "source": [
    "<br>\n",
    "\n",
    "#### We can quickly display a subset of the nc file metadata here using the print() command\n",
    "\n",
    "#### Note that on the left is the name of the data dimension or variable and on the right shows the data type and other metadata"
   ]
  },
  {
   "cell_type": "code",
   "execution_count": 16,
   "id": "ee21b871-0674-4413-9d02-90d0d324bba5",
   "metadata": {},
   "outputs": [
    {
     "name": "stdout",
     "output_type": "stream",
     "text": [
      "<xarray.Dataset>\n",
      "Dimensions:                   (levgrnd: 15, levlak: 10, levdcmp: 15,\n",
      "                               time: 60226, hist_interval: 2, ltype: 9,\n",
      "                               natpft: 17)\n",
      "Coordinates:\n",
      "  * levgrnd                   (levgrnd) float32 0.007101 0.02792 ... 21.33 35.18\n",
      "  * levlak                    (levlak) float32 0.05 0.6 2.1 ... 25.6 34.33 44.78\n",
      "  * levdcmp                   (levdcmp) float32 0.007101 0.02792 ... 21.33 35.18\n",
      "  * time                      (time) object 1850-01-01 00:00:00 ... 2015-01-0...\n",
      "Dimensions without coordinates: hist_interval, ltype, natpft\n",
      "Data variables: (12/562)\n",
      "    mcdate                    (time) int32 ...\n",
      "    mcsec                     (time) int32 ...\n",
      "    mdcur                     (time) int32 ...\n",
      "    mscur                     (time) int32 ...\n",
      "    nstep                     (time) int32 ...\n",
      "    time_bounds               (time, hist_interval) object ...\n",
      "    ...                        ...\n",
      "    leaf_npimbalance          (time) float32 ...\n",
      "    nlim_m                    (time) float32 ...\n",
      "    o2_decomp_depth_unsat     (time, levgrnd) float32 ...\n",
      "    plim_m                    (time) float32 ...\n",
      "    water_scalar              (time) float32 ...\n",
      "    wlim_m                    (time) float32 ...\n",
      "Attributes: (12/28)\n",
      "    title:                                     ELM History file information\n",
      "    source:                                    E3SM Land Model\n",
      "    source_id:                                 0a44f14098\n",
      "    product:                                   model-output\n",
      "    realm:                                     land\n",
      "    case:                                      OLMT_AK-TLG_ICB20TRCNPRDCTCBC\n",
      "    ...                                        ...\n",
      "    ltype_deep_lake:                           5\n",
      "    ltype_wetland:                             6\n",
      "    ltype_urban_tbd:                           7\n",
      "    ltype_urban_hd:                            8\n",
      "    ltype_urban_md:                            9\n",
      "    NCO:                                       netCDF Operators version 4.7.9...\n"
     ]
    }
   ],
   "source": [
    "# show the contents of elm_output\n",
    "\n",
    "print(elm_output)"
   ]
  },
  {
   "cell_type": "markdown",
   "id": "2dd69377-dbca-4453-9395-484fd35cd7a6",
   "metadata": {},
   "source": [
    "<br>\n",
    "\n",
    "#### Lets get the specific lat/long of the model simulation to use with extracting remote sensing data"
   ]
  },
  {
   "cell_type": "code",
   "execution_count": 35,
   "id": "18b105be-1410-4346-936f-c3b1efb981df",
   "metadata": {},
   "outputs": [
    {
     "name": "stdout",
     "output_type": "stream",
     "text": [
      "<xarray.DataArray 'lon' ()>\n",
      "array(-165.75)\n",
      "Attributes:\n",
      "    long_name:  coordinate longitude\n",
      "    units:      degrees_east <xarray.DataArray 'lat' ()>\n",
      "array(65.75)\n",
      "Attributes:\n",
      "    long_name:  coordinate latitude\n",
      "    units:      degrees_north\n",
      "65.75 -165.75\n"
     ]
    }
   ],
   "source": [
    "print(elm_output['lon'],elm_output['lat'])\n",
    "lat=elm_output['lat'].values.item()\n",
    "lon=elm_output['lon'].values.item()\n",
    "print(lat,lon)"
   ]
  },
  {
   "cell_type": "markdown",
   "id": "1690a81f-b3c4-494d-8c94-458297e888c4",
   "metadata": {},
   "source": [
    "<br>\n",
    "\n",
    "#### It appears the lat/long location is inaccurate given the resolution of the ELM inputs. Lets instead set a more accurate location of the AK-TLG study site (Teller)"
   ]
  },
  {
   "cell_type": "code",
   "execution_count": 50,
   "id": "e4d3f982-9e03-4495-8a2c-5ab4eec62bab",
   "metadata": {},
   "outputs": [],
   "source": [
    "lat=64.732523\n",
    "lon=-165.952788"
   ]
  },
  {
   "cell_type": "markdown",
   "id": "559f1a43-dca7-442d-bce9-0768a6c8c0b8",
   "metadata": {},
   "source": [
    "<br>\n",
    "\n",
    "#### Lets get some imagery from GEE"
   ]
  },
  {
   "cell_type": "code",
   "execution_count": 96,
   "id": "cde63906-8e4b-46d4-be9e-ff48cc03682f",
   "metadata": {},
   "outputs": [],
   "source": [
    "#https://developers.google.com/earth-engine/datasets/tags/8-day\n",
    "\n",
    "## Leaf Area Index - MODIS Terra collection 6.1\n",
    "modislai = ee.ImageCollection('MODIS/061/MOD15A2H').filterDate('2010-01-01', '2014-10-01');\n",
    "\n",
    "# Composite and drop values == 1\n",
    "#modislai_maxval_composite = modislai.max()\n",
    "#modislaimask = modislai_maxval_composite.lt(100)\n",
    "#modislai_maxval_composite = modislai_maxval_composite.updateMask(modislaimask)"
   ]
  },
  {
   "cell_type": "code",
   "execution_count": 97,
   "id": "495b4740-3582-4086-bdb9-3f2fa3173d49",
   "metadata": {},
   "outputs": [],
   "source": [
    "lai_palette = ['FFFFFF', 'CE7E45', 'DF923D', 'F1B555', 'FCD163', '99B718', '74A901',\n",
    "    '66A000', '529400', '3E8601', '207401', '056201', '004C00', '023B01',\n",
    "    '012E01', '011D01', '011301']\n",
    "colorizedVis = {'min': 0,'max': 12,'palette': lai_palette}\n",
    "\n",
    "# site lat/long\n",
    "point = ee.Geometry.Point(lon, lat);\n",
    "\n",
    "lai_map = geemap.Map(center=[lat,lon], zoom=8);\n",
    "lai_map.addLayer(modislai.select('Lai_500m'), colorizedVis, 'Lai');\n",
    "#lai_map.addLayer(modislai.select('Fpar_500m'), colorizedVis, 'Fpar');\n",
    "lai_map.addLayer(point,{'color': 'yellow'},'Geometry [black]: point');\n",
    "lai_map.add_colorbar(vis_params=colorizedVis, label='MODIS LAI (m2/m2)')"
   ]
  },
  {
   "cell_type": "code",
   "execution_count": 98,
   "id": "3ee32d04-e499-4858-9c4f-e79b3ae4ed5d",
   "metadata": {},
   "outputs": [
    {
     "data": {
      "text/html": [
       "<div style=\"width:100%;\"><div style=\"position:relative;width:100%;height:0;padding-bottom:60%;\"><span style=\"color:#565656\">Make this Notebook Trusted to load map: File -> Trust Notebook</span><iframe src=\"about:blank\" style=\"position:absolute;width:100%;height:100%;left:0;top:0;border:none !important;\" data-html=%3C%21DOCTYPE%20html%3E%0A%3Chead%3E%20%20%20%20%0A%20%20%20%20%3Cmeta%20http-equiv%3D%22content-type%22%20content%3D%22text/html%3B%20charset%3DUTF-8%22%20/%3E%0A%20%20%20%20%0A%20%20%20%20%20%20%20%20%3Cscript%3E%0A%20%20%20%20%20%20%20%20%20%20%20%20L_NO_TOUCH%20%3D%20false%3B%0A%20%20%20%20%20%20%20%20%20%20%20%20L_DISABLE_3D%20%3D%20false%3B%0A%20%20%20%20%20%20%20%20%3C/script%3E%0A%20%20%20%20%0A%20%20%20%20%3Cstyle%3Ehtml%2C%20body%20%7Bwidth%3A%20100%25%3Bheight%3A%20100%25%3Bmargin%3A%200%3Bpadding%3A%200%3B%7D%3C/style%3E%0A%20%20%20%20%3Cstyle%3E%23map%20%7Bposition%3Aabsolute%3Btop%3A0%3Bbottom%3A0%3Bright%3A0%3Bleft%3A0%3B%7D%3C/style%3E%0A%20%20%20%20%3Cscript%20src%3D%22https%3A//cdn.jsdelivr.net/npm/leaflet%401.6.0/dist/leaflet.js%22%3E%3C/script%3E%0A%20%20%20%20%3Cscript%20src%3D%22https%3A//code.jquery.com/jquery-1.12.4.min.js%22%3E%3C/script%3E%0A%20%20%20%20%3Cscript%20src%3D%22https%3A//maxcdn.bootstrapcdn.com/bootstrap/3.2.0/js/bootstrap.min.js%22%3E%3C/script%3E%0A%20%20%20%20%3Cscript%20src%3D%22https%3A//cdnjs.cloudflare.com/ajax/libs/Leaflet.awesome-markers/2.0.2/leaflet.awesome-markers.js%22%3E%3C/script%3E%0A%20%20%20%20%3Clink%20rel%3D%22stylesheet%22%20href%3D%22https%3A//cdn.jsdelivr.net/npm/leaflet%401.6.0/dist/leaflet.css%22/%3E%0A%20%20%20%20%3Clink%20rel%3D%22stylesheet%22%20href%3D%22https%3A//maxcdn.bootstrapcdn.com/bootstrap/3.2.0/css/bootstrap.min.css%22/%3E%0A%20%20%20%20%3Clink%20rel%3D%22stylesheet%22%20href%3D%22https%3A//maxcdn.bootstrapcdn.com/bootstrap/3.2.0/css/bootstrap-theme.min.css%22/%3E%0A%20%20%20%20%3Clink%20rel%3D%22stylesheet%22%20href%3D%22https%3A//maxcdn.bootstrapcdn.com/font-awesome/4.6.3/css/font-awesome.min.css%22/%3E%0A%20%20%20%20%3Clink%20rel%3D%22stylesheet%22%20href%3D%22https%3A//cdnjs.cloudflare.com/ajax/libs/Leaflet.awesome-markers/2.0.2/leaflet.awesome-markers.css%22/%3E%0A%20%20%20%20%3Clink%20rel%3D%22stylesheet%22%20href%3D%22https%3A//cdn.jsdelivr.net/gh/python-visualization/folium/folium/templates/leaflet.awesome.rotate.min.css%22/%3E%0A%20%20%20%20%0A%20%20%20%20%20%20%20%20%20%20%20%20%3Cmeta%20name%3D%22viewport%22%20content%3D%22width%3Ddevice-width%2C%0A%20%20%20%20%20%20%20%20%20%20%20%20%20%20%20%20initial-scale%3D1.0%2C%20maximum-scale%3D1.0%2C%20user-scalable%3Dno%22%20/%3E%0A%20%20%20%20%20%20%20%20%20%20%20%20%3Cstyle%3E%0A%20%20%20%20%20%20%20%20%20%20%20%20%20%20%20%20%23map_01cc932ab7754f7297832196026deb12%20%7B%0A%20%20%20%20%20%20%20%20%20%20%20%20%20%20%20%20%20%20%20%20position%3A%20relative%3B%0A%20%20%20%20%20%20%20%20%20%20%20%20%20%20%20%20%20%20%20%20width%3A%20100.0%25%3B%0A%20%20%20%20%20%20%20%20%20%20%20%20%20%20%20%20%20%20%20%20height%3A%20100.0%25%3B%0A%20%20%20%20%20%20%20%20%20%20%20%20%20%20%20%20%20%20%20%20left%3A%200.0%25%3B%0A%20%20%20%20%20%20%20%20%20%20%20%20%20%20%20%20%20%20%20%20top%3A%200.0%25%3B%0A%20%20%20%20%20%20%20%20%20%20%20%20%20%20%20%20%7D%0A%20%20%20%20%20%20%20%20%20%20%20%20%3C/style%3E%0A%20%20%20%20%20%20%20%20%0A%20%20%20%20%3Cscript%20src%3D%22https%3A//cdnjs.cloudflare.com/ajax/libs/leaflet.fullscreen/1.4.2/Control.FullScreen.min.js%22%3E%3C/script%3E%0A%20%20%20%20%3Clink%20rel%3D%22stylesheet%22%20href%3D%22https%3A//cdnjs.cloudflare.com/ajax/libs/leaflet.fullscreen/1.4.2/Control.FullScreen.min.css%22/%3E%0A%20%20%20%20%3Cscript%20src%3D%22https%3A//cdnjs.cloudflare.com/ajax/libs/leaflet.draw/1.0.2/leaflet.draw.js%22%3E%3C/script%3E%0A%20%20%20%20%3Clink%20rel%3D%22stylesheet%22%20href%3D%22https%3A//cdnjs.cloudflare.com/ajax/libs/leaflet.draw/1.0.2/leaflet.draw.css%22/%3E%0A%20%20%20%20%3Cscript%20src%3D%22https%3A//unpkg.com/leaflet-control-geocoder/dist/Control.Geocoder.js%22%3E%3C/script%3E%0A%20%20%20%20%3Clink%20rel%3D%22stylesheet%22%20href%3D%22https%3A//unpkg.com/leaflet-control-geocoder/dist/Control.Geocoder.css%22/%3E%0A%20%20%20%20%3Cscript%20src%3D%22https%3A//cdnjs.cloudflare.com/ajax/libs/d3/3.5.5/d3.min.js%22%3E%3C/script%3E%0A%3C/head%3E%0A%3Cbody%3E%20%20%20%20%0A%20%20%20%20%0A%20%20%20%20%20%20%20%20%20%20%20%20%3Cdiv%20class%3D%22folium-map%22%20id%3D%22map_01cc932ab7754f7297832196026deb12%22%20%3E%3C/div%3E%0A%20%20%20%20%20%20%20%20%0A%3C/body%3E%0A%3Cscript%3E%20%20%20%20%0A%20%20%20%20%0A%20%20%20%20%20%20%20%20%20%20%20%20var%20map_01cc932ab7754f7297832196026deb12%20%3D%20L.map%28%0A%20%20%20%20%20%20%20%20%20%20%20%20%20%20%20%20%22map_01cc932ab7754f7297832196026deb12%22%2C%0A%20%20%20%20%20%20%20%20%20%20%20%20%20%20%20%20%7B%0A%20%20%20%20%20%20%20%20%20%20%20%20%20%20%20%20%20%20%20%20center%3A%20%5B64.732523%2C%20-165.952788%5D%2C%0A%20%20%20%20%20%20%20%20%20%20%20%20%20%20%20%20%20%20%20%20crs%3A%20L.CRS.EPSG3857%2C%0A%20%20%20%20%20%20%20%20%20%20%20%20%20%20%20%20%20%20%20%20zoom%3A%208%2C%0A%20%20%20%20%20%20%20%20%20%20%20%20%20%20%20%20%20%20%20%20zoomControl%3A%20true%2C%0A%20%20%20%20%20%20%20%20%20%20%20%20%20%20%20%20%20%20%20%20preferCanvas%3A%20false%2C%0A%20%20%20%20%20%20%20%20%20%20%20%20%20%20%20%20%20%20%20%20eeInitialize%3A%20true%2C%0A%20%20%20%20%20%20%20%20%20%20%20%20%20%20%20%20%20%20%20%20addGoogleMap%3A%20true%2C%0A%20%20%20%20%20%20%20%20%20%20%20%20%20%20%20%20%20%20%20%20pluginLatlngpopup%3A%20false%2C%0A%20%20%20%20%20%20%20%20%20%20%20%20%20%20%20%20%20%20%20%20pluginFullscreen%3A%20true%2C%0A%20%20%20%20%20%20%20%20%20%20%20%20%20%20%20%20%20%20%20%20pluginDraw%3A%20true%2C%0A%20%20%20%20%20%20%20%20%20%20%20%20%20%20%20%20%20%20%20%20DrawExport%3A%20false%2C%0A%20%20%20%20%20%20%20%20%20%20%20%20%20%20%20%20%20%20%20%20pluginMinimap%3A%20false%2C%0A%20%20%20%20%20%20%20%20%20%20%20%20%20%20%20%20%20%20%20%20pluginLayercontrol%3A%20false%2C%0A%20%20%20%20%20%20%20%20%20%20%20%20%20%20%20%20%20%20%20%20locateControl%3A%20false%2C%0A%20%20%20%20%20%20%20%20%20%20%20%20%20%20%20%20%20%20%20%20searchControl%3A%20true%2C%0A%20%20%20%20%20%20%20%20%20%20%20%20%20%20%20%20%7D%0A%20%20%20%20%20%20%20%20%20%20%20%20%29%3B%0A%0A%20%20%20%20%20%20%20%20%20%20%20%20%0A%0A%20%20%20%20%20%20%20%20%0A%20%20%20%20%0A%20%20%20%20%20%20%20%20%20%20%20%20var%20tile_layer_4db08953067d4cfd9fe32a3f0391018a%20%3D%20L.tileLayer%28%0A%20%20%20%20%20%20%20%20%20%20%20%20%20%20%20%20%22https%3A//%7Bs%7D.tile.openstreetmap.org/%7Bz%7D/%7Bx%7D/%7By%7D.png%22%2C%0A%20%20%20%20%20%20%20%20%20%20%20%20%20%20%20%20%7B%22attribution%22%3A%20%22Data%20by%20%5Cu0026copy%3B%20%5Cu003ca%20href%3D%5C%22http%3A//openstreetmap.org%5C%22%5Cu003eOpenStreetMap%5Cu003c/a%5Cu003e%2C%20under%20%5Cu003ca%20href%3D%5C%22http%3A//www.openstreetmap.org/copyright%5C%22%5Cu003eODbL%5Cu003c/a%5Cu003e.%22%2C%20%22detectRetina%22%3A%20false%2C%20%22maxNativeZoom%22%3A%2024%2C%20%22maxZoom%22%3A%2024%2C%20%22minZoom%22%3A%200%2C%20%22noWrap%22%3A%20false%2C%20%22opacity%22%3A%201%2C%20%22subdomains%22%3A%20%22abc%22%2C%20%22tms%22%3A%20false%7D%0A%20%20%20%20%20%20%20%20%20%20%20%20%29.addTo%28map_01cc932ab7754f7297832196026deb12%29%3B%0A%20%20%20%20%20%20%20%20%0A%20%20%20%20%0A%20%20%20%20%20%20%20%20%20%20%20%20var%20tile_layer_2b835a555961431aa297c7972f048c75%20%3D%20L.tileLayer%28%0A%20%20%20%20%20%20%20%20%20%20%20%20%20%20%20%20%22https%3A//mt1.google.com/vt/lyrs%3Dm%5Cu0026x%3D%7Bx%7D%5Cu0026y%3D%7By%7D%5Cu0026z%3D%7Bz%7D%22%2C%0A%20%20%20%20%20%20%20%20%20%20%20%20%20%20%20%20%7B%22attribution%22%3A%20%22Google%22%2C%20%22detectRetina%22%3A%20false%2C%20%22maxNativeZoom%22%3A%2022%2C%20%22maxZoom%22%3A%2022%2C%20%22minZoom%22%3A%200%2C%20%22noWrap%22%3A%20false%2C%20%22opacity%22%3A%201%2C%20%22subdomains%22%3A%20%22abc%22%2C%20%22tms%22%3A%20false%7D%0A%20%20%20%20%20%20%20%20%20%20%20%20%29.addTo%28map_01cc932ab7754f7297832196026deb12%29%3B%0A%20%20%20%20%20%20%20%20%0A%20%20%20%20%0A%20%20%20%20%20%20%20%20%20%20%20%20L.control.fullscreen%28%0A%20%20%20%20%20%20%20%20%20%20%20%20%20%20%20%20%7B%22forceSeparateButton%22%3A%20false%2C%20%22position%22%3A%20%22topleft%22%2C%20%22title%22%3A%20%22Full%20Screen%22%2C%20%22titleCancel%22%3A%20%22Exit%20Full%20Screen%22%7D%0A%20%20%20%20%20%20%20%20%20%20%20%20%29.addTo%28map_01cc932ab7754f7297832196026deb12%29%3B%0A%20%20%20%20%20%20%20%20%0A%20%20%20%20%0A%20%20%20%20%20%20%20%20%20%20%20%20var%20options%20%3D%20%7B%0A%20%20%20%20%20%20%20%20%20%20%20%20%20%20position%3A%20%22topleft%22%2C%0A%20%20%20%20%20%20%20%20%20%20%20%20%20%20draw%3A%20%7B%7D%2C%0A%20%20%20%20%20%20%20%20%20%20%20%20%20%20edit%3A%20%7B%7D%2C%0A%20%20%20%20%20%20%20%20%20%20%20%20%7D%0A%20%20%20%20%20%20%20%20%20%20%20%20//%20FeatureGroup%20is%20to%20store%20editable%20layers.%0A%20%20%20%20%20%20%20%20%20%20%20%20var%20drawnItems%20%3D%20new%20L.featureGroup%28%29.addTo%28%0A%20%20%20%20%20%20%20%20%20%20%20%20%20%20%20%20map_01cc932ab7754f7297832196026deb12%0A%20%20%20%20%20%20%20%20%20%20%20%20%29%3B%0A%20%20%20%20%20%20%20%20%20%20%20%20options.edit.featureGroup%20%3D%20drawnItems%3B%0A%20%20%20%20%20%20%20%20%20%20%20%20var%20draw_control_bcb65d9cfc4a4af381dad59dceb82275%20%3D%20new%20L.Control.Draw%28%0A%20%20%20%20%20%20%20%20%20%20%20%20%20%20%20%20options%0A%20%20%20%20%20%20%20%20%20%20%20%20%29.addTo%28%20map_01cc932ab7754f7297832196026deb12%20%29%3B%0A%20%20%20%20%20%20%20%20%20%20%20%20map_01cc932ab7754f7297832196026deb12.on%28L.Draw.Event.CREATED%2C%20function%28e%29%20%7B%0A%20%20%20%20%20%20%20%20%20%20%20%20%20%20%20%20var%20layer%20%3D%20e.layer%2C%0A%20%20%20%20%20%20%20%20%20%20%20%20%20%20%20%20%20%20%20%20type%20%3D%20e.layerType%3B%0A%20%20%20%20%20%20%20%20%20%20%20%20%20%20%20%20var%20coords%20%3D%20JSON.stringify%28layer.toGeoJSON%28%29%29%3B%0A%20%20%20%20%20%20%20%20%20%20%20%20%20%20%20%20layer.on%28%27click%27%2C%20function%28%29%20%7B%0A%20%20%20%20%20%20%20%20%20%20%20%20%20%20%20%20%20%20%20%20alert%28coords%29%3B%0A%20%20%20%20%20%20%20%20%20%20%20%20%20%20%20%20%20%20%20%20console.log%28coords%29%3B%0A%20%20%20%20%20%20%20%20%20%20%20%20%20%20%20%20%7D%29%3B%0A%20%20%20%20%20%20%20%20%20%20%20%20%20%20%20%20drawnItems.addLayer%28layer%29%3B%0A%20%20%20%20%20%20%20%20%20%20%20%20%20%7D%29%3B%0A%20%20%20%20%20%20%20%20%20%20%20%20map_01cc932ab7754f7297832196026deb12.on%28%27draw%3Acreated%27%2C%20function%28e%29%20%7B%0A%20%20%20%20%20%20%20%20%20%20%20%20%20%20%20%20drawnItems.addLayer%28e.layer%29%3B%0A%20%20%20%20%20%20%20%20%20%20%20%20%7D%29%3B%0A%20%20%20%20%20%20%20%20%20%20%20%20%0A%20%20%20%20%20%20%20%20%0A%20%20%20%20%0A%20%20%20%20%20%20%20%20%20%20%20%20L.Control.geocoder%28%0A%20%20%20%20%20%20%20%20%20%20%20%20%20%20%20%20%7B%22collapsed%22%3A%20true%2C%20%22defaultMarkGeocode%22%3A%20true%2C%20%22position%22%3A%20%22topleft%22%7D%0A%20%20%20%20%20%20%20%20%20%20%20%20%29.on%28%27markgeocode%27%2C%20function%28e%29%20%7B%0A%20%20%20%20%20%20%20%20%20%20%20%20%20%20%20%20map_01cc932ab7754f7297832196026deb12.setView%28e.geocode.center%2C%2011%29%3B%0A%20%20%20%20%20%20%20%20%20%20%20%20%7D%29.addTo%28map_01cc932ab7754f7297832196026deb12%29%3B%0A%0A%20%20%20%20%20%20%20%20%0A%20%20%20%20%0A%20%20%20%20%20%20%20%20%20%20%20%20map_01cc932ab7754f7297832196026deb12.fitBounds%28%0A%20%20%20%20%20%20%20%20%20%20%20%20%20%20%20%20%5B%5B64.732523%2C%20-165.952788%5D%2C%20%5B64.732523%2C%20-165.952788%5D%5D%2C%0A%20%20%20%20%20%20%20%20%20%20%20%20%20%20%20%20%7B%22maxZoom%22%3A%208%7D%0A%20%20%20%20%20%20%20%20%20%20%20%20%29%3B%0A%20%20%20%20%20%20%20%20%0A%20%20%20%20%0A%20%20%20%20%20%20%20%20%20%20%20%20var%20tile_layer_d8233219807646229c0f1b941e0952b8%20%3D%20L.tileLayer%28%0A%20%20%20%20%20%20%20%20%20%20%20%20%20%20%20%20%22https%3A//earthengine.googleapis.com/v1alpha/projects/earthengine-legacy/maps/8eeb6170841980c2c5e28a66e16e4f2f-132e9c728098c48069ea8504523b068f/tiles/%7Bz%7D/%7Bx%7D/%7By%7D%22%2C%0A%20%20%20%20%20%20%20%20%20%20%20%20%20%20%20%20%7B%22attribution%22%3A%20%22Google%20Earth%20Engine%22%2C%20%22detectRetina%22%3A%20false%2C%20%22maxNativeZoom%22%3A%2024%2C%20%22maxZoom%22%3A%2024%2C%20%22minZoom%22%3A%200%2C%20%22noWrap%22%3A%20false%2C%20%22opacity%22%3A%201.0%2C%20%22subdomains%22%3A%20%22abc%22%2C%20%22tms%22%3A%20false%7D%0A%20%20%20%20%20%20%20%20%20%20%20%20%29.addTo%28map_01cc932ab7754f7297832196026deb12%29%3B%0A%20%20%20%20%20%20%20%20%0A%20%20%20%20%0A%20%20%20%20%20%20%20%20%20%20%20%20var%20tile_layer_b7e0eab0152e4ea6828843d3d0638057%20%3D%20L.tileLayer%28%0A%20%20%20%20%20%20%20%20%20%20%20%20%20%20%20%20%22https%3A//earthengine.googleapis.com/v1alpha/projects/earthengine-legacy/maps/e6369afa3acd88ea8b9a63167bc50542-b26735eb9b06cf56786298d73497f00c/tiles/%7Bz%7D/%7Bx%7D/%7By%7D%22%2C%0A%20%20%20%20%20%20%20%20%20%20%20%20%20%20%20%20%7B%22attribution%22%3A%20%22Google%20Earth%20Engine%22%2C%20%22detectRetina%22%3A%20false%2C%20%22maxNativeZoom%22%3A%2024%2C%20%22maxZoom%22%3A%2024%2C%20%22minZoom%22%3A%200%2C%20%22noWrap%22%3A%20false%2C%20%22opacity%22%3A%201.0%2C%20%22subdomains%22%3A%20%22abc%22%2C%20%22tms%22%3A%20false%7D%0A%20%20%20%20%20%20%20%20%20%20%20%20%29.addTo%28map_01cc932ab7754f7297832196026deb12%29%3B%0A%20%20%20%20%20%20%20%20%0A%20%20%20%20%0A%20%20%20%20var%20color_map_a1e4c6ba25f64628bf5fddbaad3d6042%20%3D%20%7B%7D%3B%0A%0A%20%20%20%20%0A%20%20%20%20color_map_a1e4c6ba25f64628bf5fddbaad3d6042.color%20%3D%20d3.scale.threshold%28%29%0A%20%20%20%20%20%20%20%20%20%20%20%20%20%20.domain%28%5B0.0%2C%200.02404809619238477%2C%200.04809619238476954%2C%200.07214428857715431%2C%200.09619238476953908%2C%200.12024048096192384%2C%200.14428857715430862%2C%200.1683366733466934%2C%200.19238476953907815%2C%200.21643286573146292%2C%200.24048096192384769%2C%200.26452905811623245%2C%200.28857715430861725%2C%200.312625250501002%2C%200.3366733466933868%2C%200.36072144288577157%2C%200.3847695390781563%2C%200.4088176352705411%2C%200.43286573146292584%2C%200.45691382765531063%2C%200.48096192384769537%2C%200.5050100200400801%2C%200.5290581162324649%2C%200.5531062124248497%2C%200.5771543086172345%2C%200.6012024048096193%2C%200.625250501002004%2C%200.6492985971943888%2C%200.6733466933867736%2C%200.6973947895791583%2C%200.7214428857715431%2C%200.7454909819639278%2C%200.7695390781563126%2C%200.7935871743486974%2C%200.8176352705410822%2C%200.8416833667334669%2C%200.8657314629258517%2C%200.8897795591182365%2C%200.9138276553106213%2C%200.9378757515030061%2C%200.9619238476953907%2C%200.9859719438877755%2C%201.0100200400801602%2C%201.034068136272545%2C%201.0581162324649298%2C%201.0821643286573146%2C%201.1062124248496994%2C%201.1302605210420842%2C%201.154308617234469%2C%201.1783567134268538%2C%201.2024048096192386%2C%201.2264529058116231%2C%201.250501002004008%2C%201.2745490981963927%2C%201.2985971943887775%2C%201.3226452905811623%2C%201.346693386773547%2C%201.370741482965932%2C%201.3947895791583167%2C%201.4188376753507015%2C%201.4428857715430863%2C%201.4669338677354709%2C%201.4909819639278556%2C%201.5150300601202404%2C%201.5390781563126252%2C%201.56312625250501%2C%201.5871743486973948%2C%201.6112224448897796%2C%201.6352705410821644%2C%201.6593186372745492%2C%201.6833667334669338%2C%201.7074148296593186%2C%201.7314629258517034%2C%201.7555110220440882%2C%201.779559118236473%2C%201.8036072144288577%2C%201.8276553106212425%2C%201.8517034068136273%2C%201.8757515030060121%2C%201.8997995991983967%2C%201.9238476953907815%2C%201.9478957915831663%2C%201.971943887775551%2C%201.9959919839679359%2C%202.0200400801603204%2C%202.0440881763527052%2C%202.06813627254509%2C%202.092184368737475%2C%202.1162324649298596%2C%202.1402805611222444%2C%202.164328657314629%2C%202.188376753507014%2C%202.212424849699399%2C%202.2364729458917836%2C%202.2605210420841684%2C%202.284569138276553%2C%202.308617234468938%2C%202.3326653306613228%2C%202.3567134268537075%2C%202.3807615230460923%2C%202.404809619238477%2C%202.428857715430862%2C%202.4529058116232463%2C%202.476953907815631%2C%202.501002004008016%2C%202.5250501002004007%2C%202.5490981963927855%2C%202.5731462925851702%2C%202.597194388777555%2C%202.62124248496994%2C%202.6452905811623246%2C%202.6693386773547094%2C%202.693386773547094%2C%202.717434869739479%2C%202.741482965931864%2C%202.7655310621242486%2C%202.7895791583166334%2C%202.813627254509018%2C%202.837675350701403%2C%202.8617234468937878%2C%202.8857715430861726%2C%202.909819639278557%2C%202.9338677354709417%2C%202.9579158316633265%2C%202.9819639278557113%2C%203.006012024048096%2C%203.030060120240481%2C%203.0541082164328657%2C%203.0781563126252505%2C%203.1022044088176353%2C%203.12625250501002%2C%203.150300601202405%2C%203.1743486973947896%2C%203.1983967935871744%2C%203.2224448897795592%2C%203.246492985971944%2C%203.270541082164329%2C%203.2945891783567136%2C%203.3186372745490984%2C%203.3426853707414828%2C%203.3667334669338675%2C%203.3907815631262523%2C%203.414829659318637%2C%203.438877755511022%2C%203.4629258517034067%2C%203.4869739478957915%2C%203.5110220440881763%2C%203.535070140280561%2C%203.559118236472946%2C%203.5831663326653307%2C%203.6072144288577155%2C%203.6312625250501003%2C%203.655310621242485%2C%203.67935871743487%2C%203.7034068136272547%2C%203.7274549098196395%2C%203.7515030060120242%2C%203.775551102204409%2C%203.7995991983967934%2C%203.823647294589178%2C%203.847695390781563%2C%203.8717434869739478%2C%203.8957915831663326%2C%203.9198396793587174%2C%203.943887775551102%2C%203.967935871743487%2C%203.9919839679358717%2C%204.0160320641282565%2C%204.040080160320641%2C%204.064128256513026%2C%204.0881763527054105%2C%204.112224448897796%2C%204.13627254509018%2C%204.160320641282565%2C%204.18436873747495%2C%204.208416833667335%2C%204.232464929859719%2C%204.2565130260521045%2C%204.280561122244489%2C%204.304609218436874%2C%204.328657314629258%2C%204.352705410821644%2C%204.376753507014028%2C%204.400801603206413%2C%204.424849699398798%2C%204.448897795591182%2C%204.472945891783567%2C%204.4969939879759515%2C%204.521042084168337%2C%204.545090180360721%2C%204.569138276553106%2C%204.593186372745491%2C%204.617234468937876%2C%204.64128256513026%2C%204.6653306613226455%2C%204.68937875751503%2C%204.713426853707415%2C%204.7374749498997994%2C%204.761523046092185%2C%204.785571142284569%2C%204.809619238476954%2C%204.833667334669339%2C%204.857715430861724%2C%204.881763527054108%2C%204.905811623246493%2C%204.929859719438878%2C%204.953907815631262%2C%204.977955911823647%2C%205.002004008016032%2C%205.026052104208417%2C%205.050100200400801%2C%205.074148296593187%2C%205.098196392785571%2C%205.122244488977956%2C%205.1462925851703405%2C%205.170340681362726%2C%205.19438877755511%2C%205.218436873747495%2C%205.24248496993988%2C%205.266533066132265%2C%205.290581162324649%2C%205.3146292585170345%2C%205.338677354709419%2C%205.362725450901803%2C%205.386773547094188%2C%205.410821643286573%2C%205.434869739478958%2C%205.458917835671342%2C%205.482965931863728%2C%205.507014028056112%2C%205.531062124248497%2C%205.5551102204408815%2C%205.579158316633267%2C%205.603206412825651%2C%205.627254509018036%2C%205.651302605210421%2C%205.675350701402806%2C%205.69939879759519%2C%205.7234468937875755%2C%205.74749498997996%2C%205.771543086172345%2C%205.7955911823647295%2C%205.819639278557114%2C%205.843687374749499%2C%205.867735470941883%2C%205.891783567134269%2C%205.915831663326653%2C%205.939879759519038%2C%205.963927855711423%2C%205.987975951903808%2C%206.012024048096192%2C%206.036072144288577%2C%206.060120240480962%2C%206.084168336673347%2C%206.108216432865731%2C%206.132264529058117%2C%206.156312625250501%2C%206.180360721442886%2C%206.2044088176352705%2C%206.228456913827655%2C%206.25250501002004%2C%206.2765531062124245%2C%206.30060120240481%2C%206.324649298597194%2C%206.348697394789579%2C%206.372745490981964%2C%206.396793587174349%2C%206.420841683366733%2C%206.4448897795591185%2C%206.468937875751503%2C%206.492985971943888%2C%206.517034068136272%2C%206.541082164328658%2C%206.565130260521042%2C%206.589178356713427%2C%206.613226452905812%2C%206.637274549098197%2C%206.661322645290581%2C%206.6853707414829655%2C%206.709418837675351%2C%206.733466933867735%2C%206.75751503006012%2C%206.781563126252505%2C%206.80561122244489%2C%206.829659318637274%2C%206.8537074148296595%2C%206.877755511022044%2C%206.901803607214429%2C%206.925851703406813%2C%206.949899799599199%2C%206.973947895791583%2C%206.997995991983968%2C%207.022044088176353%2C%207.046092184368738%2C%207.070140280561122%2C%207.094188376753507%2C%207.118236472945892%2C%207.142284569138276%2C%207.166332665330661%2C%207.190380761523046%2C%207.214428857715431%2C%207.238476953907815%2C%207.2625250501002006%2C%207.286573146292585%2C%207.31062124248497%2C%207.3346693386773545%2C%207.35871743486974%2C%207.382765531062124%2C%207.406813627254509%2C%207.430861723446894%2C%207.454909819639279%2C%207.478957915831663%2C%207.5030060120240485%2C%207.527054108216433%2C%207.551102204408818%2C%207.575150300601202%2C%207.599198396793587%2C%207.623246492985972%2C%207.647294589178356%2C%207.671342685370742%2C%207.695390781563126%2C%207.719438877755511%2C%207.7434869739478955%2C%207.767535070140281%2C%207.791583166332665%2C%207.81563126252505%2C%207.839679358717435%2C%207.86372745490982%2C%207.887775551102204%2C%207.9118236472945895%2C%207.935871743486974%2C%207.959919839679359%2C%207.9839679358717435%2C%208.008016032064129%2C%208.032064128256513%2C%208.056112224448897%2C%208.080160320641282%2C%208.104208416833668%2C%208.128256513026052%2C%208.152304609218437%2C%208.176352705410821%2C%208.200400801603207%2C%208.224448897795591%2C%208.248496993987976%2C%208.27254509018036%2C%208.296593186372746%2C%208.32064128256513%2C%208.344689378757515%2C%208.3687374749499%2C%208.392785571142285%2C%208.41683366733467%2C%208.440881763527054%2C%208.464929859719438%2C%208.488977955911823%2C%208.513026052104209%2C%208.537074148296593%2C%208.561122244488978%2C%208.585170340681362%2C%208.609218436873748%2C%208.633266533066132%2C%208.657314629258517%2C%208.681362725450901%2C%208.705410821643287%2C%208.729458917835672%2C%208.753507014028056%2C%208.77755511022044%2C%208.801603206412826%2C%208.82565130260521%2C%208.849699398797595%2C%208.87374749498998%2C%208.897795591182364%2C%208.92184368737475%2C%208.945891783567134%2C%208.969939879759519%2C%208.993987975951903%2C%209.01803607214429%2C%209.042084168336673%2C%209.066132264529058%2C%209.090180360721442%2C%209.114228456913828%2C%209.138276553106213%2C%209.162324649298597%2C%209.186372745490981%2C%209.210420841683367%2C%209.234468937875752%2C%209.258517034068136%2C%209.28256513026052%2C%209.306613226452907%2C%209.330661322645291%2C%209.354709418837675%2C%209.37875751503006%2C%209.402805611222444%2C%209.42685370741483%2C%209.450901803607215%2C%209.474949899799599%2C%209.498997995991983%2C%209.52304609218437%2C%209.547094188376754%2C%209.571142284569138%2C%209.595190380761522%2C%209.619238476953909%2C%209.643286573146293%2C%209.667334669338677%2C%209.691382765531062%2C%209.715430861723448%2C%209.739478957915832%2C%209.763527054108216%2C%209.7875751503006%2C%209.811623246492985%2C%209.835671342685371%2C%209.859719438877756%2C%209.88376753507014%2C%209.907815631262524%2C%209.93186372745491%2C%209.955911823647295%2C%209.97995991983968%2C%2010.004008016032063%2C%2010.02805611222445%2C%2010.052104208416834%2C%2010.076152304609218%2C%2010.100200400801603%2C%2010.124248496993989%2C%2010.148296593186373%2C%2010.172344689378757%2C%2010.196392785571142%2C%2010.220440881763528%2C%2010.244488977955912%2C%2010.268537074148297%2C%2010.292585170340681%2C%2010.316633266533065%2C%2010.340681362725451%2C%2010.364729458917836%2C%2010.38877755511022%2C%2010.412825651302605%2C%2010.43687374749499%2C%2010.460921843687375%2C%2010.48496993987976%2C%2010.509018036072144%2C%2010.53306613226453%2C%2010.557114228456914%2C%2010.581162324649299%2C%2010.605210420841683%2C%2010.629258517034069%2C%2010.653306613226453%2C%2010.677354709418838%2C%2010.701402805611222%2C%2010.725450901803606%2C%2010.749498997995993%2C%2010.773547094188377%2C%2010.797595190380761%2C%2010.821643286573146%2C%2010.845691382765532%2C%2010.869739478957916%2C%2010.8937875751503%2C%2010.917835671342685%2C%2010.94188376753507%2C%2010.965931863727455%2C%2010.98997995991984%2C%2011.014028056112224%2C%2011.03807615230461%2C%2011.062124248496994%2C%2011.086172344689379%2C%2011.110220440881763%2C%2011.134268537074147%2C%2011.158316633266534%2C%2011.182364729458918%2C%2011.206412825651302%2C%2011.230460921843687%2C%2011.254509018036073%2C%2011.278557114228457%2C%2011.302605210420841%2C%2011.326653306613226%2C%2011.350701402805612%2C%2011.374749498997996%2C%2011.39879759519038%2C%2011.422845691382765%2C%2011.446893787575151%2C%2011.470941883767535%2C%2011.49498997995992%2C%2011.519038076152304%2C%2011.54308617234469%2C%2011.567134268537075%2C%2011.591182364729459%2C%2011.615230460921843%2C%2011.639278557114228%2C%2011.663326653306614%2C%2011.687374749498998%2C%2011.711422845691382%2C%2011.735470941883767%2C%2011.759519038076153%2C%2011.783567134268537%2C%2011.807615230460922%2C%2011.831663326653306%2C%2011.855711422845692%2C%2011.879759519038076%2C%2011.90380761523046%2C%2011.927855711422845%2C%2011.951903807615231%2C%2011.975951903807616%2C%2012.0%5D%29%0A%20%20%20%20%20%20%20%20%20%20%20%20%20%20.range%28%5B%27%23ffffffff%27%2C%20%27%23fefbfaff%27%2C%20%27%23fcf7f4ff%27%2C%20%27%23fbf3eeff%27%2C%20%27%23f9efe8ff%27%2C%20%27%23f8ebe2ff%27%2C%20%27%23f6e7dcff%27%2C%20%27%23f4e2d6ff%27%2C%20%27%23f3ded0ff%27%2C%20%27%23f1dacaff%27%2C%20%27%23f0d6c4ff%27%2C%20%27%23eed2beff%27%2C%20%27%23edceb8ff%27%2C%20%27%23ebcab2ff%27%2C%20%27%23e9c5acff%27%2C%20%27%23e8c1a6ff%27%2C%20%27%23e6bda0ff%27%2C%20%27%23e5b99aff%27%2C%20%27%23e3b594ff%27%2C%20%27%23e2b18eff%27%2C%20%27%23e0ac88ff%27%2C%20%27%23dea882ff%27%2C%20%27%23dda47cff%27%2C%20%27%23dba076ff%27%2C%20%27%23da9c70ff%27%2C%20%27%23d8986aff%27%2C%20%27%23d69464ff%27%2C%20%27%23d58f5eff%27%2C%20%27%23d38b58ff%27%2C%20%27%23d28752ff%27%2C%20%27%23d0834cff%27%2C%20%27%23cf7f46ff%27%2C%20%27%23cf7f45ff%27%2C%20%27%23cf7f44ff%27%2C%20%27%23d08044ff%27%2C%20%27%23d08044ff%27%2C%20%27%23d18144ff%27%2C%20%27%23d18243ff%27%2C%20%27%23d28243ff%27%2C%20%27%23d38343ff%27%2C%20%27%23d38443ff%27%2C%20%27%23d48442ff%27%2C%20%27%23d48542ff%27%2C%20%27%23d58642ff%27%2C%20%27%23d58641ff%27%2C%20%27%23d68741ff%27%2C%20%27%23d68841ff%27%2C%20%27%23d78841ff%27%2C%20%27%23d88940ff%27%2C%20%27%23d88940ff%27%2C%20%27%23d98a40ff%27%2C%20%27%23d98b40ff%27%2C%20%27%23da8b3fff%27%2C%20%27%23da8c3fff%27%2C%20%27%23db8d3fff%27%2C%20%27%23db8d3fff%27%2C%20%27%23dc8e3eff%27%2C%20%27%23dc8f3eff%27%2C%20%27%23dd8f3eff%27%2C%20%27%23de903eff%27%2C%20%27%23de913dff%27%2C%20%27%23df913dff%27%2C%20%27%23df923dff%27%2C%20%27%23e0933dff%27%2C%20%27%23e0943eff%27%2C%20%27%23e1953fff%27%2C%20%27%23e19640ff%27%2C%20%27%23e29740ff%27%2C%20%27%23e39841ff%27%2C%20%27%23e39a42ff%27%2C%20%27%23e49b43ff%27%2C%20%27%23e49c43ff%27%2C%20%27%23e59d44ff%27%2C%20%27%23e69e45ff%27%2C%20%27%23e69f46ff%27%2C%20%27%23e7a046ff%27%2C%20%27%23e7a147ff%27%2C%20%27%23e8a348ff%27%2C%20%27%23e8a449ff%27%2C%20%27%23e9a54aff%27%2C%20%27%23eaa64aff%27%2C%20%27%23eaa74bff%27%2C%20%27%23eba84cff%27%2C%20%27%23eba94dff%27%2C%20%27%23ecaa4dff%27%2C%20%27%23ecac4eff%27%2C%20%27%23edad4fff%27%2C%20%27%23eeae50ff%27%2C%20%27%23eeaf51ff%27%2C%20%27%23efb051ff%27%2C%20%27%23efb152ff%27%2C%20%27%23f0b253ff%27%2C%20%27%23f1b354ff%27%2C%20%27%23f1b554ff%27%2C%20%27%23f2b655ff%27%2C%20%27%23f2b755ff%27%2C%20%27%23f2b756ff%27%2C%20%27%23f3b856ff%27%2C%20%27%23f3b957ff%27%2C%20%27%23f3ba57ff%27%2C%20%27%23f4bb58ff%27%2C%20%27%23f4bc58ff%27%2C%20%27%23f4bd59ff%27%2C%20%27%23f5be59ff%27%2C%20%27%23f5bf5aff%27%2C%20%27%23f5c05aff%27%2C%20%27%23f6c05aff%27%2C%20%27%23f6c15bff%27%2C%20%27%23f7c25bff%27%2C%20%27%23f7c35cff%27%2C%20%27%23f7c45cff%27%2C%20%27%23f8c55dff%27%2C%20%27%23f8c65dff%27%2C%20%27%23f8c75eff%27%2C%20%27%23f9c85eff%27%2C%20%27%23f9c95eff%27%2C%20%27%23f9c95fff%27%2C%20%27%23faca5fff%27%2C%20%27%23facb60ff%27%2C%20%27%23facc60ff%27%2C%20%27%23fbcd61ff%27%2C%20%27%23fbce61ff%27%2C%20%27%23fccf62ff%27%2C%20%27%23fcd062ff%27%2C%20%27%23fcd163ff%27%2C%20%27%23fcd162ff%27%2C%20%27%23f9d060ff%27%2C%20%27%23f5cf5dff%27%2C%20%27%23f2cf5bff%27%2C%20%27%23efce59ff%27%2C%20%27%23eccd56ff%27%2C%20%27%23e9cc54ff%27%2C%20%27%23e5cb51ff%27%2C%20%27%23e2ca4fff%27%2C%20%27%23dfca4dff%27%2C%20%27%23dcc94aff%27%2C%20%27%23d9c848ff%27%2C%20%27%23d5c745ff%27%2C%20%27%23d2c643ff%27%2C%20%27%23cfc540ff%27%2C%20%27%23ccc53eff%27%2C%20%27%23c9c43cff%27%2C%20%27%23c6c339ff%27%2C%20%27%23c2c237ff%27%2C%20%27%23bfc134ff%27%2C%20%27%23bcc032ff%27%2C%20%27%23b9c030ff%27%2C%20%27%23b6bf2dff%27%2C%20%27%23b2be2bff%27%2C%20%27%23afbd28ff%27%2C%20%27%23acbc26ff%27%2C%20%27%23a9bb24ff%27%2C%20%27%23a6bb21ff%27%2C%20%27%23a2ba1fff%27%2C%20%27%239fb91cff%27%2C%20%27%239cb81aff%27%2C%20%27%2399b718ff%27%2C%20%27%2398b717ff%27%2C%20%27%2397b616ff%27%2C%20%27%2395b615ff%27%2C%20%27%2394b515ff%27%2C%20%27%2393b514ff%27%2C%20%27%2392b413ff%27%2C%20%27%2391b412ff%27%2C%20%27%238fb412ff%27%2C%20%27%238eb311ff%27%2C%20%27%238db310ff%27%2C%20%27%238cb20fff%27%2C%20%27%238bb20fff%27%2C%20%27%238ab10eff%27%2C%20%27%2388b10dff%27%2C%20%27%2387b00cff%27%2C%20%27%2386b00cff%27%2C%20%27%2385b00bff%27%2C%20%27%2384af0aff%27%2C%20%27%2382af09ff%27%2C%20%27%2381ae09ff%27%2C%20%27%2380ae08ff%27%2C%20%27%237fad07ff%27%2C%20%27%237ead07ff%27%2C%20%27%237cac06ff%27%2C%20%27%237bac05ff%27%2C%20%27%237aab04ff%27%2C%20%27%2379ab04ff%27%2C%20%27%2378ab03ff%27%2C%20%27%2376aa02ff%27%2C%20%27%2375aa01ff%27%2C%20%27%2374a901ff%27%2C%20%27%2374a900ff%27%2C%20%27%2373a900ff%27%2C%20%27%2373a800ff%27%2C%20%27%2372a800ff%27%2C%20%27%2372a800ff%27%2C%20%27%2371a700ff%27%2C%20%27%2371a700ff%27%2C%20%27%2370a700ff%27%2C%20%27%2370a700ff%27%2C%20%27%2370a600ff%27%2C%20%27%236fa600ff%27%2C%20%27%236fa600ff%27%2C%20%27%236ea500ff%27%2C%20%27%236ea500ff%27%2C%20%27%236da500ff%27%2C%20%27%236da500ff%27%2C%20%27%236ca400ff%27%2C%20%27%236ca400ff%27%2C%20%27%236ba400ff%27%2C%20%27%236ba300ff%27%2C%20%27%236ba300ff%27%2C%20%27%236aa300ff%27%2C%20%27%236aa300ff%27%2C%20%27%2369a200ff%27%2C%20%27%2369a200ff%27%2C%20%27%2368a200ff%27%2C%20%27%2368a100ff%27%2C%20%27%2367a100ff%27%2C%20%27%2367a100ff%27%2C%20%27%2366a100ff%27%2C%20%27%2366a000ff%27%2C%20%27%2365a000ff%27%2C%20%27%23659f00ff%27%2C%20%27%23649f00ff%27%2C%20%27%23649f00ff%27%2C%20%27%23639e00ff%27%2C%20%27%23629e00ff%27%2C%20%27%23629e00ff%27%2C%20%27%23619d00ff%27%2C%20%27%23609d00ff%27%2C%20%27%23609c00ff%27%2C%20%27%235f9c00ff%27%2C%20%27%235e9c00ff%27%2C%20%27%235e9b00ff%27%2C%20%27%235d9b00ff%27%2C%20%27%235c9a00ff%27%2C%20%27%235c9a00ff%27%2C%20%27%235b9a00ff%27%2C%20%27%235b9900ff%27%2C%20%27%235a9900ff%27%2C%20%27%23599900ff%27%2C%20%27%23599800ff%27%2C%20%27%23589800ff%27%2C%20%27%23579700ff%27%2C%20%27%23579700ff%27%2C%20%27%23569700ff%27%2C%20%27%23559600ff%27%2C%20%27%23559600ff%27%2C%20%27%23549500ff%27%2C%20%27%23539500ff%27%2C%20%27%23539500ff%27%2C%20%27%23529400ff%27%2C%20%27%23519400ff%27%2C%20%27%23519300ff%27%2C%20%27%23509300ff%27%2C%20%27%23509300ff%27%2C%20%27%234f9200ff%27%2C%20%27%234e9200ff%27%2C%20%27%234e9100ff%27%2C%20%27%234d9100ff%27%2C%20%27%234c9000ff%27%2C%20%27%234c9000ff%27%2C%20%27%234b8f00ff%27%2C%20%27%234a8f00ff%27%2C%20%27%234a8e00ff%27%2C%20%27%23498e00ff%27%2C%20%27%23488e00ff%27%2C%20%27%23488d00ff%27%2C%20%27%23478d00ff%27%2C%20%27%23478c00ff%27%2C%20%27%23468c00ff%27%2C%20%27%23458b00ff%27%2C%20%27%23458b00ff%27%2C%20%27%23448a00ff%27%2C%20%27%23438a00ff%27%2C%20%27%23438900ff%27%2C%20%27%23428900ff%27%2C%20%27%23418900ff%27%2C%20%27%23418800ff%27%2C%20%27%23408800ff%27%2C%20%27%233f8700ff%27%2C%20%27%233f8700ff%27%2C%20%27%233e8600ff%27%2C%20%27%233d8601ff%27%2C%20%27%233c8501ff%27%2C%20%27%233c8501ff%27%2C%20%27%233b8401ff%27%2C%20%27%233a8401ff%27%2C%20%27%23398301ff%27%2C%20%27%23388201ff%27%2C%20%27%23378201ff%27%2C%20%27%23368101ff%27%2C%20%27%23358101ff%27%2C%20%27%23348001ff%27%2C%20%27%23337f01ff%27%2C%20%27%23327f01ff%27%2C%20%27%23317e01ff%27%2C%20%27%23307e01ff%27%2C%20%27%232f7d01ff%27%2C%20%27%232e7d01ff%27%2C%20%27%232d7c01ff%27%2C%20%27%232c7b01ff%27%2C%20%27%232b7b01ff%27%2C%20%27%232a7a01ff%27%2C%20%27%23297a01ff%27%2C%20%27%23287901ff%27%2C%20%27%23277901ff%27%2C%20%27%23267801ff%27%2C%20%27%23257701ff%27%2C%20%27%23247701ff%27%2C%20%27%23237601ff%27%2C%20%27%23227601ff%27%2C%20%27%23217501ff%27%2C%20%27%23207401ff%27%2C%20%27%23207401ff%27%2C%20%27%231f7301ff%27%2C%20%27%231e7301ff%27%2C%20%27%231d7201ff%27%2C%20%27%231c7201ff%27%2C%20%27%231b7101ff%27%2C%20%27%231a7001ff%27%2C%20%27%23197001ff%27%2C%20%27%23196f01ff%27%2C%20%27%23186f01ff%27%2C%20%27%23176e01ff%27%2C%20%27%23166e01ff%27%2C%20%27%23156d01ff%27%2C%20%27%23146c01ff%27%2C%20%27%23136c01ff%27%2C%20%27%23126b01ff%27%2C%20%27%23126b01ff%27%2C%20%27%23116a01ff%27%2C%20%27%23106901ff%27%2C%20%27%230f6901ff%27%2C%20%27%230e6801ff%27%2C%20%27%230d6801ff%27%2C%20%27%230c6701ff%27%2C%20%27%230c6701ff%27%2C%20%27%230b6601ff%27%2C%20%27%230a6501ff%27%2C%20%27%23096501ff%27%2C%20%27%23086401ff%27%2C%20%27%23076401ff%27%2C%20%27%23066301ff%27%2C%20%27%23056201ff%27%2C%20%27%23056201ff%27%2C%20%27%23046100ff%27%2C%20%27%23046100ff%27%2C%20%27%23046000ff%27%2C%20%27%23045f00ff%27%2C%20%27%23045e00ff%27%2C%20%27%23045e00ff%27%2C%20%27%23035d00ff%27%2C%20%27%23035c00ff%27%2C%20%27%23035c00ff%27%2C%20%27%23035b00ff%27%2C%20%27%23035a00ff%27%2C%20%27%23035900ff%27%2C%20%27%23025900ff%27%2C%20%27%23025800ff%27%2C%20%27%23025700ff%27%2C%20%27%23025700ff%27%2C%20%27%23025600ff%27%2C%20%27%23025500ff%27%2C%20%27%23015400ff%27%2C%20%27%23015400ff%27%2C%20%27%23015300ff%27%2C%20%27%23015200ff%27%2C%20%27%23015200ff%27%2C%20%27%23015100ff%27%2C%20%27%23015000ff%27%2C%20%27%23005000ff%27%2C%20%27%23004f00ff%27%2C%20%27%23004e00ff%27%2C%20%27%23004d00ff%27%2C%20%27%23004d00ff%27%2C%20%27%23004c00ff%27%2C%20%27%23004b00ff%27%2C%20%27%23004b00ff%27%2C%20%27%23004a00ff%27%2C%20%27%23004a00ff%27%2C%20%27%23004900ff%27%2C%20%27%23004900ff%27%2C%20%27%23004800ff%27%2C%20%27%23004800ff%27%2C%20%27%23004700ff%27%2C%20%27%23004600ff%27%2C%20%27%23004600ff%27%2C%20%27%23004500ff%27%2C%20%27%23004500ff%27%2C%20%27%23004400ff%27%2C%20%27%23004400ff%27%2C%20%27%23014300ff%27%2C%20%27%23014300ff%27%2C%20%27%23014200ff%27%2C%20%27%23014200ff%27%2C%20%27%23014100ff%27%2C%20%27%23014000ff%27%2C%20%27%23014000ff%27%2C%20%27%23013f00ff%27%2C%20%27%23013f00ff%27%2C%20%27%23013e00ff%27%2C%20%27%23013e00ff%27%2C%20%27%23013d00ff%27%2C%20%27%23013d00ff%27%2C%20%27%23013c00ff%27%2C%20%27%23013c00ff%27%2C%20%27%23013b00ff%27%2C%20%27%23013a01ff%27%2C%20%27%23013a01ff%27%2C%20%27%23013a01ff%27%2C%20%27%23013901ff%27%2C%20%27%23013901ff%27%2C%20%27%23013801ff%27%2C%20%27%23013801ff%27%2C%20%27%23013801ff%27%2C%20%27%23013701ff%27%2C%20%27%23013701ff%27%2C%20%27%23013601ff%27%2C%20%27%23013601ff%27%2C%20%27%23013501ff%27%2C%20%27%23013501ff%27%2C%20%27%23013501ff%27%2C%20%27%23013401ff%27%2C%20%27%23013401ff%27%2C%20%27%23013301ff%27%2C%20%27%23013301ff%27%2C%20%27%23013301ff%27%2C%20%27%23013201ff%27%2C%20%27%23013201ff%27%2C%20%27%23013101ff%27%2C%20%27%23013101ff%27%2C%20%27%23013001ff%27%2C%20%27%23013001ff%27%2C%20%27%23013001ff%27%2C%20%27%23012f01ff%27%2C%20%27%23012f01ff%27%2C%20%27%23012e01ff%27%2C%20%27%23012e01ff%27%2C%20%27%23012d01ff%27%2C%20%27%23012d01ff%27%2C%20%27%23012c01ff%27%2C%20%27%23012c01ff%27%2C%20%27%23012b01ff%27%2C%20%27%23012b01ff%27%2C%20%27%23012a01ff%27%2C%20%27%23012a01ff%27%2C%20%27%23012901ff%27%2C%20%27%23012901ff%27%2C%20%27%23012801ff%27%2C%20%27%23012701ff%27%2C%20%27%23012701ff%27%2C%20%27%23012601ff%27%2C%20%27%23012601ff%27%2C%20%27%23012501ff%27%2C%20%27%23012501ff%27%2C%20%27%23012401ff%27%2C%20%27%23012401ff%27%2C%20%27%23012301ff%27%2C%20%27%23012301ff%27%2C%20%27%23012201ff%27%2C%20%27%23012101ff%27%2C%20%27%23012101ff%27%2C%20%27%23012001ff%27%2C%20%27%23012001ff%27%2C%20%27%23011f01ff%27%2C%20%27%23011f01ff%27%2C%20%27%23011e01ff%27%2C%20%27%23011e01ff%27%2C%20%27%23011d01ff%27%2C%20%27%23011d01ff%27%2C%20%27%23011c01ff%27%2C%20%27%23011c01ff%27%2C%20%27%23011c01ff%27%2C%20%27%23011b01ff%27%2C%20%27%23011b01ff%27%2C%20%27%23011b01ff%27%2C%20%27%23011a01ff%27%2C%20%27%23011a01ff%27%2C%20%27%23011a01ff%27%2C%20%27%23011901ff%27%2C%20%27%23011901ff%27%2C%20%27%23011901ff%27%2C%20%27%23011801ff%27%2C%20%27%23011801ff%27%2C%20%27%23011801ff%27%2C%20%27%23011701ff%27%2C%20%27%23011701ff%27%2C%20%27%23011701ff%27%2C%20%27%23011601ff%27%2C%20%27%23011601ff%27%2C%20%27%23011601ff%27%2C%20%27%23011501ff%27%2C%20%27%23011501ff%27%2C%20%27%23011501ff%27%2C%20%27%23011501ff%27%2C%20%27%23011401ff%27%2C%20%27%23011401ff%27%2C%20%27%23011401ff%27%2C%20%27%23011301ff%27%2C%20%27%23011301ff%27%2C%20%27%23011301ff%27%5D%29%3B%0A%20%20%20%20%0A%0A%20%20%20%20color_map_a1e4c6ba25f64628bf5fddbaad3d6042.x%20%3D%20d3.scale.linear%28%29%0A%20%20%20%20%20%20%20%20%20%20%20%20%20%20.domain%28%5B0.0%2C%2012.0%5D%29%0A%20%20%20%20%20%20%20%20%20%20%20%20%20%20.range%28%5B0%2C%20400%5D%29%3B%0A%0A%20%20%20%20color_map_a1e4c6ba25f64628bf5fddbaad3d6042.legend%20%3D%20L.control%28%7Bposition%3A%20%27topright%27%7D%29%3B%0A%20%20%20%20color_map_a1e4c6ba25f64628bf5fddbaad3d6042.legend.onAdd%20%3D%20function%20%28map%29%20%7Bvar%20div%20%3D%20L.DomUtil.create%28%27div%27%2C%20%27legend%27%29%3B%20return%20div%7D%3B%0A%20%20%20%20color_map_a1e4c6ba25f64628bf5fddbaad3d6042.legend.addTo%28map_01cc932ab7754f7297832196026deb12%29%3B%0A%0A%20%20%20%20color_map_a1e4c6ba25f64628bf5fddbaad3d6042.xAxis%20%3D%20d3.svg.axis%28%29%0A%20%20%20%20%20%20%20%20.scale%28color_map_a1e4c6ba25f64628bf5fddbaad3d6042.x%29%0A%20%20%20%20%20%20%20%20.orient%28%22top%22%29%0A%20%20%20%20%20%20%20%20.tickSize%281%29%0A%20%20%20%20%20%20%20%20.tickValues%28%5B0.0%2C%20%27%27%2C%201.5%2C%20%27%27%2C%203.0%2C%20%27%27%2C%204.5%2C%20%27%27%2C%206.0%2C%20%27%27%2C%207.5%2C%20%27%27%2C%209.0%2C%20%27%27%2C%2010.5%2C%20%27%27%2C%2012.0%2C%20%27%27%5D%29%3B%0A%0A%20%20%20%20color_map_a1e4c6ba25f64628bf5fddbaad3d6042.svg%20%3D%20d3.select%28%22.legend.leaflet-control%22%29.append%28%22svg%22%29%0A%20%20%20%20%20%20%20%20.attr%28%22id%22%2C%20%27legend%27%29%0A%20%20%20%20%20%20%20%20.attr%28%22width%22%2C%20450%29%0A%20%20%20%20%20%20%20%20.attr%28%22height%22%2C%2040%29%3B%0A%0A%20%20%20%20color_map_a1e4c6ba25f64628bf5fddbaad3d6042.g%20%3D%20color_map_a1e4c6ba25f64628bf5fddbaad3d6042.svg.append%28%22g%22%29%0A%20%20%20%20%20%20%20%20.attr%28%22class%22%2C%20%22key%22%29%0A%20%20%20%20%20%20%20%20.attr%28%22transform%22%2C%20%22translate%2825%2C16%29%22%29%3B%0A%0A%20%20%20%20color_map_a1e4c6ba25f64628bf5fddbaad3d6042.g.selectAll%28%22rect%22%29%0A%20%20%20%20%20%20%20%20.data%28color_map_a1e4c6ba25f64628bf5fddbaad3d6042.color.range%28%29.map%28function%28d%2C%20i%29%20%7B%0A%20%20%20%20%20%20%20%20%20%20return%20%7B%0A%20%20%20%20%20%20%20%20%20%20%20%20x0%3A%20i%20%3F%20color_map_a1e4c6ba25f64628bf5fddbaad3d6042.x%28color_map_a1e4c6ba25f64628bf5fddbaad3d6042.color.domain%28%29%5Bi%20-%201%5D%29%20%3A%20color_map_a1e4c6ba25f64628bf5fddbaad3d6042.x.range%28%29%5B0%5D%2C%0A%20%20%20%20%20%20%20%20%20%20%20%20x1%3A%20i%20%3C%20color_map_a1e4c6ba25f64628bf5fddbaad3d6042.color.domain%28%29.length%20%3F%20color_map_a1e4c6ba25f64628bf5fddbaad3d6042.x%28color_map_a1e4c6ba25f64628bf5fddbaad3d6042.color.domain%28%29%5Bi%5D%29%20%3A%20color_map_a1e4c6ba25f64628bf5fddbaad3d6042.x.range%28%29%5B1%5D%2C%0A%20%20%20%20%20%20%20%20%20%20%20%20z%3A%20d%0A%20%20%20%20%20%20%20%20%20%20%7D%3B%0A%20%20%20%20%20%20%20%20%7D%29%29%0A%20%20%20%20%20%20.enter%28%29.append%28%22rect%22%29%0A%20%20%20%20%20%20%20%20.attr%28%22height%22%2C%2010%29%0A%20%20%20%20%20%20%20%20.attr%28%22x%22%2C%20function%28d%29%20%7B%20return%20d.x0%3B%20%7D%29%0A%20%20%20%20%20%20%20%20.attr%28%22width%22%2C%20function%28d%29%20%7B%20return%20d.x1%20-%20d.x0%3B%20%7D%29%0A%20%20%20%20%20%20%20%20.style%28%22fill%22%2C%20function%28d%29%20%7B%20return%20d.z%3B%20%7D%29%3B%0A%0A%20%20%20%20color_map_a1e4c6ba25f64628bf5fddbaad3d6042.g.call%28color_map_a1e4c6ba25f64628bf5fddbaad3d6042.xAxis%29.append%28%22text%22%29%0A%20%20%20%20%20%20%20%20.attr%28%22class%22%2C%20%22caption%22%29%0A%20%20%20%20%20%20%20%20.attr%28%22y%22%2C%2021%29%0A%20%20%20%20%20%20%20%20.text%28%27MODIS%20LAI%20%28m2/m2%29%27%29%3B%0A%20%20%20%20%0A%20%20%20%20%20%20%20%20%20%20%20%20var%20layer_control_3b8548e2b63047ed94409a8a264c40e7%20%3D%20%7B%0A%20%20%20%20%20%20%20%20%20%20%20%20%20%20%20%20base_layers%20%3A%20%7B%0A%20%20%20%20%20%20%20%20%20%20%20%20%20%20%20%20%20%20%20%20%22openstreetmap%22%20%3A%20tile_layer_4db08953067d4cfd9fe32a3f0391018a%2C%0A%20%20%20%20%20%20%20%20%20%20%20%20%20%20%20%20%7D%2C%0A%20%20%20%20%20%20%20%20%20%20%20%20%20%20%20%20overlays%20%3A%20%20%7B%0A%20%20%20%20%20%20%20%20%20%20%20%20%20%20%20%20%20%20%20%20%22Google%20Maps%22%20%3A%20tile_layer_2b835a555961431aa297c7972f048c75%2C%0A%20%20%20%20%20%20%20%20%20%20%20%20%20%20%20%20%20%20%20%20%22Lai%22%20%3A%20tile_layer_d8233219807646229c0f1b941e0952b8%2C%0A%20%20%20%20%20%20%20%20%20%20%20%20%20%20%20%20%20%20%20%20%22Geometry%20%5Bblack%5D%3A%20point%22%20%3A%20tile_layer_b7e0eab0152e4ea6828843d3d0638057%2C%0A%20%20%20%20%20%20%20%20%20%20%20%20%20%20%20%20%7D%2C%0A%20%20%20%20%20%20%20%20%20%20%20%20%7D%3B%0A%20%20%20%20%20%20%20%20%20%20%20%20L.control.layers%28%0A%20%20%20%20%20%20%20%20%20%20%20%20%20%20%20%20layer_control_3b8548e2b63047ed94409a8a264c40e7.base_layers%2C%0A%20%20%20%20%20%20%20%20%20%20%20%20%20%20%20%20layer_control_3b8548e2b63047ed94409a8a264c40e7.overlays%2C%0A%20%20%20%20%20%20%20%20%20%20%20%20%20%20%20%20%7B%22autoZIndex%22%3A%20true%2C%20%22collapsed%22%3A%20true%2C%20%22position%22%3A%20%22topright%22%7D%0A%20%20%20%20%20%20%20%20%20%20%20%20%29.addTo%28map_01cc932ab7754f7297832196026deb12%29%3B%0A%20%20%20%20%20%20%20%20%0A%3C/script%3E onload=\"this.contentDocument.open();this.contentDocument.write(    decodeURIComponent(this.getAttribute('data-html')));this.contentDocument.close();\" allowfullscreen webkitallowfullscreen mozallowfullscreen></iframe></div></div>"
      ],
      "text/plain": [
       "<geemap.foliumap.Map at 0x7fdee71070a0>"
      ]
     },
     "execution_count": 98,
     "metadata": {},
     "output_type": "execute_result"
    }
   ],
   "source": [
    "lai_map"
   ]
  },
  {
   "cell_type": "markdown",
   "id": "a73d5282-1beb-41f1-8ec9-2e3205293980",
   "metadata": {},
   "source": [
    "<br>\n",
    "\n",
    "#### Lets setup a function to extract a timeseries dataset from a specific lat/long location"
   ]
  },
  {
   "cell_type": "code",
   "execution_count": 100,
   "id": "bb5e1b02-c1cc-4799-831c-9ff9b6e37aaf",
   "metadata": {},
   "outputs": [],
   "source": [
    "def extract_time_series(lat, lon, start, end, product_name, band_name, sf):\n",
    "\n",
    "    # Set up point geometry\n",
    "    point = ee.Geometry.Point(lon, lat)\n",
    "\n",
    "    # Obtain image collection for all images within query dates\n",
    "    coll = ee.ImageCollection(product_name)\\\n",
    "        .filterDate(start, end)\n",
    "\n",
    "    # Get list of images which correspond with the above\n",
    "    images = [item.get('id') for item in coll.getInfo().get('features')]\n",
    "\n",
    "    store = []\n",
    "    date_store = []\n",
    "\n",
    "    # Loop over all images and extract pixel value\n",
    "    for image in images:\n",
    "\n",
    "        im = ee.Image(image)\n",
    "\n",
    "        # Obtain date from timestamp in metadata\n",
    "        date = dt.fromtimestamp(im.get(\"system:time_start\").getInfo() / 1000.)\n",
    "        date_store.append(np.datetime64(date))\n",
    "\n",
    "        # Extract pixel value\n",
    "        data = im.select(band_name)\\\n",
    "        .reduceRegion(ee.Reducer.first(),\n",
    "                      point,\n",
    "                      1,\n",
    "                      crs=projection)\\\n",
    "        .get(band_name)\n",
    "        \n",
    "        store.append(data.getInfo())\n",
    "\n",
    "    # Scale the returned data based on scale factor\n",
    "    store = [x * sf if isinstance(x, int) else np.nan for x in store]\n",
    "\n",
    "    # Convert output into pandas data frame\n",
    "    df = pd.DataFrame(index=date_store, data=store, columns=[band_name])\n",
    "\n",
    "    return df"
   ]
  },
  {
   "cell_type": "markdown",
   "id": "5cf174a6-9e63-4fd0-87a1-f48c33e80dc5",
   "metadata": {},
   "source": [
    "<br>\n",
    "\n",
    "#### Lets extract a timeseries of LAI data for the study site"
   ]
  },
  {
   "cell_type": "code",
   "execution_count": 108,
   "id": "a25f2265-900f-4b14-93d1-cc82201e24b8",
   "metadata": {},
   "outputs": [],
   "source": [
    "# Run the extract function\n",
    "latitude = lat\n",
    "longitude = lon\n",
    "start_date = '2010-01-01'\n",
    "end_date = '2014-12-31'\n",
    "product = 'MODIS/061/MOD15A2H' \n",
    "band = 'Lai_500m'\n",
    "scale_factor = 0.1\n",
    "#LAI scale factor: 0.1\n",
    "#FPAR scale factor: 0.01\n",
    "#https://developers.google.com/earth-engine/datasets/catalog/MODIS_061_MOD15A2H\n",
    "\n",
    "# Extract data and obtain pd.DataFrame\n",
    "output = extract_time_series(latitude,longitude,start_date,end_date,product,band,scale_factor)"
   ]
  },
  {
   "cell_type": "code",
   "execution_count": 109,
   "id": "b31a6ec5-3ee5-4786-bf34-fcf2bfbe855f",
   "metadata": {},
   "outputs": [
    {
     "data": {
      "text/html": [
       "<div>\n",
       "<style scoped>\n",
       "    .dataframe tbody tr th:only-of-type {\n",
       "        vertical-align: middle;\n",
       "    }\n",
       "\n",
       "    .dataframe tbody tr th {\n",
       "        vertical-align: top;\n",
       "    }\n",
       "\n",
       "    .dataframe thead th {\n",
       "        text-align: right;\n",
       "    }\n",
       "</style>\n",
       "<table border=\"1\" class=\"dataframe\">\n",
       "  <thead>\n",
       "    <tr style=\"text-align: right;\">\n",
       "      <th></th>\n",
       "      <th>Lai_500m</th>\n",
       "    </tr>\n",
       "  </thead>\n",
       "  <tbody>\n",
       "    <tr>\n",
       "      <th>2010-01-01</th>\n",
       "      <td>25.5</td>\n",
       "    </tr>\n",
       "    <tr>\n",
       "      <th>2010-01-09</th>\n",
       "      <td>0.4</td>\n",
       "    </tr>\n",
       "    <tr>\n",
       "      <th>2010-01-17</th>\n",
       "      <td>0.6</td>\n",
       "    </tr>\n",
       "    <tr>\n",
       "      <th>2010-01-25</th>\n",
       "      <td>0.0</td>\n",
       "    </tr>\n",
       "    <tr>\n",
       "      <th>2010-02-02</th>\n",
       "      <td>0.0</td>\n",
       "    </tr>\n",
       "    <tr>\n",
       "      <th>...</th>\n",
       "      <td>...</td>\n",
       "    </tr>\n",
       "    <tr>\n",
       "      <th>2014-11-25</th>\n",
       "      <td>0.3</td>\n",
       "    </tr>\n",
       "    <tr>\n",
       "      <th>2014-12-03</th>\n",
       "      <td>25.5</td>\n",
       "    </tr>\n",
       "    <tr>\n",
       "      <th>2014-12-11</th>\n",
       "      <td>25.5</td>\n",
       "    </tr>\n",
       "    <tr>\n",
       "      <th>2014-12-19</th>\n",
       "      <td>25.5</td>\n",
       "    </tr>\n",
       "    <tr>\n",
       "      <th>2014-12-27</th>\n",
       "      <td>25.5</td>\n",
       "    </tr>\n",
       "  </tbody>\n",
       "</table>\n",
       "<p>230 rows × 1 columns</p>\n",
       "</div>"
      ],
      "text/plain": [
       "            Lai_500m\n",
       "2010-01-01      25.5\n",
       "2010-01-09       0.4\n",
       "2010-01-17       0.6\n",
       "2010-01-25       0.0\n",
       "2010-02-02       0.0\n",
       "...              ...\n",
       "2014-11-25       0.3\n",
       "2014-12-03      25.5\n",
       "2014-12-11      25.5\n",
       "2014-12-19      25.5\n",
       "2014-12-27      25.5\n",
       "\n",
       "[230 rows x 1 columns]"
      ]
     },
     "execution_count": 109,
     "metadata": {},
     "output_type": "execute_result"
    }
   ],
   "source": [
    "output"
   ]
  },
  {
   "cell_type": "code",
   "execution_count": 112,
   "id": "5e7953b0-3268-4192-8022-7e202cdfc681",
   "metadata": {},
   "outputs": [
    {
     "data": {
      "text/plain": [
       "Text(0, 0.5, 'LAI (m2/m2)')"
      ]
     },
     "execution_count": 112,
     "metadata": {},
     "output_type": "execute_result"
    },
    {
     "data": {
      "image/png": "[encoded data removed]",
      "text/plain": [
       "<Figure size 1152x576 with 1 Axes>"
      ]
     },
     "metadata": {
      "needs_background": "light"
     },
     "output_type": "display_data"
    }
   ],
   "source": [
    "#### Plot the spectra\n",
    "fig = pl.figure(figsize=(16, 8))\n",
    "ax = fig.add_subplot(1, 1, 1)\n",
    "output.where(output<12).plot(ax=ax, kind='line')\n",
    "ax.get_legend().remove()\n",
    "ax.set_title('MODIS LAI', size=20)\n",
    "ax.set_xlabel('Date', size=20)\n",
    "ax.set_ylabel('LAI (m2/m2)', size=20)\n"
   ]
  },
  {
   "cell_type": "code",
   "execution_count": null,
   "id": "530e9298-097b-45fc-970f-08432d225877",
   "metadata": {},
   "outputs": [],
   "source": []
  }
 ],
 "metadata": {
  "kernelspec": {
   "display_name": "Python 3 (ipykernel)",
   "language": "python",
   "name": "python3"
  },
  "language_info": {
   "codemirror_mode": {
    "name": "ipython",
    "version": 3
   },
   "file_extension": ".py",
   "mimetype": "text/x-python",
   "name": "python",
   "nbconvert_exporter": "python",
   "pygments_lexer": "ipython3",
   "version": "3.9.10"
  }
 },
 "nbformat": 4,
 "nbformat_minor": 5
}
