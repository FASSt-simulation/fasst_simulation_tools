{
 "cells": [
  {
   "cell_type": "code",
   "execution_count": 4,
   "id": "ed91e782-ed33-415b-8372-067e41dced89",
   "metadata": {},
   "outputs": [],
   "source": [
    "# Load the required Python libraries\n",
    "\n",
    "import matplotlib.pyplot as plt\n",
    "import pandas as pd\n",
    "import os\n",
    "import glob, numpy, csv"
   ]
  },
  {
   "cell_type": "code",
   "execution_count": 21,
   "id": "85769ab7-7914-4878-9f83-100e300d9500",
   "metadata": {},
   "outputs": [],
   "source": [
    "# URL for getting some NGEE arctic data\n",
    "\n",
    "# src urlhttps://ngee.ornl.gov/ngeedata/lma_leaf_carbon_nitrogen/data/\n",
    "#https://ngee.ornl.gov/ngeedata/lma_leaf_carbon_nitrogen/data/NGEEArctic_BNL_leaf_C_N_LMA_2012-2016.csv"
   ]
  },
  {
   "cell_type": "code",
   "execution_count": 17,
   "id": "44ad6ae3-8270-4b15-bb0c-104e56847fa0",
   "metadata": {},
   "outputs": [],
   "source": [
    "#param_data = pd.read_csv('https://ngee.ornl.gov/ngeedata/lma_leaf_carbon_nitrogen/data/NGEEArctic_BNL_leaf_C_N_LMA_2012-2016.csv', \\\n",
    "#                        , skiprows=2)\n",
    "\n",
    "data_header = pd.read_csv('https://ngee.ornl.gov/ngeedata/lma_leaf_carbon_nitrogen/data/NGEEArctic_BNL_leaf_C_N_LMA_2012-2016.csv',\\\n",
    "                          skiprows=8, nrows=0)\n",
    "param_data = pd.read_csv('https://ngee.ornl.gov/ngeedata/lma_leaf_carbon_nitrogen/data/NGEEArctic_BNL_leaf_C_N_LMA_2012-2016.csv',\\\n",
    "                          skiprows=10)"
   ]
  },
  {
   "cell_type": "code",
   "execution_count": 14,
   "id": "c5b2dc51-683f-4927-bc11-d49d8c79fa0b",
   "metadata": {},
   "outputs": [
    {
     "name": "stdout",
     "output_type": "stream",
     "text": [
      "Empty DataFrame\n",
      "Columns: [Sample_ID, Date, USDA_Species_Code, C_mass, N_mass, LMA, C_area, N_area, CN_ratio, Area, Polygon, Zone, Replicate_flag, Sample_pair]\n",
      "Index: []\n"
     ]
    }
   ],
   "source": [
    "print(data_header)"
   ]
  },
  {
   "cell_type": "code",
   "execution_count": 18,
   "id": "326f1320-9fa4-4ca0-9e2b-04112331ae56",
   "metadata": {},
   "outputs": [
    {
     "name": "stdout",
     "output_type": "stream",
     "text": [
      "        BNL10  20120619   CAAQ  447.4  24.2   56.53  25.29  1.37  18.49  \\\n",
      "0       BNL11  20120619   CAAQ  457.4  25.9   58.78  26.89  1.52  17.66   \n",
      "1       BNL12  20120619   CAAQ  447.0  27.1   87.04  38.91  2.36  16.49   \n",
      "2       BNL13  20120619   CAAQ  456.2  23.0   68.43  31.22  1.57  19.83   \n",
      "3       BNL14  20120619   CAAQ  460.6  26.7  114.05  52.53  3.05  17.25   \n",
      "4       BNL15  20120619   CAAQ  451.7  29.7   62.17  28.08  1.85  15.21   \n",
      "...       ...       ...    ...    ...   ...     ...    ...   ...    ...   \n",
      "1630  BNL2189  20160720  ARFU2  436.0  14.8   83.06  36.21  1.23  29.46   \n",
      "1631  BNL2190  20160720  ARLA2  450.6  20.9   63.09  28.43  1.32  21.56   \n",
      "1632  BNL2191  20160720  ARLA2  428.4  16.8   53.39  22.87  0.90  25.50   \n",
      "1633  BNL2192  20160720  ARFU2  446.6   9.6   82.47  36.83  0.79  46.52   \n",
      "1634  BNL2193  20160720  PEFR5  432.0  22.6  103.71  44.80  2.34  19.12   \n",
      "\n",
      "     Unnamed: 9  Unnamed: 10 Unnamed: 11  Unnamed: 12 Unnamed: 13  \n",
      "0           NaN          NaN         NaN          NaN         NaN  \n",
      "1           NaN          NaN         NaN          NaN         NaN  \n",
      "2           NaN          NaN         NaN          NaN         NaN  \n",
      "3           NaN          NaN         NaN          NaN         NaN  \n",
      "4           NaN          NaN         NaN          NaN         NaN  \n",
      "...         ...          ...         ...          ...         ...  \n",
      "1630        NaN          NaN         NaN          2.0     BNL2182  \n",
      "1631        NaN          NaN         NaN          2.0     BNL2177  \n",
      "1632        NaN          NaN         NaN          2.0     BNL2176  \n",
      "1633        NaN          NaN         NaN          2.0     BNL2184  \n",
      "1634        NaN          NaN         NaN          NaN         NaN  \n",
      "\n",
      "[1635 rows x 14 columns]\n"
     ]
    }
   ],
   "source": [
    "print(param_data)"
   ]
  },
  {
   "cell_type": "code",
   "execution_count": 23,
   "id": "24a33883-388e-469e-9603-ffb46fb7f5e2",
   "metadata": {},
   "outputs": [
    {
     "ename": "ValueError",
     "evalue": "Cannot index with multidimensional key",
     "output_type": "error",
     "traceback": [
      "\u001b[0;31m---------------------------------------------------------------------------\u001b[0m",
      "\u001b[0;31mValueError\u001b[0m                                Traceback (most recent call last)",
      "Input \u001b[0;32mIn [23]\u001b[0m, in \u001b[0;36m<cell line: 1>\u001b[0;34m()\u001b[0m\n\u001b[0;32m----> 1\u001b[0m param_data2 \u001b[38;5;241m=\u001b[39m \u001b[43mparam_data\u001b[49m\u001b[38;5;241;43m.\u001b[39;49m\u001b[43mloc\u001b[49m\u001b[43m[\u001b[49m\u001b[43m:\u001b[49m\u001b[43m,\u001b[49m\u001b[43mdata_header\u001b[49m\u001b[43m]\u001b[49m\n",
      "File \u001b[0;32m/opt/conda/lib/python3.9/site-packages/pandas/core/indexing.py:1068\u001b[0m, in \u001b[0;36m_LocationIndexer.__getitem__\u001b[0;34m(self, key)\u001b[0m\n\u001b[1;32m   1066\u001b[0m     \u001b[38;5;28;01mif\u001b[39;00m \u001b[38;5;28mself\u001b[39m\u001b[38;5;241m.\u001b[39m_is_scalar_access(key):\n\u001b[1;32m   1067\u001b[0m         \u001b[38;5;28;01mreturn\u001b[39;00m \u001b[38;5;28mself\u001b[39m\u001b[38;5;241m.\u001b[39mobj\u001b[38;5;241m.\u001b[39m_get_value(\u001b[38;5;241m*\u001b[39mkey, takeable\u001b[38;5;241m=\u001b[39m\u001b[38;5;28mself\u001b[39m\u001b[38;5;241m.\u001b[39m_takeable)\n\u001b[0;32m-> 1068\u001b[0m     \u001b[38;5;28;01mreturn\u001b[39;00m \u001b[38;5;28;43mself\u001b[39;49m\u001b[38;5;241;43m.\u001b[39;49m\u001b[43m_getitem_tuple\u001b[49m\u001b[43m(\u001b[49m\u001b[43mkey\u001b[49m\u001b[43m)\u001b[49m\n\u001b[1;32m   1069\u001b[0m \u001b[38;5;28;01melse\u001b[39;00m:\n\u001b[1;32m   1070\u001b[0m     \u001b[38;5;66;03m# we by definition only have the 0th axis\u001b[39;00m\n\u001b[1;32m   1071\u001b[0m     axis \u001b[38;5;241m=\u001b[39m \u001b[38;5;28mself\u001b[39m\u001b[38;5;241m.\u001b[39maxis \u001b[38;5;129;01mor\u001b[39;00m \u001b[38;5;241m0\u001b[39m\n",
      "File \u001b[0;32m/opt/conda/lib/python3.9/site-packages/pandas/core/indexing.py:1257\u001b[0m, in \u001b[0;36m_LocIndexer._getitem_tuple\u001b[0;34m(self, tup)\u001b[0m\n\u001b[1;32m   1254\u001b[0m \u001b[38;5;28;01mif\u001b[39;00m \u001b[38;5;28mself\u001b[39m\u001b[38;5;241m.\u001b[39m_multi_take_opportunity(tup):\n\u001b[1;32m   1255\u001b[0m     \u001b[38;5;28;01mreturn\u001b[39;00m \u001b[38;5;28mself\u001b[39m\u001b[38;5;241m.\u001b[39m_multi_take(tup)\n\u001b[0;32m-> 1257\u001b[0m \u001b[38;5;28;01mreturn\u001b[39;00m \u001b[38;5;28;43mself\u001b[39;49m\u001b[38;5;241;43m.\u001b[39;49m\u001b[43m_getitem_tuple_same_dim\u001b[49m\u001b[43m(\u001b[49m\u001b[43mtup\u001b[49m\u001b[43m)\u001b[49m\n",
      "File \u001b[0;32m/opt/conda/lib/python3.9/site-packages/pandas/core/indexing.py:925\u001b[0m, in \u001b[0;36m_LocationIndexer._getitem_tuple_same_dim\u001b[0;34m(self, tup)\u001b[0m\n\u001b[1;32m    922\u001b[0m \u001b[38;5;28;01mif\u001b[39;00m com\u001b[38;5;241m.\u001b[39mis_null_slice(key):\n\u001b[1;32m    923\u001b[0m     \u001b[38;5;28;01mcontinue\u001b[39;00m\n\u001b[0;32m--> 925\u001b[0m retval \u001b[38;5;241m=\u001b[39m \u001b[38;5;28;43mgetattr\u001b[39;49m\u001b[43m(\u001b[49m\u001b[43mretval\u001b[49m\u001b[43m,\u001b[49m\u001b[43m \u001b[49m\u001b[38;5;28;43mself\u001b[39;49m\u001b[38;5;241;43m.\u001b[39;49m\u001b[43mname\u001b[49m\u001b[43m)\u001b[49m\u001b[38;5;241;43m.\u001b[39;49m\u001b[43m_getitem_axis\u001b[49m\u001b[43m(\u001b[49m\u001b[43mkey\u001b[49m\u001b[43m,\u001b[49m\u001b[43m \u001b[49m\u001b[43maxis\u001b[49m\u001b[38;5;241;43m=\u001b[39;49m\u001b[43mi\u001b[49m\u001b[43m)\u001b[49m\n\u001b[1;32m    926\u001b[0m \u001b[38;5;66;03m# We should never have retval.ndim < self.ndim, as that should\u001b[39;00m\n\u001b[1;32m    927\u001b[0m \u001b[38;5;66;03m#  be handled by the _getitem_lowerdim call above.\u001b[39;00m\n\u001b[1;32m    928\u001b[0m \u001b[38;5;28;01massert\u001b[39;00m retval\u001b[38;5;241m.\u001b[39mndim \u001b[38;5;241m==\u001b[39m \u001b[38;5;28mself\u001b[39m\u001b[38;5;241m.\u001b[39mndim\n",
      "File \u001b[0;32m/opt/conda/lib/python3.9/site-packages/pandas/core/indexing.py:1300\u001b[0m, in \u001b[0;36m_LocIndexer._getitem_axis\u001b[0;34m(self, key, axis)\u001b[0m\n\u001b[1;32m   1297\u001b[0m \u001b[38;5;28;01mif\u001b[39;00m \u001b[38;5;129;01mnot\u001b[39;00m (\u001b[38;5;28misinstance\u001b[39m(key, \u001b[38;5;28mtuple\u001b[39m) \u001b[38;5;129;01mand\u001b[39;00m \u001b[38;5;28misinstance\u001b[39m(labels, MultiIndex)):\n\u001b[1;32m   1299\u001b[0m     \u001b[38;5;28;01mif\u001b[39;00m \u001b[38;5;28mhasattr\u001b[39m(key, \u001b[38;5;124m\"\u001b[39m\u001b[38;5;124mndim\u001b[39m\u001b[38;5;124m\"\u001b[39m) \u001b[38;5;129;01mand\u001b[39;00m key\u001b[38;5;241m.\u001b[39mndim \u001b[38;5;241m>\u001b[39m \u001b[38;5;241m1\u001b[39m:\n\u001b[0;32m-> 1300\u001b[0m         \u001b[38;5;28;01mraise\u001b[39;00m \u001b[38;5;167;01mValueError\u001b[39;00m(\u001b[38;5;124m\"\u001b[39m\u001b[38;5;124mCannot index with multidimensional key\u001b[39m\u001b[38;5;124m\"\u001b[39m)\n\u001b[1;32m   1302\u001b[0m     \u001b[38;5;28;01mreturn\u001b[39;00m \u001b[38;5;28mself\u001b[39m\u001b[38;5;241m.\u001b[39m_getitem_iterable(key, axis\u001b[38;5;241m=\u001b[39maxis)\n\u001b[1;32m   1304\u001b[0m \u001b[38;5;66;03m# nested tuple slicing\u001b[39;00m\n",
      "\u001b[0;31mValueError\u001b[0m: Cannot index with multidimensional key"
     ]
    }
   ],
   "source": [
    "#param_data2 = param_data.loc[:,data_header]"
   ]
  },
  {
   "cell_type": "code",
   "execution_count": 25,
   "id": "a8f261d8-90fb-4c0c-b0a1-262474750a5f",
   "metadata": {},
   "outputs": [
    {
     "data": {
      "text/html": [
       "<div>\n",
       "<style scoped>\n",
       "    .dataframe tbody tr th:only-of-type {\n",
       "        vertical-align: middle;\n",
       "    }\n",
       "\n",
       "    .dataframe tbody tr th {\n",
       "        vertical-align: top;\n",
       "    }\n",
       "\n",
       "    .dataframe thead th {\n",
       "        text-align: right;\n",
       "    }\n",
       "</style>\n",
       "<table border=\"1\" class=\"dataframe\">\n",
       "  <thead>\n",
       "    <tr style=\"text-align: right;\">\n",
       "      <th></th>\n",
       "      <th>BNL10</th>\n",
       "      <th>20120619</th>\n",
       "      <th>CAAQ</th>\n",
       "      <th>447.4</th>\n",
       "      <th>24.2</th>\n",
       "      <th>56.53</th>\n",
       "      <th>25.29</th>\n",
       "      <th>1.37</th>\n",
       "      <th>18.49</th>\n",
       "      <th>Unnamed: 9</th>\n",
       "      <th>Unnamed: 10</th>\n",
       "      <th>Unnamed: 11</th>\n",
       "      <th>Unnamed: 12</th>\n",
       "      <th>Unnamed: 13</th>\n",
       "    </tr>\n",
       "  </thead>\n",
       "  <tbody>\n",
       "    <tr>\n",
       "      <th>0</th>\n",
       "      <td>BNL11</td>\n",
       "      <td>20120619</td>\n",
       "      <td>CAAQ</td>\n",
       "      <td>457.4</td>\n",
       "      <td>25.9</td>\n",
       "      <td>58.78</td>\n",
       "      <td>26.89</td>\n",
       "      <td>1.52</td>\n",
       "      <td>17.66</td>\n",
       "      <td>NaN</td>\n",
       "      <td>NaN</td>\n",
       "      <td>NaN</td>\n",
       "      <td>NaN</td>\n",
       "      <td>NaN</td>\n",
       "    </tr>\n",
       "    <tr>\n",
       "      <th>1</th>\n",
       "      <td>BNL12</td>\n",
       "      <td>20120619</td>\n",
       "      <td>CAAQ</td>\n",
       "      <td>447.0</td>\n",
       "      <td>27.1</td>\n",
       "      <td>87.04</td>\n",
       "      <td>38.91</td>\n",
       "      <td>2.36</td>\n",
       "      <td>16.49</td>\n",
       "      <td>NaN</td>\n",
       "      <td>NaN</td>\n",
       "      <td>NaN</td>\n",
       "      <td>NaN</td>\n",
       "      <td>NaN</td>\n",
       "    </tr>\n",
       "    <tr>\n",
       "      <th>2</th>\n",
       "      <td>BNL13</td>\n",
       "      <td>20120619</td>\n",
       "      <td>CAAQ</td>\n",
       "      <td>456.2</td>\n",
       "      <td>23.0</td>\n",
       "      <td>68.43</td>\n",
       "      <td>31.22</td>\n",
       "      <td>1.57</td>\n",
       "      <td>19.83</td>\n",
       "      <td>NaN</td>\n",
       "      <td>NaN</td>\n",
       "      <td>NaN</td>\n",
       "      <td>NaN</td>\n",
       "      <td>NaN</td>\n",
       "    </tr>\n",
       "    <tr>\n",
       "      <th>3</th>\n",
       "      <td>BNL14</td>\n",
       "      <td>20120619</td>\n",
       "      <td>CAAQ</td>\n",
       "      <td>460.6</td>\n",
       "      <td>26.7</td>\n",
       "      <td>114.05</td>\n",
       "      <td>52.53</td>\n",
       "      <td>3.05</td>\n",
       "      <td>17.25</td>\n",
       "      <td>NaN</td>\n",
       "      <td>NaN</td>\n",
       "      <td>NaN</td>\n",
       "      <td>NaN</td>\n",
       "      <td>NaN</td>\n",
       "    </tr>\n",
       "    <tr>\n",
       "      <th>4</th>\n",
       "      <td>BNL15</td>\n",
       "      <td>20120619</td>\n",
       "      <td>CAAQ</td>\n",
       "      <td>451.7</td>\n",
       "      <td>29.7</td>\n",
       "      <td>62.17</td>\n",
       "      <td>28.08</td>\n",
       "      <td>1.85</td>\n",
       "      <td>15.21</td>\n",
       "      <td>NaN</td>\n",
       "      <td>NaN</td>\n",
       "      <td>NaN</td>\n",
       "      <td>NaN</td>\n",
       "      <td>NaN</td>\n",
       "    </tr>\n",
       "  </tbody>\n",
       "</table>\n",
       "</div>"
      ],
      "text/plain": [
       "   BNL10  20120619  CAAQ  447.4  24.2   56.53  25.29  1.37  18.49 Unnamed: 9  \\\n",
       "0  BNL11  20120619  CAAQ  457.4  25.9   58.78  26.89  1.52  17.66        NaN   \n",
       "1  BNL12  20120619  CAAQ  447.0  27.1   87.04  38.91  2.36  16.49        NaN   \n",
       "2  BNL13  20120619  CAAQ  456.2  23.0   68.43  31.22  1.57  19.83        NaN   \n",
       "3  BNL14  20120619  CAAQ  460.6  26.7  114.05  52.53  3.05  17.25        NaN   \n",
       "4  BNL15  20120619  CAAQ  451.7  29.7   62.17  28.08  1.85  15.21        NaN   \n",
       "\n",
       "   Unnamed: 10 Unnamed: 11  Unnamed: 12 Unnamed: 13  \n",
       "0          NaN         NaN          NaN         NaN  \n",
       "1          NaN         NaN          NaN         NaN  \n",
       "2          NaN         NaN          NaN         NaN  \n",
       "3          NaN         NaN          NaN         NaN  \n",
       "4          NaN         NaN          NaN         NaN  "
      ]
     },
     "execution_count": 25,
     "metadata": {},
     "output_type": "execute_result"
    }
   ],
   "source": [
    "param_data.head()"
   ]
  },
  {
   "cell_type": "code",
   "execution_count": 24,
   "id": "af2e5203-2713-4a67-b624-aba34012e723",
   "metadata": {},
   "outputs": [
    {
     "data": {
      "text/html": [
       "<div>\n",
       "<style scoped>\n",
       "    .dataframe tbody tr th:only-of-type {\n",
       "        vertical-align: middle;\n",
       "    }\n",
       "\n",
       "    .dataframe tbody tr th {\n",
       "        vertical-align: top;\n",
       "    }\n",
       "\n",
       "    .dataframe thead th {\n",
       "        text-align: right;\n",
       "    }\n",
       "</style>\n",
       "<table border=\"1\" class=\"dataframe\">\n",
       "  <thead>\n",
       "    <tr style=\"text-align: right;\">\n",
       "      <th></th>\n",
       "      <th>Sample_ID</th>\n",
       "      <th>Date</th>\n",
       "      <th>USDA_Species_Code</th>\n",
       "      <th>C_mass</th>\n",
       "      <th>N_mass</th>\n",
       "      <th>LMA</th>\n",
       "      <th>C_area</th>\n",
       "      <th>N_area</th>\n",
       "      <th>CN_ratio</th>\n",
       "      <th>Area</th>\n",
       "      <th>Polygon</th>\n",
       "      <th>Zone</th>\n",
       "      <th>Replicate_flag</th>\n",
       "      <th>Sample_pair</th>\n",
       "    </tr>\n",
       "  </thead>\n",
       "  <tbody>\n",
       "  </tbody>\n",
       "</table>\n",
       "</div>"
      ],
      "text/plain": [
       "Empty DataFrame\n",
       "Columns: [Sample_ID, Date, USDA_Species_Code, C_mass, N_mass, LMA, C_area, N_area, CN_ratio, Area, Polygon, Zone, Replicate_flag, Sample_pair]\n",
       "Index: []"
      ]
     },
     "execution_count": 24,
     "metadata": {},
     "output_type": "execute_result"
    }
   ],
   "source": [
    "data_header"
   ]
  },
  {
   "cell_type": "code",
   "execution_count": 40,
   "id": "cb146e1c-7942-4553-a8cc-18d02fc4408a",
   "metadata": {},
   "outputs": [
    {
     "data": {
      "image/png": "[encoded data removed]",
      "text/plain": [
       "<Figure size 864x576 with 1 Axes>"
      ]
     },
     "metadata": {
      "needs_background": "light"
     },
     "output_type": "display_data"
    }
   ],
   "source": [
    "fig = plt.figure(figsize=(12, 8))\n",
    "ax = fig.add_subplot(1, 1, 1)\n",
    "\n",
    "#param_data.iloc[:,4].where(param_data.iloc[:,4]>0).plot(ax=ax, kind='line')\n",
    "\n",
    "\n",
    "ax.hist(param_data.iloc[:,4].where(param_data.iloc[:,4]>0))\n",
    " \n",
    "# Show plot\n",
    "plt.show()"
   ]
  },
  {
   "cell_type": "code",
   "execution_count": 34,
   "id": "79ffd71f-9ad4-410e-b782-e00e62de6258",
   "metadata": {},
   "outputs": [
    {
     "data": {
      "text/plain": [
       "0       25.9\n",
       "1       27.1\n",
       "2       23.0\n",
       "3       26.7\n",
       "4       29.7\n",
       "        ... \n",
       "1630    14.8\n",
       "1631    20.9\n",
       "1632    16.8\n",
       "1633     9.6\n",
       "1634    22.6\n",
       "Name: 24.2, Length: 1635, dtype: float64"
      ]
     },
     "execution_count": 34,
     "metadata": {},
     "output_type": "execute_result"
    }
   ],
   "source": [
    "param_data.iloc[:,4]"
   ]
  },
  {
   "cell_type": "code",
   "execution_count": null,
   "id": "ca5bc72d-1e33-4dbd-a045-92f177488549",
   "metadata": {},
   "outputs": [],
   "source": []
  }
 ],
 "metadata": {
  "kernelspec": {
   "display_name": "Python 3 (ipykernel)",
   "language": "python",
   "name": "python3"
  },
  "language_info": {
   "codemirror_mode": {
    "name": "ipython",
    "version": 3
   },
   "file_extension": ".py",
   "mimetype": "text/x-python",
   "name": "python",
   "nbconvert_exporter": "python",
   "pygments_lexer": "ipython3",
   "version": "3.9.10"
  }
 },
 "nbformat": 4,
 "nbformat_minor": 5
}
