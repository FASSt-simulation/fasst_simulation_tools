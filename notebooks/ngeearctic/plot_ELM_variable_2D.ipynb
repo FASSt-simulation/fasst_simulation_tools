{
 "cells": [
  {
   "cell_type": "markdown",
   "id": "60e8dd6e",
   "metadata": {},
   "source": [
    "<center><img src=\"https://github.com/FASSt-simulation/fasst_simulation_tools/raw/main/images/site-logo.png\" width=150 height=150 alt=\"NGEE-Arctic Logo\"/></center>\n",
    "\n",
    "# An example of reading in and plotting one variable from ELM output."
   ]
  },
  {
   "cell_type": "markdown",
   "id": "12f0ad2a-3fb4-46e1-b40f-ef0def6d842b",
   "metadata": {},
   "source": [
    "#### ----------------------------------------------------------------------------------------------------------------------\n",
    "\n",
    "<br>\n",
    "\n",
    "To run this script and generate the resulting ELM plots we need specific Python libraries.  This step loads those required libraries"
   ]
  },
  {
   "cell_type": "code",
   "execution_count": null,
   "id": "ad916fe0-2b77-4a21-befa-04927169a764",
   "metadata": {},
   "outputs": [],
   "source": [
    "import matplotlib.pyplot as plt\n",
    "import xarray\n",
    "import os\n",
    "import ipywidgets as widgets\n",
    "import glob, numpy"
   ]
  },
  {
   "cell_type": "markdown",
   "id": "b27dfdfc",
   "metadata": {},
   "source": [
    "Next, we locate the output data and identify which sites there is output for. This code creates a dropdown menu to pick the model run you want to plot."
   ]
  },
  {
   "cell_type": "code",
   "execution_count": null,
   "id": "a2a7fd2d-5bb4-4ce2-a607-dab18fb9e147",
   "metadata": {},
   "outputs": [],
   "source": [
    "output_rootdir=os.path.expanduser('~')+'/output/cime_run_dirs/'\n",
    "cases=sorted(glob.glob(\"%s*20TR*\" % output_rootdir))\n",
    "cases=[os.path.basename(x) for x in cases]\n",
    "cases_dropdown = widgets.Dropdown(options=cases,\n",
    "                                description='Choose Case Name:',\n",
    "                                style={'description_width':'auto'},\n",
    "                                layout={'width':'max-content'},\n",
    "                                disabled=False)"
   ]
  },
  {
   "cell_type": "code",
   "execution_count": null,
   "id": "7a949f9f-ecfc-46f5-bcb7-64b34c8531be",
   "metadata": {},
   "outputs": [],
   "source": [
    "display(cases_dropdown)"
   ]
  },
  {
   "cell_type": "markdown",
   "id": "f7b24015",
   "metadata": {},
   "source": [
    "Check that a combined output file exists, and pick whether to use the data with plant functional types separated (if it exists)"
   ]
  },
  {
   "cell_type": "code",
   "execution_count": null,
   "id": "201eb981-99fc-48ed-9546-3a06f7fc2b2c",
   "metadata": {},
   "outputs": [],
   "source": [
    "output_file=output_rootdir + cases_dropdown.value + '/run/ELM_output.nc'\n",
    "\n",
    "if os.path.exists(output_rootdir + cases_dropdown.value + '/run/ELM_output_PFT.nc'):\n",
    "    hasPFTs=True\n",
    "    print('Model output includes data for individual PFTs')\n",
    "else:\n",
    "    hasPFTs=False\n",
    "    print('Model output does not include data for individual PFTs')\n",
    "\n",
    "PFT_picker=widgets.RadioButtons(options=['Combined PFTs','Individual PFTs'],\n",
    "                                value='Combined PFTs',\n",
    "                                disabled=not hasPFTs,\n",
    "                                description='Plot combined or individual plant functional types?',\n",
    "                                layout={'width':'max-content'},\n",
    "                                style={'description_width':'auto'},\n",
    "                                )"
   ]
  },
  {
   "cell_type": "code",
   "execution_count": null,
   "id": "14fec6d2-1d3a-4267-a632-9e987eb201f9",
   "metadata": {},
   "outputs": [],
   "source": [
    "display(PFT_picker)"
   ]
  },
  {
   "cell_type": "markdown",
   "id": "b6b469a5",
   "metadata": {},
   "source": [
    "Here, we are using the combined output file over all years of the run. We read in the list of variables, units, and longer descriptions from the dataset. We use the time variable from the dataset to determine the start and end years."
   ]
  },
  {
   "cell_type": "code",
   "execution_count": null,
   "id": "ca5cab4f-fe37-45b4-a75d-c716a6b14e45",
   "metadata": {},
   "outputs": [],
   "source": [
    "if PFT_picker.value=='Combined PFTs':\n",
    "    output_file=output_rootdir + cases_dropdown.value + '/run/ELM_output.nc'\n",
    "else:\n",
    "    output_file=output_rootdir + cases_dropdown.value + '/run/ELM_output_PFT.nc'\n",
    "\n",
    "# Read in the list of variable, units, and longer descriptions from the dataset\n",
    "with xarray.open_dataset(output_file) as data:\n",
    "    vars=data.variables\n",
    "    vars_names=list(vars.keys())\n",
    "    units=[data[var].attrs.get('units',None) for var in vars_names]\n",
    "    longnames=[data[var].attrs.get('long_name',None) for var in vars_names]\n",
    "\n",
    "    description=[f'{var} ({longname}) [{unit}]' for (var,longname,unit) in zip(vars_names,units,longnames)]\n",
    "\n",
    "    # Determine start and end year of the dataset\n",
    "    data_startyear=data.time[0].item().year\n",
    "    data_endyear=data.time[-1].item().year\n",
    "\n",
    "# Read PFT names from parameter file\n",
    "paramfile=output_rootdir + cases_dropdown.value + '/run/clm_params.nc'\n",
    "with xarray.open_dataset(paramfile) as params:\n",
    "    PFTnames=[name.strip() for name in params['pftname'].values.astype(str)]\n",
    "\n",
    "vars_dropdown = widgets.Dropdown(options=list(zip(description,vars_names)),\n",
    "                                description='Choose Variable Name',\n",
    "                                style={'description_width':'auto'},\n",
    "                                value='GPP',\n",
    "                                layout={'width':'max-content'},\n",
    "                                disabled=False)\n",
    "startyear_picker = widgets.BoundedIntText(value=data_startyear, min=data_startyear, max=data_endyear, step=1,\n",
    "                                          description='Choose start year',style={'description_width':'auto'})\n",
    "endyear_picker = widgets.BoundedIntText(value=data_endyear, min=data_startyear, max=data_endyear, step=1,\n",
    "                                          description='Choose end year',style={'description_width':'auto'})"
   ]
  },
  {
   "cell_type": "code",
   "execution_count": null,
   "id": "0d57a63c-52d9-4df6-97a4-790db895925e",
   "metadata": {},
   "outputs": [],
   "source": [
    "display(vars_dropdown)\n",
    "display(startyear_picker)\n",
    "display(endyear_picker)"
   ]
  },
  {
   "cell_type": "markdown",
   "id": "c52b4e1a",
   "metadata": {},
   "source": [
    "Using the fields above, you can pick the variable that you want to plot, and the start and end year of the time series to visualize."
   ]
  },
  {
   "cell_type": "markdown",
   "id": "3e27aa2a",
   "metadata": {},
   "source": [
    "Next, we read the variable from the dataset and select the time portion based on start and end year picked above."
   ]
  },
  {
   "cell_type": "code",
   "execution_count": null,
   "id": "cc5fc1ed-ae84-49f5-ad16-2fa02c6f7e49",
   "metadata": {},
   "outputs": [],
   "source": [
    "year_start=startyear_picker.value\n",
    "year_end=endyear_picker.value\n",
    "var=vars_dropdown.value\n",
    "\n",
    "with xarray.open_dataset(output_file).squeeze() as output:\n",
    "    if 'time' not in output[var].dims:\n",
    "        print(f'Variable {var} is not a time-series variable! Plotting will not work.')\n",
    "    else:\n",
    "        vardata=output[var].sel(time=slice(str(year_start),str(year_end)))\n",
    "    \n",
    "    if 'pft' in output.dims:\n",
    "        print('NOTE: Output file is separated by plant functional type')\n"
   ]
  },
  {
   "cell_type": "markdown",
   "id": "65759eef",
   "metadata": {},
   "source": [
    "Finally, we will create a figure and plot the variable. The code checks whether it is depth-defined or not. For depth-defined variables, it plots a two-dimensional time vs depth plot. Otherwise, it plots a time series. For model output that shows each plant functional type individually, it plots the plant functional types separately."
   ]
  },
  {
   "cell_type": "code",
   "execution_count": null,
   "id": "8b805c70-23e9-4607-9547-c8b7f458cbfc",
   "metadata": {},
   "outputs": [],
   "source": [
    "f,a = plt.subplots()\n",
    "\n",
    "if 'levgrnd' in vardata.dims or 'levdcmp' in vardata.dims:\n",
    "    print('Variable is depth-defined. Plotting in two dimensions')\n",
    "    vardata.T.plot()\n",
    "    maxdepth=2.0\n",
    "    a.set_ylim(maxdepth,0.0)\n",
    "    a.set_ylabel('Soil depth (m)')\n",
    "elif 'pft' in vardata.dims:\n",
    "    print('Variable is defined by plant functional type. Plotting one line per PFT. Note, units are per area of each PFT (not normalized by relative PFT areas)')\n",
    "    for pftnum in vardata.pft:\n",
    "        if(pftnum<len(PFTnames)):\n",
    "            pftname=PFTnames[pftnum.item()]\n",
    "        else:\n",
    "            pftname=str(pftnum.item())\n",
    "        if vardata.sel(pft=pftnum).dropna(dim='time').any():\n",
    "            vardata.sel(pft=pftnum).plot(label=f'PFT: {pftname}')\n",
    "    a.legend()\n",
    "else:\n",
    "    print('Variable is not depth-defined. Plotting line plot.')\n",
    "    vardata.plot()"
   ]
  },
  {
   "cell_type": "markdown",
   "id": "91cd77b8-30ac-47c7-a82c-1cad780af0e2",
   "metadata": {},
   "source": [
    "<center><img src=\"https://github.com/FASSt-simulation/fasst_simulation_tools/raw/main/images/site-logo.png\" width=150 height=150 alt=\"NGEE-Arctic Logo\"/></center>"
   ]
  }
 ],
 "metadata": {
  "kernelspec": {
   "display_name": "Python 3 (ipykernel)",
   "language": "python",
   "name": "python3"
  },
  "language_info": {
   "codemirror_mode": {
    "name": "ipython",
    "version": 3
   },
   "file_extension": ".py",
   "mimetype": "text/x-python",
   "name": "python",
   "nbconvert_exporter": "python",
   "pygments_lexer": "ipython3",
   "version": "3.9.10"
  },
  "vscode": {
   "interpreter": {
    "hash": "f2faae03d4f60a9fcc15551e4be59690421db05e71c28b68b57425bbe54727b4"
   }
  }
 },
 "nbformat": 4,
 "nbformat_minor": 5
}
