{
 "cells": [
  {
   "cell_type": "code",
   "execution_count": 1,
   "id": "ad916fe0-2b77-4a21-befa-04927169a764",
   "metadata": {},
   "outputs": [],
   "source": [
    "import matplotlib.pyplot as plt\n",
    "import xarray\n",
    "from netCDF4 import Dataset \n",
    "import os\n",
    "import cftime\n",
    "import ipywidgets as widgets\n",
    "import glob, numpy"
   ]
  },
  {
   "cell_type": "code",
   "execution_count": 2,
   "id": "0752a9fe-c5b5-4c65-b874-639db86db160",
   "metadata": {},
   "outputs": [],
   "source": [
    "# case run output directories\n",
    "output_rootdir=os.path.expanduser('~')+'/output/cime_run_dirs/'\n",
    "cases=numpy.asarray(glob.glob(\"%s*20TR*\" % output_rootdir))\n",
    "cases=[x.split('/')[-1] for x in cases]\n",
    "cases_dropdown = widgets.Dropdown(options=cases,\n",
    "                                description='Chose Case Name:',\n",
    "                                style={'description_width':'auto'},\n",
    "                                layout={'width':'max-content'},\n",
    "                                disabled=False)"
   ]
  },
  {
   "cell_type": "code",
   "execution_count": 3,
   "id": "a6146ed0-4e89-493c-bf1c-d1eeac0e34db",
   "metadata": {},
   "outputs": [
    {
     "data": {
      "application/vnd.jupyter.widget-view+json": {
       "model_id": "b861c6add6fb4e4fa45cae032f0b6bed",
       "version_major": 2,
       "version_minor": 0
      },
      "text/plain": [
       "Dropdown(description='Chose Case Name:', layout=Layout(width='max-content'), options=('OLMT_AK-K64G_ICB20TRCNPR…"
      ]
     },
     "metadata": {},
     "output_type": "display_data"
    }
   ],
   "source": [
    "display(cases_dropdown)"
   ]
  },
  {
   "cell_type": "code",
   "execution_count": 4,
   "id": "33002bda-8d5c-466c-af62-1ac62dd27649",
   "metadata": {},
   "outputs": [],
   "source": [
    "#files\n",
    "output_casedir=output_rootdir+cases_dropdown.value+'/run/'\n",
    "filenames=numpy.asarray(glob.glob(\"%s*.elm.h?.*.nc\" % output_casedir))\n",
    "filenames=sorted([x.split('/')[-1] for x in filenames])\n",
    "if(os.path.exists(output_casedir+'ELM_output.nc')): filenames.insert(0,'ELM_output.nc')\n",
    "\n",
    "ncfiles_dropdown = widgets.Dropdown(options=filenames,\n",
    "                                description='Choose Output File:', \n",
    "                                style={'description_width':'auto'},\n",
    "                                layout={'width':'max-content'},\n",
    "                                disabled=False)"
   ]
  },
  {
   "cell_type": "code",
   "execution_count": 5,
   "id": "06035f79-229d-4273-93c9-ea7a20566644",
   "metadata": {},
   "outputs": [
    {
     "data": {
      "application/vnd.jupyter.widget-view+json": {
       "model_id": "982b0e362d6940adad0921fc7ddc9179",
       "version_major": 2,
       "version_minor": 0
      },
      "text/plain": [
       "Dropdown(description='Choose Output File:', layout=Layout(width='max-content'), options=('OLMT_AK-K64G_ICB20TRC…"
      ]
     },
     "metadata": {},
     "output_type": "display_data"
    }
   ],
   "source": [
    "display(ncfiles_dropdown)"
   ]
  },
  {
   "cell_type": "code",
   "execution_count": 6,
   "id": "d899e19e-561e-424a-9f8b-1b2d5a7611ac",
   "metadata": {},
   "outputs": [],
   "source": [
    "output_file=output_casedir+ncfiles_dropdown.value\n",
    "#hard-wired output file path/name - editable\n",
    "#output_file=output_rootdir+'OLMT_AK-K64G_ICB20TRCNPRDCTCBC/run/ELM_output.nc'"
   ]
  },
  {
   "cell_type": "code",
   "execution_count": 7,
   "id": "6c1856a6-49f9-461d-93aa-17201bc02574",
   "metadata": {},
   "outputs": [],
   "source": [
    "fnc=Dataset(output_file)\n",
    "vars=fnc.variables\n",
    "vars_names=vars.keys()\n",
    "vars_dims={}; vars_units={};\n",
    "for v in vars: \n",
    "    vars_dims[v]=vars[v].dimensions\n",
    "    if(hasattr(vars[v], 'units')):\n",
    "        vars_units[v]=vars[v].units\n",
    "    else:\n",
    "        vars_units[v]='-'    \n",
    "fnc.close()\n",
    "vars_dropdown = widgets.Dropdown(options=vars_names,\n",
    "                                description='Choose Variable Name',\n",
    "                                style={'description_width':'auto'},\n",
    "                                value='GPP',\n",
    "                                layout={'width':'max-content'},\n",
    "                                disabled=False)\n"
   ]
  },
  {
   "cell_type": "code",
   "execution_count": 8,
   "id": "101f8bd2-1003-4dd2-bfd5-c7a34d506040",
   "metadata": {},
   "outputs": [
    {
     "data": {
      "application/vnd.jupyter.widget-view+json": {
       "model_id": "c69fbf1ce5ea446c858aea23dd47a4ea",
       "version_major": 2,
       "version_minor": 0
      },
      "text/plain": [
       "Dropdown(description='Choose Variable Name', index=188, layout=Layout(width='max-content'), options=('levgrnd'…"
      ]
     },
     "metadata": {},
     "output_type": "display_data"
    }
   ],
   "source": [
    "display(vars_dropdown)"
   ]
  },
  {
   "cell_type": "code",
   "execution_count": 9,
   "id": "a0ec6c3b-6955-49ef-b8d1-1866c74c054a",
   "metadata": {},
   "outputs": [],
   "source": [
    "\n",
    "### user inputs for variable NAME, UNIT, scaling, Year starting and ending for plotting\n",
    "\n",
    "# user-forced, i.e. NOT by drop-down above,varialbe name in ELM_output.nc to plot\n",
    "variable_name_user = ''  \n",
    "#variable_name_user = 'TLAI'  \n",
    "\n",
    "if((vars_dropdown.value=='' or 'time' not in vars_dims[vars_dropdown.value]) \\\n",
    "   and variable_name_user==''):\n",
    "    variable_name='GPP'          \n",
    "elif(variable_name_user==''):\n",
    "    variable_name=vars_dropdown.value\n",
    "else:\n",
    "    variable_name=variable_name_user\n",
    "\n",
    "\n",
    "variable_unit=''             # user-defined units, '' for that from ELM_output.nc\n",
    "#variable_unit='ugC/m2/s'     # user-defined units, '' for that from ELM_output.nc\n",
    "\n",
    "variable_multiplier=1         # scaling original data by multiplying this scalor\n",
    "#variable_multiplier=1.e6     # scaling original data by multiplying this scalor\n",
    "\n",
    "yr_start = -9999              # -9999 for default start year in ELM_output.nc\n",
    "#yr_start = 1850              # -9999 for default start year in ELM_output.nc\n",
    "yr_end = -9999               # -9999 for default end year in ELM_output.nc\n",
    "#yr_end = 1850               # -9999 for default end year in ELM_output.nc"
   ]
  },
  {
   "cell_type": "code",
   "execution_count": 10,
   "id": "cc5fc1ed-ae84-49f5-ad16-2fa02c6f7e49",
   "metadata": {},
   "outputs": [],
   "source": [
    "output=xarray.open_dataset(output_file).squeeze()"
   ]
  },
  {
   "cell_type": "code",
   "execution_count": 11,
   "id": "8b805c70-23e9-4607-9547-c8b7f458cbfc",
   "metadata": {},
   "outputs": [],
   "source": [
    "if 'time' in vars_dims[variable_name]:\n",
    "    time = output['time']  ### time dimension, put in unit of years\n",
    "    if(yr_start!=-9999):\n",
    "        t0 = cftime.DatetimeNoLeap(yr_start, 1, 1, 0, 0, 0, 0, has_year_zero=True)\n",
    "        time=time.where(time.time>t0, drop=True)\n",
    "    if(yr_end!=-9999):\n",
    "        t1 = cftime.DatetimeNoLeap(yr_end+1, 1, 1, 0, 0, 0, 0, has_year_zero=True)\n",
    "        time=time.where(time.time<t1, drop=True)\n",
    "else:\n",
    "    print(\"NOT a time-series variable: \", variable_name)\n",
    "\n",
    "if 'lndgrid' in output:\n",
    "    grc_num=output['lndgrid']\n",
    "    #print(grc_num)\n",
    "if 'levgrnd' in vars_dims[variable_name]:\n",
    "    soil_layer=output['levgrnd']\n",
    "    #print(soil_layer)\n",
    "if 'levdcmp' in vars_dims[variable_name]:\n",
    "    soil2_layer=output['levdcmp']\n",
    "    #print(soil2_layer)\n",
    "if 'pft' in vars_dims[variable_name]:\n",
    "    pft_index=output['pft']\n",
    "    #print(pft_index)\n",
    "\n",
    "var_data = output[variable_name]*variable_multiplier\n",
    "\n",
    "if(yr_start!=-9999 and 'time' in vars_dims[variable_name]):\n",
    "    t0 = cftime.DatetimeNoLeap(yr_start, 1, 1, 0, 0, 0, 0, has_year_zero=True)\n",
    "    var_data=var_data.where(var_data.time>t0, drop=True)\n",
    "if(yr_end!=-9999 and 'time' in vars_dims[variable_name]):\n",
    "    t1 = cftime.DatetimeNoLeap(yr_end+1, 1, 1, 0, 0, 0, 0, has_year_zero=True)\n",
    "    var_data=var_data.where(var_data.time<t1, drop=True)\n",
    "\n",
    "\n",
    "\n",
    "if variable_unit=='':\n",
    "    var_unit = vars_units[variable_name]\n",
    "    if variable_multiplier!=1: var_unit=str(1.0/variable_multiplier)+var_unit\n",
    "else:\n",
    "    var_unit = variable_unit\n"
   ]
  },
  {
   "cell_type": "code",
   "execution_count": 12,
   "id": "7e884834-822a-4cc4-9c76-1ba265615f9a",
   "metadata": {},
   "outputs": [
    {
     "data": {
      "text/plain": [
       "Text(0, 0.5, 'GPP (gC/m^2/s)')"
      ]
     },
     "execution_count": 12,
     "metadata": {},
     "output_type": "execute_result"
    },
    {
     "data": {
      "image/png": "[encoded data removed]",
      "text/plain": [
       "<Figure size 432x288 with 1 Axes>"
      ]
     },
     "metadata": {
      "needs_background": "light"
     },
     "output_type": "display_data"
    }
   ],
   "source": [
    "if ('lndgrid' in vars_dims[variable_name] and grc_num>1):\n",
    "    grc_index = 0  # user-editable\n",
    "    plt.plot(time,var_data[...,grc_index], label=variable_name)\n",
    "elif ('column' in vars_dims[variable_name]):\n",
    "    col_index = 0  # user-editable\n",
    "    plt.plot(time,var_data[...,col_index], label=variable_name)\n",
    "else:\n",
    "    plt.plot(time, var_data, label=variable_name)\n",
    "\n",
    "#if multiple PFTs, pick its index, e.g. 11 (started from 0)\n",
    "#plt.plot(time, var_data[...,11], label=variable_name)\n",
    "\n",
    "#if layered soil variables, pick specified layer, e.g. 4 (started from 0)\n",
    "#plt.plot(time, var_data[...,4], label=variable_name)\n",
    "\n",
    "plt.xlabel(''.join(['Time (YYYY-MM-DD)']))\n",
    "plt.ylabel(''.join([variable_name,' (',var_unit, ')']))"
   ]
  },
  {
   "cell_type": "code",
   "execution_count": null,
   "id": "da958003-7cbe-4a26-b7f2-a29aa386cf95",
   "metadata": {},
   "outputs": [],
   "source": []
  }
 ],
 "metadata": {
  "kernelspec": {
   "display_name": "Python 3 (ipykernel)",
   "language": "python",
   "name": "python3"
  },
  "language_info": {
   "codemirror_mode": {
    "name": "ipython",
    "version": 3
   },
   "file_extension": ".py",
   "mimetype": "text/x-python",
   "name": "python",
   "nbconvert_exporter": "python",
   "pygments_lexer": "ipython3",
   "version": "3.9.10"
  }
 },
 "nbformat": 4,
 "nbformat_minor": 5
}
