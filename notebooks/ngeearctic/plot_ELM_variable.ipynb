{
 "cells": [
  {
   "cell_type": "code",
   "execution_count": 1,
   "id": "ad916fe0-2b77-4a21-befa-04927169a764",
   "metadata": {},
   "outputs": [],
   "source": [
    "import matplotlib.pyplot as plt\n",
    "import xarray\n",
    "from netCDF4 import Dataset \n",
    "import os\n",
    "import cftime\n",
    "import ipywidgets as widgets\n",
    "import glob, numpy"
   ]
  },
  {
   "cell_type": "code",
   "execution_count": 2,
   "id": "01b6b891-92f3-4d8e-b08c-e0f85f52e498",
   "metadata": {},
   "outputs": [
    {
     "data": {
      "application/vnd.jupyter.widget-view+json": {
       "model_id": "02bfe89aa12e4992b210f534a9e538d5",
       "version_major": 2,
       "version_minor": 0
      },
      "text/plain": [
       "Dropdown(description='CaseName:', options=('OLMT_AK-K64G_ICB20TRCNPRDCTCBC',), value='OLMT_AK-K64G_ICB20TRCNPRDCTC…"
      ]
     },
     "metadata": {},
     "output_type": "display_data"
    }
   ],
   "source": [
    "output_rootdir=os.path.expanduser('~')+'/output/cime_run_dirs/'\n",
    "cases=numpy.asarray(glob.glob(\"%s*20TR*\" % output_rootdir))\n",
    "cases=[x.split('/')[-1] for x in cases]\n",
    "cases_dropdown = widgets.Dropdown(options=cases,\n",
    "                                description='CaseName:',\n",
    "                                disabled=False)\n",
    "display(cases_dropdown)\n",
    "\n"
   ]
  },
  {
   "cell_type": "code",
   "execution_count": 3,
   "id": "189621db-21df-4a3b-9d03-83233550e7b1",
   "metadata": {},
   "outputs": [
    {
     "data": {
      "application/vnd.jupyter.widget-view+json": {
       "model_id": "9ea4167f05ca4e42873742b2567696cb",
       "version_major": 2,
       "version_minor": 0
      },
      "text/plain": [
       "Dropdown(description='OutputFileName:', index=13, options=('OLMT_AK-K64G_ICB20TRCNPRDCTCBC.elm.h0.1850-01-01-000…"
      ]
     },
     "metadata": {},
     "output_type": "display_data"
    }
   ],
   "source": [
    "output_casedir=output_rootdir+cases_dropdown.value+'/run/'\n",
    "filenames=numpy.asarray(glob.glob(\"%s*elm*.nc\" % output_casedir))\n",
    "filenames=sorted([x.split('/')[-1] for x in filenames])\n",
    "if(os.path.exists(output_casedir+'ELM_output.nc')): filenames.append('ELM_output.nc')\n",
    "ncfiles_dropdown = widgets.Dropdown(options=filenames,\n",
    "                                description='OutputFileName:',\n",
    "                                value='ELM_output.nc',\n",
    "                                disabled=False)\n",
    "display(ncfiles_dropdown)"
   ]
  },
  {
   "cell_type": "code",
   "execution_count": 4,
   "id": "d899e19e-561e-424a-9f8b-1b2d5a7611ac",
   "metadata": {},
   "outputs": [],
   "source": [
    "output_file=output_casedir+ncfiles_dropdown.value\n",
    "#hard-wired output file path/name - editable\n",
    "#output_file=output_rootdir+'OLMT_AK-K64G_ICB20TRCNPRDCTCBC/run/ELM_output.nc'"
   ]
  },
  {
   "cell_type": "code",
   "execution_count": 5,
   "id": "6c1856a6-49f9-461d-93aa-17201bc02574",
   "metadata": {},
   "outputs": [],
   "source": [
    "fnc=Dataset(output_file)\n",
    "vars=fnc.variables\n",
    "vars_names=vars.keys()\n",
    "vars_dims={}; vars_units={};\n",
    "for v in vars: \n",
    "    vars_dims[v]=vars[v].dimensions\n",
    "    if(hasattr(vars[v], 'units')):\n",
    "        vars_units[v]=vars[v].units\n",
    "    else:\n",
    "        vars_units[v]='-'    \n",
    "fnc.close()\n",
    "vars_dropdown = widgets.Dropdown(options=vars_names,\n",
    "                                description='Choose',\n",
    "                                value='GPP',\n",
    "                                disabled=False)\n"
   ]
  },
  {
   "cell_type": "code",
   "execution_count": 6,
   "id": "101f8bd2-1003-4dd2-bfd5-c7a34d506040",
   "metadata": {},
   "outputs": [
    {
     "data": {
      "application/vnd.jupyter.widget-view+json": {
       "model_id": "2b4b35b0f0324ca48e40c097aad577c1",
       "version_major": 2,
       "version_minor": 0
      },
      "text/plain": [
       "Dropdown(description='Choose', index=73, options=('levgrnd', 'levlak', 'levdcmp', 'time', 'mcdate', 'mcsec', '…"
      ]
     },
     "metadata": {},
     "output_type": "display_data"
    }
   ],
   "source": [
    "display(vars_dropdown)"
   ]
  },
  {
   "cell_type": "code",
   "execution_count": 7,
   "id": "a0ec6c3b-6955-49ef-b8d1-1866c74c054a",
   "metadata": {},
   "outputs": [],
   "source": [
    "\n",
    "### user inputs for variable NAME, UNIT, scaling, Year starting and ending for plotting\n",
    "\n",
    "# user-forced, i.e. NOT by drop-down above,varialbe name in ELM_output.nc to plot\n",
    "variable_name_user = ''  \n",
    "#variable_name_user = 'TLAI'  \n",
    "\n",
    "if((vars_dropdown.value=='' or 'time' not in vars_dims[vars_dropdown.value]) \\\n",
    "   and variable_name_user==''):\n",
    "    variable_name='GPP'          \n",
    "elif(variable_name_user==''):\n",
    "    variable_name=vars_dropdown.value\n",
    "else:\n",
    "    variable_name=variable_name_user\n",
    "\n",
    "\n",
    "variable_unit=''             # user-defined units, '' for that from ELM_output.nc\n",
    "#variable_unit='ugC/m2/s'     # user-defined units, '' for that from ELM_output.nc\n",
    "\n",
    "variable_multiplier=1         # scaling original data by multiplying this scalor\n",
    "#variable_multiplier=1.e6     # scaling original data by multiplying this scalor\n",
    "\n",
    "#yr_start = -9999              # -9999 for default start year in ELM_output.nc\n",
    "yr_start = 1850              # -9999 for default start year in ELM_output.nc\n",
    "#yr_end = -9999               # -9999 for default end year in ELM_output.nc\n",
    "yr_end = 1850               # -9999 for default end year in ELM_output.nc"
   ]
  },
  {
   "cell_type": "code",
   "execution_count": 8,
   "id": "cc5fc1ed-ae84-49f5-ad16-2fa02c6f7e49",
   "metadata": {},
   "outputs": [],
   "source": [
    "output=xarray.open_dataset(output_file).squeeze()"
   ]
  },
  {
   "cell_type": "code",
   "execution_count": 9,
   "id": "8b805c70-23e9-4607-9547-c8b7f458cbfc",
   "metadata": {},
   "outputs": [],
   "source": [
    "if 'time' in vars_dims[variable_name]:\n",
    "    time = output['time']  ### time dimension, put in unit of years\n",
    "    if(yr_start!=-9999):\n",
    "        t0 = cftime.DatetimeNoLeap(yr_start, 1, 1, 0, 0, 0, 0, has_year_zero=True)\n",
    "        time=time.where(time.time>t0, drop=True)\n",
    "    if(yr_end!=-9999):\n",
    "        t1 = cftime.DatetimeNoLeap(yr_end+1, 1, 1, 0, 0, 0, 0, has_year_zero=True)\n",
    "        time=time.where(time.time<t1, drop=True)\n",
    "else:\n",
    "    print(\"NOT a time-series variable: \", variable_name)\n",
    "    \n",
    "if 'levgrnd' in vars_dims[variable_name]:\n",
    "    soil_depth=output['levgrnd']\n",
    "    #print(soil_depth)\n",
    "if 'levdcmp' in vars_dims[variable_name]:\n",
    "    soil_depth=output['levdcmp']\n",
    "    #print(soil_depth)\n",
    "if 'pft' in vars_dims[variable_name]:\n",
    "    pft_index=output['pft']\n",
    "    #print(pft_index)\n",
    "\n",
    "var_data = output[variable_name]*variable_multiplier\n",
    "if ('column' in vars_dims[variable_name]):\n",
    "    var_data = var_data[...,0]\n",
    "\n",
    "if(yr_start!=-9999 and 'time' in vars_dims[variable_name]):\n",
    "    t0 = cftime.DatetimeNoLeap(yr_start, 1, 1, 0, 0, 0, 0, has_year_zero=True)\n",
    "    var_data=var_data.where(var_data.time>t0, drop=True)\n",
    "if(yr_end!=-9999 and 'time' in vars_dims[variable_name]):\n",
    "    t1 = cftime.DatetimeNoLeap(yr_end+1, 1, 1, 0, 0, 0, 0, has_year_zero=True)\n",
    "    var_data=var_data.where(var_data.time<t1, drop=True)\n",
    "\n",
    "\n",
    "\n",
    "if variable_unit=='':\n",
    "    var_unit = vars_units[variable_name]\n",
    "    if variable_multiplier!=1: var_unit=str(1.0/variable_multiplier)+var_unit\n",
    "else:\n",
    "    var_unit = variable_unit\n"
   ]
  },
  {
   "cell_type": "code",
   "execution_count": 10,
   "id": "7e884834-822a-4cc4-9c76-1ba265615f9a",
   "metadata": {},
   "outputs": [
    {
     "data": {
      "text/plain": [
       "Text(0, 0.5, 'GPP (gC/m^2/s)')"
      ]
     },
     "execution_count": 10,
     "metadata": {},
     "output_type": "execute_result"
    },
    {
     "data": {
      "image/png": "[encoded data removed]",
      "text/plain": [
       "<Figure size 432x288 with 1 Axes>"
      ]
     },
     "metadata": {
      "needs_background": "light"
     },
     "output_type": "display_data"
    }
   ],
   "source": [
    "plt.plot(time, var_data, label=variable_name)\n",
    "plt.xlabel(''.join(['Time (YYYY-MM-DD)']))\n",
    "plt.ylabel(''.join([variable_name,' (',var_unit, ')']))"
   ]
  },
  {
   "cell_type": "code",
   "execution_count": null,
   "id": "da958003-7cbe-4a26-b7f2-a29aa386cf95",
   "metadata": {},
   "outputs": [],
   "source": []
  }
 ],
 "metadata": {
  "kernelspec": {
   "display_name": "Python 3 (ipykernel)",
   "language": "python",
   "name": "python3"
  },
  "language_info": {
   "codemirror_mode": {
    "name": "ipython",
    "version": 3
   },
   "file_extension": ".py",
   "mimetype": "text/x-python",
   "name": "python",
   "nbconvert_exporter": "python",
   "pygments_lexer": "ipython3",
   "version": "3.9.10"
  }
 },
 "nbformat": 4,
 "nbformat_minor": 5
}
